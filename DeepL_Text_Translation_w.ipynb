{
  "cells": [
    {
      "cell_type": "markdown",
      "metadata": {
        "id": "view-in-github",
        "colab_type": "text"
      },
      "source": [
        "<a href=\"https://colab.research.google.com/github/william-maillard/DL_text-translation/blob/main/DeepL_Text_Translation_w.ipynb\" target=\"_parent\"><img src=\"https://colab.research.google.com/assets/colab-badge.svg\" alt=\"Open In Colab\"/></a>"
      ]
    },
    {
      "cell_type": "code",
      "execution_count": null,
      "metadata": {
        "id": "NGzNzyfPUT6_"
      },
      "outputs": [],
      "source": [
        "vocab_size = 15000 # Définit le nombre total de mots distincts que le modèle peut reconnaître et générer\n",
        "sequence_length = 50 # La longueur maximale des séquences (phrases ou textes) que le modèle peut traiter. a faire passer a 50\n",
        "batch_size = 64 # Nombre de séquences traitées ensemble à chaque (epochs) étape d'entraînement.\n",
        "embed_dim = 512 # Taille de l'espace de représentation vectorielle dans lequel les mots sont encodés. a tester avec un espace vec de 512\n",
        "num_heads = 8 # Dans les mécanismes d'attention multi-têtes, cela définit combien de sous-espaces d'attention sont créés. tester avec 12 tetes\n",
        "ff_dim = 2048 # Taille de la couche cachée dans les réseaux de neurones feed-forward à l'intérieur des blocs d'encodeur et de décodeur.\n",
        "num_blocks = 8 # Nombre de fois que les blocs d'encodeur ou de décodeur sont répétés dans le modèle. ( peut monter jusqu'a 12) tache simple (2 a 4) a tester avec 12 blocs\n",
        "rnn_units = 512   # Nombre d'unités dans les couches LSTM/GRU a tester avec 512\n",
        "dropout_rate = 0.5 # est utilisée pour désactiver aléatoirement un pourcentage de neurones pendant l'entraînement, agissant ainsi comme une forme de régularisation.\n",
        "latent_dim=1024 # est la taille de la couche intermédiaire entre les entrées et sorties pour transformer pour ajouter de la capacité au model (Agit comme un goulot d'étranglement pour régulariser le modèle)\n",
        "epochs = 15"
      ]
    },
    {
      "cell_type": "markdown",
      "metadata": {
        "id": "NH03a3ZZme7Q"
      },
      "source": [
        "# Pip install"
      ]
    },
    {
      "cell_type": "code",
      "execution_count": null,
      "metadata": {
        "colab": {
          "base_uri": "https://localhost:8080/"
        },
        "id": "QtT88rC7HcEz",
        "outputId": "c604b72d-da42-45dd-b78a-f23b42f873d0"
      },
      "outputs": [
        {
          "name": "stdout",
          "output_type": "stream",
          "text": [
            "Collecting scikeras\n",
            "  Downloading scikeras-0.12.0-py3-none-any.whl (27 kB)\n",
            "Requirement already satisfied: packaging>=0.21 in /usr/local/lib/python3.10/dist-packages (from scikeras) (23.2)\n",
            "Requirement already satisfied: scikit-learn>=1.0.0 in /usr/local/lib/python3.10/dist-packages (from scikeras) (1.2.2)\n",
            "Requirement already satisfied: numpy>=1.17.3 in /usr/local/lib/python3.10/dist-packages (from scikit-learn>=1.0.0->scikeras) (1.23.5)\n",
            "Requirement already satisfied: scipy>=1.3.2 in /usr/local/lib/python3.10/dist-packages (from scikit-learn>=1.0.0->scikeras) (1.11.4)\n",
            "Requirement already satisfied: joblib>=1.1.1 in /usr/local/lib/python3.10/dist-packages (from scikit-learn>=1.0.0->scikeras) (1.3.2)\n",
            "Requirement already satisfied: threadpoolctl>=2.0.0 in /usr/local/lib/python3.10/dist-packages (from scikit-learn>=1.0.0->scikeras) (3.2.0)\n",
            "Installing collected packages: scikeras\n",
            "Successfully installed scikeras-0.12.0\n"
          ]
        }
      ],
      "source": [
        "# !pip install datasets\n",
        "!pip install scikeras\n",
        "# !python -m spacy\n",
        "# !python -m download\n",
        "# !python -m fr_core_news_sm\n",
        "# !pip uninstall tf_keras keras\n",
        "# !pip install tensorflow --upgrade"
      ]
    },
    {
      "cell_type": "markdown",
      "metadata": {
        "id": "Z8mVsINuGnci"
      },
      "source": [
        "# Les Imports"
      ]
    },
    {
      "cell_type": "code",
      "execution_count": null,
      "metadata": {
        "colab": {
          "base_uri": "https://localhost:8080/"
        },
        "id": "9XCkw18JmUgQ",
        "outputId": "cc4fd0ec-f1d0-4e2f-f72f-3cee0cd2c172"
      },
      "outputs": [
        {
          "name": "stdout",
          "output_type": "stream",
          "text": [
            "Mounted at /content/drive\n"
          ]
        }
      ],
      "source": [
        "from google.colab import drive\n",
        "drive.mount(\"/content/drive\", force_remount=True)"
      ]
    },
    {
      "cell_type": "code",
      "execution_count": null,
      "metadata": {
        "id": "cQ7zCpF_GQj4"
      },
      "outputs": [],
      "source": [
        "import pathlib\n",
        "import random\n",
        "import string\n",
        "import re\n",
        "import seaborn as sns\n",
        "# import keras\n",
        "# from keras import ops\n",
        "from tqdm import tqdm\n",
        "from wordcloud import WordCloud\n",
        "import inflect\n",
        "import spacy\n",
        "import pandas as pd\n",
        "import numpy as np\n",
        "import tensorflow as tf\n",
        "from tensorflow import keras\n",
        "from tensorflow.keras import layers\n",
        "from tensorflow.keras.utils import plot_model\n",
        "from tensorflow.keras.layers import Input, Dense, Embedding, MultiHeadAttention, Dropout, LayerNormalization, TextVectorization, Layer, LSTM, GRU,Concatenate\n",
        "from scikeras.wrappers import KerasClassifier\n",
        "from sklearn.model_selection import GridSearchCV\n",
        "from tensorflow.keras.optimizers import Adam, RMSprop\n",
        "from tensorflow.keras.losses import SparseCategoricalCrossentropy\n",
        "from collections import Counter\n",
        "import string\n",
        "# from datasets import load_dataset\n",
        "from sklearn.model_selection import train_test_split\n",
        "from tensorflow.keras.models import Model\n",
        "from transformers import TFAutoModelForSeq2SeqLM, AutoTokenizer\n",
        "from tensorflow.keras.callbacks import EarlyStopping, ModelCheckpoint, ReduceLROnPlateau\n",
        "import matplotlib.pyplot as plt\n",
        "from tensorflow.keras.utils import get_custom_objects\n",
        "from tensorflow.keras.models import load_model\n",
        "import pickle\n",
        "\n"
      ]
    },
    {
      "cell_type": "markdown",
      "metadata": {
        "id": "RtLByJ90EB4R"
      },
      "source": [
        "# Dataset"
      ]
    },
    {
      "cell_type": "code",
      "execution_count": null,
      "metadata": {
        "id": "mP58UJumIYfr"
      },
      "outputs": [],
      "source": [
        "segmentation_dataset = load_dataset(\n",
        "'Nicolas-BZRD/Parallel_Global_Voices_English_French',\n",
        "split='train'\n",
        ").to_pandas()"
      ]
    },
    {
      "cell_type": "code",
      "execution_count": null,
      "metadata": {
        "id": "AE9Jk3vgpbvg"
      },
      "outputs": [],
      "source": [
        "# segmentation_dataset.head()"
      ]
    },
    {
      "cell_type": "code",
      "execution_count": null,
      "metadata": {
        "id": "HDhKtunRSP9Y"
      },
      "outputs": [],
      "source": [
        "# Function to plot sentence length distribution\n",
        "def plot_sentence_length_distribution(texts, language):\n",
        "    lengths = [len(sentence.split()) for sentence in texts]\n",
        "    plt.hist(lengths, bins=range(101))\n",
        "    plt.title(f\"Sentence Length Distribution in {language}\")\n",
        "    plt.xlabel('Number of Words')\n",
        "    plt.ylabel('Number of Sentences')\n",
        "    plt.xlim(0, 100)\n",
        "    plt.show()\n",
        "\n",
        "# Function to create a word cloud\n",
        "def create_word_cloud(texts, language):\n",
        "    text_combined = ' '.join(texts)\n",
        "    wordcloud = WordCloud(width=800, height=400, background_color='white').generate(text_combined)\n",
        "    plt.figure(figsize=(8, 8), facecolor=None)\n",
        "    plt.imshow(wordcloud)\n",
        "    plt.axis(\"off\")\n",
        "    plt.tight_layout(pad=0)\n",
        "    plt.title(f\"Word Cloud for {language}\")\n",
        "    plt.show()\n",
        "\n",
        "# Plotting for English and French\n",
        "# plot_sentence_length_distribution(segmentation_dataset['en'], 'English')\n",
        "# plot_sentence_length_distribution(segmentation_dataset['fr'], 'French')\n",
        "\n",
        "# create_word_cloud(segmentation_dataset['en'], 'English')\n",
        "# create_word_cloud(segmentation_dataset['fr'], 'French')"
      ]
    },
    {
      "cell_type": "markdown",
      "metadata": {
        "id": "FTyRsK3kWt0f"
      },
      "source": [
        "# Filter Dataset"
      ]
    },
    {
      "cell_type": "code",
      "execution_count": null,
      "metadata": {
        "colab": {
          "base_uri": "https://localhost:8080/",
          "height": 409
        },
        "id": "DWhKXgxJWytB",
        "outputId": "7b9fd71e-7598-4cd0-9b84-06f155b5bb9a"
      },
      "outputs": [
        {
          "ename": "OSError",
          "evalue": "[E050] Can't find model 'fr_core_news_sm'. It doesn't seem to be a Python package or a valid path to a data directory.",
          "output_type": "error",
          "traceback": [
            "\u001b[0;31m---------------------------------------------------------------------------\u001b[0m",
            "\u001b[0;31mOSError\u001b[0m                                   Traceback (most recent call last)",
            "\u001b[0;32m<ipython-input-5-29e5e3b50e03>\u001b[0m in \u001b[0;36m<cell line: 5>\u001b[0;34m()\u001b[0m\n\u001b[1;32m      3\u001b[0m \u001b[0;34m\u001b[0m\u001b[0m\n\u001b[1;32m      4\u001b[0m \u001b[0;31m# Load the Spacy model for French\u001b[0m\u001b[0;34m\u001b[0m\u001b[0;34m\u001b[0m\u001b[0m\n\u001b[0;32m----> 5\u001b[0;31m \u001b[0mnlp\u001b[0m \u001b[0;34m=\u001b[0m \u001b[0mspacy\u001b[0m\u001b[0;34m.\u001b[0m\u001b[0mload\u001b[0m\u001b[0;34m(\u001b[0m\u001b[0;34m\"fr_core_news_sm\"\u001b[0m\u001b[0;34m)\u001b[0m\u001b[0;34m\u001b[0m\u001b[0;34m\u001b[0m\u001b[0m\n\u001b[0m\u001b[1;32m      6\u001b[0m \u001b[0;34m\u001b[0m\u001b[0m\n\u001b[1;32m      7\u001b[0m \u001b[0;32mdef\u001b[0m \u001b[0mnumber_to_words\u001b[0m\u001b[0;34m(\u001b[0m\u001b[0mtext\u001b[0m\u001b[0;34m)\u001b[0m\u001b[0;34m:\u001b[0m\u001b[0;34m\u001b[0m\u001b[0;34m\u001b[0m\u001b[0m\n",
            "\u001b[0;32m/usr/local/lib/python3.10/dist-packages/spacy/__init__.py\u001b[0m in \u001b[0;36mload\u001b[0;34m(name, vocab, disable, enable, exclude, config)\u001b[0m\n\u001b[1;32m     49\u001b[0m     \u001b[0mRETURNS\u001b[0m \u001b[0;34m(\u001b[0m\u001b[0mLanguage\u001b[0m\u001b[0;34m)\u001b[0m\u001b[0;34m:\u001b[0m \u001b[0mThe\u001b[0m \u001b[0mloaded\u001b[0m \u001b[0mnlp\u001b[0m \u001b[0mobject\u001b[0m\u001b[0;34m.\u001b[0m\u001b[0;34m\u001b[0m\u001b[0;34m\u001b[0m\u001b[0m\n\u001b[1;32m     50\u001b[0m     \"\"\"\n\u001b[0;32m---> 51\u001b[0;31m     return util.load_model(\n\u001b[0m\u001b[1;32m     52\u001b[0m         \u001b[0mname\u001b[0m\u001b[0;34m,\u001b[0m\u001b[0;34m\u001b[0m\u001b[0;34m\u001b[0m\u001b[0m\n\u001b[1;32m     53\u001b[0m         \u001b[0mvocab\u001b[0m\u001b[0;34m=\u001b[0m\u001b[0mvocab\u001b[0m\u001b[0;34m,\u001b[0m\u001b[0;34m\u001b[0m\u001b[0;34m\u001b[0m\u001b[0m\n",
            "\u001b[0;32m/usr/local/lib/python3.10/dist-packages/spacy/util.py\u001b[0m in \u001b[0;36mload_model\u001b[0;34m(name, vocab, disable, enable, exclude, config)\u001b[0m\n\u001b[1;32m    470\u001b[0m     \u001b[0;32mif\u001b[0m \u001b[0mname\u001b[0m \u001b[0;32min\u001b[0m \u001b[0mOLD_MODEL_SHORTCUTS\u001b[0m\u001b[0;34m:\u001b[0m\u001b[0;34m\u001b[0m\u001b[0;34m\u001b[0m\u001b[0m\n\u001b[1;32m    471\u001b[0m         \u001b[0;32mraise\u001b[0m \u001b[0mIOError\u001b[0m\u001b[0;34m(\u001b[0m\u001b[0mErrors\u001b[0m\u001b[0;34m.\u001b[0m\u001b[0mE941\u001b[0m\u001b[0;34m.\u001b[0m\u001b[0mformat\u001b[0m\u001b[0;34m(\u001b[0m\u001b[0mname\u001b[0m\u001b[0;34m=\u001b[0m\u001b[0mname\u001b[0m\u001b[0;34m,\u001b[0m \u001b[0mfull\u001b[0m\u001b[0;34m=\u001b[0m\u001b[0mOLD_MODEL_SHORTCUTS\u001b[0m\u001b[0;34m[\u001b[0m\u001b[0mname\u001b[0m\u001b[0;34m]\u001b[0m\u001b[0;34m)\u001b[0m\u001b[0;34m)\u001b[0m  \u001b[0;31m# type: ignore[index]\u001b[0m\u001b[0;34m\u001b[0m\u001b[0;34m\u001b[0m\u001b[0m\n\u001b[0;32m--> 472\u001b[0;31m     \u001b[0;32mraise\u001b[0m \u001b[0mIOError\u001b[0m\u001b[0;34m(\u001b[0m\u001b[0mErrors\u001b[0m\u001b[0;34m.\u001b[0m\u001b[0mE050\u001b[0m\u001b[0;34m.\u001b[0m\u001b[0mformat\u001b[0m\u001b[0;34m(\u001b[0m\u001b[0mname\u001b[0m\u001b[0;34m=\u001b[0m\u001b[0mname\u001b[0m\u001b[0;34m)\u001b[0m\u001b[0;34m)\u001b[0m\u001b[0;34m\u001b[0m\u001b[0;34m\u001b[0m\u001b[0m\n\u001b[0m\u001b[1;32m    473\u001b[0m \u001b[0;34m\u001b[0m\u001b[0m\n\u001b[1;32m    474\u001b[0m \u001b[0;34m\u001b[0m\u001b[0m\n",
            "\u001b[0;31mOSError\u001b[0m: [E050] Can't find model 'fr_core_news_sm'. It doesn't seem to be a Python package or a valid path to a data directory."
          ]
        }
      ],
      "source": [
        "# Initialize inflect engine\n",
        "p = inflect.engine()\n",
        "\n",
        "# Load the Spacy model for French\n",
        "nlp = spacy.load(\"fr_core_news_sm\")\n",
        "\n",
        "def number_to_words(text):\n",
        "    return ' '.join([p.number_to_words(word) if word.isdigit() else word for word in text.split()])\n",
        "\n",
        "def has_svo_structure(sentence):\n",
        "    doc = nlp(sentence)\n",
        "    subjects = [tok for tok in doc if \"subj\" in tok.dep_]\n",
        "    objects = [tok for tok in doc if \"obj\" in tok.dep_]\n",
        "    verbs = [tok for tok in doc if tok.pos_ == \"VERB\"]\n",
        "    return len(subjects) > 0 and len(objects) > 0 and len(verbs) > 0\n",
        "\n",
        "def filter_dataset(dataset):\n",
        "    rows_to_add = []\n",
        "    for index, row in tqdm(dataset.iterrows(), total=dataset.shape[0], desc=\"Processing\"):\n",
        "        en_sentence = number_to_words(row['en'])\n",
        "        fr_sentence = number_to_words(row['fr'])\n",
        "        if has_svo_structure(fr_sentence) and len(fr_sentence.split()) <= 50:\n",
        "            rows_to_add.append({'en': en_sentence, 'fr': fr_sentence})\n",
        "\n",
        "    return pd.DataFrame(rows_to_add, columns=['en', 'fr'])\n",
        "\n",
        "# Assuming 'segmentation_dataset' is your DataFrame with columns 'en' and 'fr'\n",
        "filtered_dataset = filter_dataset(segmentation_dataset)"
      ]
    },
    {
      "cell_type": "code",
      "execution_count": null,
      "metadata": {
        "id": "yud1TL790fTW"
      },
      "outputs": [],
      "source": [
        "# Sauvegarde du DataFrame filtré au format Pickle dans Google Drive\n",
        "filtered_dataset.to_pickle('/content/drive/MyDrive/models/filtered_dataset.pkl')"
      ]
    },
    {
      "cell_type": "code",
      "execution_count": null,
      "metadata": {
        "id": "JrkEKjVnW_wo"
      },
      "outputs": [],
      "source": [
        "# filtered_dataset.head()"
      ]
    },
    {
      "cell_type": "code",
      "execution_count": null,
      "metadata": {
        "id": "ZlDvcP-_0Fvq"
      },
      "outputs": [],
      "source": [
        "# Calculate sentence lengths\n",
        "original_lengths_en = segmentation_dataset['en'].str.split().apply(len)\n",
        "filtered_lengths_en = filtered_dataset['en'].str.split().apply(len)\n",
        "\n",
        "original_lengths_fr = segmentation_dataset['fr'].str.split().apply(len)\n",
        "filtered_lengths_fr = filtered_dataset['fr'].str.split().apply(len)\n",
        "\n",
        "# Create histograms\n",
        "def plot_length_comparison(original_lengths, filtered_lengths, language, x_range=None):\n",
        "    plt.figure(figsize=(12, 6))\n",
        "\n",
        "    # Zoom in on a specific x_range, if provided\n",
        "    if x_range:\n",
        "        original_lengths = [length for length in original_lengths if x_range[0] <= length <= x_range[1]]\n",
        "        filtered_lengths = [length for length in filtered_lengths if x_range[0] <= length <= x_range[1]]\n",
        "\n",
        "    plt.hist(original_lengths, color=\"skyblue\", label='Original', bins=50, alpha=0.5)\n",
        "    plt.hist(filtered_lengths, color=\"red\", label='Filtered', bins=50, alpha=0.5)\n",
        "    plt.title(f'Sentence Length Distribution Before and After Filtering in {language}')\n",
        "    plt.xlabel('Sentence Length (Number of Words)')\n",
        "    plt.ylabel('Frequency')\n",
        "    plt.legend()\n",
        "    plt.show()\n",
        "\n",
        "# Plot comparison for English with zoomed-in range\n",
        "plot_length_comparison(original_lengths_en, filtered_lengths_en, 'English', x_range=(0, 50))\n",
        "\n",
        "# Plot comparison for French with zoomed-in range\n",
        "plot_length_comparison(original_lengths_fr, filtered_lengths_fr, 'French', x_range=(0, 50))\n"
      ]
    },
    {
      "cell_type": "code",
      "execution_count": null,
      "metadata": {
        "id": "Enq7fAFnuvUC"
      },
      "outputs": [],
      "source": [
        "def plot_word_frequency_comparison(original_texts, cleaned_texts, title, language):\n",
        "    # Count word frequencies in the original and cleaned datasets\n",
        "    original_counter = Counter(\" \".join(original_texts).split())\n",
        "    cleaned_counter = Counter(\" \".join(cleaned_texts).split())\n",
        "\n",
        "    # Get the 30 most common words in each dataset\n",
        "    original_common = original_counter.most_common(30)\n",
        "    cleaned_common = cleaned_counter.most_common(30)\n",
        "\n",
        "    # Separate the words and their frequencies\n",
        "    original_words, original_freqs = zip(*original_common)\n",
        "    cleaned_words, cleaned_freqs = zip(*cleaned_common)\n",
        "\n",
        "    # Create a subplot for each set of word frequencies\n",
        "    fig, axes = plt.subplots(1, 2, figsize=(15, 8), sharey=True)\n",
        "\n",
        "    # Plot for the original dataset\n",
        "    axes[0].barh(original_words, original_freqs, color='skyblue')\n",
        "    axes[0].set_title(f'Most Common Words in {language} Before Cleaning')\n",
        "\n",
        "    # Plot for the cleaned dataset\n",
        "    axes[1].barh(cleaned_words, cleaned_freqs, color='red')\n",
        "    axes[1].set_title(f'Most Common Words in {language} After Cleaning')\n",
        "\n",
        "    # Invert y-axis for both subplots to have the most frequent words on top\n",
        "    axes[0].invert_yaxis()\n",
        "    axes[1].invert_yaxis()\n",
        "\n",
        "    # Set labels\n",
        "    axes[0].set_xlabel('Frequency')\n",
        "    axes[1].set_xlabel('Frequency')\n",
        "\n",
        "    # Add the main title and show the plot\n",
        "    plt.tight_layout()\n",
        "    plt.suptitle(title)\n",
        "    plt.show()\n",
        "\n",
        "\n",
        "# Plot word frequency comparison for English\n",
        "plot_word_frequency_comparison(\n",
        "    segmentation_dataset['en'].tolist(),\n",
        "    filtered_dataset['en'].tolist(),\n",
        "    '',\n",
        "    'English'\n",
        ")\n",
        "\n",
        "# Plot word frequency comparison for French\n",
        "plot_word_frequency_comparison(\n",
        "    segmentation_dataset['fr'].tolist(),\n",
        "    filtered_dataset['fr'].tolist(),\n",
        "    '',\n",
        "    'French'\n",
        ")"
      ]
    },
    {
      "cell_type": "markdown",
      "metadata": {
        "id": "iwb29BGYPMfa"
      },
      "source": [
        "# Launch filtred dataset"
      ]
    },
    {
      "cell_type": "code",
      "execution_count": null,
      "metadata": {
        "id": "rRFVF2TKmxkN"
      },
      "outputs": [],
      "source": [
        "filtered_dataset = pd.read_pickle('/content/drive/MyDrive/models/filtered_dataset.pkl')"
      ]
    },
    {
      "cell_type": "markdown",
      "metadata": {
        "id": "81wqKAjhI5Cj"
      },
      "source": [
        "# Preprocessing"
      ]
    },
    {
      "cell_type": "code",
      "execution_count": null,
      "metadata": {
        "id": "yboW1GW-2gcq"
      },
      "outputs": [],
      "source": [
        "# carte de remplacement pour les caractères accentués (français)\n",
        "accents_map_french = str.maketrans(\n",
        "    'àáâäãåçèéêëìíîïñòóôöõøùúûüýÿ',\n",
        "    'aaaaaaceeeeiiiinoooooouuuuyy'\n",
        ")"
      ]
    },
    {
      "cell_type": "code",
      "execution_count": null,
      "metadata": {
        "id": "pTV-QAGuzb9o"
      },
      "outputs": [],
      "source": [
        "def clean_text(txt, accents_map=None, lang_to_work=False):\n",
        "    if accents_map:\n",
        "        txt = txt.translate(accents_map)\n",
        "    # Keep apostrophes and remove other punctuation\n",
        "    punctuation_to_remove = string.punctuation.replace(\"'\", \"\")  # Apostrophes are kept\n",
        "    tiret_to_keep = string.punctuation.replace(\"-\", \"\")\n",
        "    txt = \"\".join(v for v in txt if v not in punctuation_to_remove and tiret_to_keep).lower()\n",
        "    txt = txt.encode(\"utf8\").decode(\"ascii\",'ignore')\n",
        "    if lang_to_work:\n",
        "        txt = \"[start] \" + txt + \" [end]\"\n",
        "    return txt"
      ]
    },
    {
      "cell_type": "code",
      "execution_count": null,
      "metadata": {
        "id": "SnPTLKby01Nx"
      },
      "outputs": [],
      "source": [
        "preprocessed_dataset = pd.DataFrame()\n",
        "# preprocessed_dataset['en_clean'] = segmentation_dataset['en'].apply(clean_text, args=(None,lang_to_work:=True))\n",
        "# preprocessed_dataset['fr_clean'] = segmentation_dataset['fr'].apply(clean_text, args=(accents_map_french, lang_to_work:=False))\n",
        "preprocessed_dataset['en_clean'] = filtered_dataset['en'].apply(clean_text, args=(None,lang_to_work:=True))\n",
        "preprocessed_dataset['fr_clean'] = filtered_dataset['fr'].apply(clean_text, args=(accents_map_french, lang_to_work:=False))\n"
      ]
    },
    {
      "cell_type": "code",
      "execution_count": null,
      "metadata": {
        "id": "mIWU3d5zJtZ0"
      },
      "outputs": [],
      "source": [
        "# preprocessed_dataset.head(100)"
      ]
    },
    {
      "cell_type": "code",
      "execution_count": null,
      "metadata": {
        "colab": {
          "base_uri": "https://localhost:8080/"
        },
        "id": "5yoGNl3aKft4",
        "outputId": "af5d05a2-2e17-4506-c834-33285a82d941"
      },
      "outputs": [
        {
          "name": "stdout",
          "output_type": "stream",
          "text": [
            "Taille de l'ensemble de la dataset: 185442\n",
            "Taille de l'ensemble d'entraînement : 129809\n",
            "Taille de l'ensemble de validation : 27816\n",
            "Taille de l'ensemble de test : 27817\n"
          ]
        }
      ],
      "source": [
        "# Mélange aléatoire des données\n",
        "shuffled_data = preprocessed_dataset.sample(frac=1, random_state=42).reset_index(drop=True)\n",
        "\n",
        "# Scinder les données en ensembles d'entraînement et temp (validation + test)\n",
        "train_data, temp_data = train_test_split(shuffled_data, test_size=0.3, random_state=42)\n",
        "\n",
        "# Scinder l'ensemble temp en ensembles de validation et de test\n",
        "validation_data, test_data = train_test_split(temp_data, test_size=0.5, random_state=42)\n",
        "\n",
        "# Afficher les tailles des ensembles pour vérifier\n",
        "print(\"Taille de l'ensemble de la dataset:\", len(shuffled_data))\n",
        "print(\"Taille de l'ensemble d'entraînement :\", len(train_data)) # 70%\n",
        "print(\"Taille de l'ensemble de validation :\", len(validation_data)) # 15%\n",
        "print(\"Taille de l'ensemble de test :\", len(test_data)) # 15%"
      ]
    },
    {
      "cell_type": "code",
      "execution_count": null,
      "metadata": {
        "id": "rMqDLjkRLG68"
      },
      "outputs": [],
      "source": [
        "# test_data.head()"
      ]
    },
    {
      "cell_type": "code",
      "execution_count": null,
      "metadata": {
        "id": "n8eBggI1n_6g"
      },
      "outputs": [],
      "source": [
        "def plot_dataset_splits(shuffled_data):\n",
        "    train_data, temp_data = train_test_split(shuffled_data, test_size=0.3, random_state=42)\n",
        "    validation_data, test_data = train_test_split(temp_data, test_size=0.5, random_state=42)\n",
        "\n",
        "    sizes = [len(train_data), len(validation_data), len(test_data)]\n",
        "    labels = [f'Training : {len(train_data)} sentences', f'Validation : {len(validation_data)} sentences', f'Test : { len(test_data)} sentences']\n",
        "\n",
        "    plt.figure(figsize=(8, 6))\n",
        "    plt.pie(sizes, labels=labels, autopct='%1.1f%%', startangle=140)\n",
        "    plt.title('Dataset Splits')\n",
        "    plt.show()\n",
        "\n",
        "# plot_dataset_splits(shuffled_data)"
      ]
    },
    {
      "cell_type": "markdown",
      "metadata": {
        "id": "5ITSsHAxLK9E"
      },
      "source": [
        "# Tokenize data"
      ]
    },
    {
      "cell_type": "code",
      "execution_count": null,
      "metadata": {
        "id": "GF_5s86OLQ1U"
      },
      "outputs": [],
      "source": [
        "strip_chars = string.punctuation\n",
        "strip_chars = strip_chars.replace(\"'\", \"\")  # Les apostrophes sont conservées\n",
        "strip_chars = strip_chars.replace(\"-\", \"\") # Les tirets sont conservés\n",
        "strip_chars = strip_chars.replace(\"[\", \"\")  # Les crochets ouverts sont conservés\n",
        "strip_chars = strip_chars.replace(\"]\", \"\")  # Les crochets fermés sont conservés\n",
        "\n",
        "\n",
        "\n",
        "def custom_standardization(input_string):\n",
        "    lowercase = tf.strings.lower(input_string)\n",
        "\n",
        "    return tf.strings.regex_replace(lowercase, \"[%s]\" % re.escape(strip_chars), \"\")\n",
        "\n",
        "# Création des objets de vectorisation pour le français et l'anglais\n",
        "fr_vectorization = TextVectorization(\n",
        "    max_tokens=vocab_size,\n",
        "    output_mode=\"int\",\n",
        "    output_sequence_length=sequence_length,\n",
        "    standardize=custom_standardization\n",
        ")\n",
        "# Le custom_standardization a appliquer a la langue qu'ont souhaite étudier afins de garder les balises [start] et [end]\n",
        "en_vectorization = TextVectorization(\n",
        "    max_tokens=vocab_size,\n",
        "    output_mode=\"int\",\n",
        "    output_sequence_length=sequence_length + 1,\n",
        "    standardize=custom_standardization\n",
        ")\n",
        "\n",
        "# Adaptation des données\n",
        "train_fr_texts = train_data['fr_clean'].tolist()\n",
        "train_en_texts = train_data['en_clean'].tolist()\n",
        "\n",
        "fr_vectorization.adapt(train_fr_texts)\n",
        "en_vectorization.adapt(train_en_texts)"
      ]
    },
    {
      "cell_type": "code",
      "execution_count": null,
      "metadata": {
        "colab": {
          "base_uri": "https://localhost:8080/"
        },
        "id": "EzqfFW2NMVzk",
        "outputId": "0d37e4ce-3c61-482e-a23c-dcfd093c9a45"
      },
      "outputs": [
        {
          "name": "stdout",
          "output_type": "stream",
          "text": [
            "['', '[UNK]', 'the', '[start]', '[end]', 'of', 'to', 'and', 'in', 'a', 'that', 'is', 'for', 'on', 'it', 'as', 'with', 'i', 'are', 'this', 'have', 'by', 'was', 'from', 'not', 'has', 'their', 'they', 'be', 'we', 'who', 'an', 'people', 'but', 'at', 'his', 'he', 'about', 'will', 'one', 'you', 'which', 'there', 'or', 'also', 'all', 'were', 'what', 'been', 'can', 'more', 'some', 'if', 'her', 'our', 'government', 'my', 'many', 'when', 'two', 'them', 'its', 'so', 'other', 'had', 'would', 'no', 'out', 'us', 'do', 'country', 'up', 'media', 'like', 'how', 'after', 'these', 'she', 'new', 'where', 'only', 'blog', 'those', 'even', 'because', 'time', 'now', 'against', 'world', 'me', 'first', 'than', 'into', 'just', 'such', 'political', 'most', 'over', 'being', 'should', 'thousand', 'social', 'president', 'while', 'any', 'es', 'day', 'police', 'years', 'public', 'twitter', 'women', 'news', \"don't\", 'said', 'way', 'post', 'see', 'him', 'hundred', \"it's\", 'video', 'could', 'make', 'your', 'rights', 'take', 'through', 'made', 'blogger', 'still', 'online', 'then', 'very', 'get', 'know', 'internet', 'state', 'since', 'work', 'another', 'during', 'last', 'part', 'national', 'want', 'own', 'support', 'between', 'facebook', 'did', 'well', 'bloggers', 'may', 'year', 'same', 'here', 'group', 'why', 'place', 'information', 'however', 'life', 'law', 'use', 'think', 'need', 'international', 'city', 'before', 'help', 'much', 'three', 'countries', 'human', 'right', 'without', 'around', 'few', 'used', 'go', 'power', 'local', 'say', 'back', 'does', 'called', 'global', 'community', 'several', 'today', 'russian', 'project', 'children', 'under', 'china', 'both', 'says', 'according', 'different', 'party', 'situation', 'took', 'voices', 'down', 'case', 'become', 'young', 'am', 'citizens', 'good', 'protests', 'going', 'protest', 'come', 'every', 'society', 'chinese', 'change', 'started', 'find', 'following', 'minister', 'among', 'security', 'number', 'others', 'fact', 'days', 'already', 'order', 'story', 'war', 'wrote', 'violence', 'long', 'end', 'campaign', 'published', 'too', 'family', 'users', 'must', 'never', 'freedom', 'really', 'report', 'website', 'something', 'money', 'military', 'live', 'free', 'protesters', 'death', 'students', 'things', 'system', 'south', 'home', 'recent', 'article', 'show', 'water', 'african', 'left', 'fr', 'each', 'authorities', 'language', 'movement', 'issue', 'united', 'using', 'reports', 'give', 'members', 'africa', 'posted', 'put', 'able', 'elections', 'activists', 'found', 'next', 'important', 'blogs', 'including', 'off', 'taken', 'hope', 'page', 'school', 'five', 'past', 'de', 'opposition', 'election', 'believe', \"i'm\", 'might', 'living', 'groups', 'region', 'comments', 'ru', 'themselves', 'writes', 'states', 'means', 'far', 'events', 'better', 'man', 'issues', 'taking', 'march', 'times', 'foreign', 'nine', 'yet', 'ago', 'asked', 'journalists', 'seems', 'men', 'citizen', 'lives', 'little', 'official', 'away', 'reported', 'always', 'came', 'journalist', 'continue', 'making', 'week', 'saying', 'seen', \"didn't\", 'cannot', 'stop', 'having', 'development', 'name', 'again', 'court', 'call', 'though', 'later', 'together', 'french', 'lot', 'look', 'former', 'current', 'high', 'russia', 'face', 'user', 'site', 'open', 'told', 'recently', 'problem', 'future', 'great', 'crisis', 'economic', 'whether', \"country's\", 'point', 'question', 'attention', 'general', 'old', 'forces', 'ten', 'real', 'education', 'woman', 'four', 'although', 'event', 'once', 'feel', 'history', 'egypt', 'million', 'until', 'got', 'special', 'decision', 'photos', 'read', 'given', 'university', 'understand', 'often', 'friends', 'culture', 'everyone', 'food', 'american', 'across', 'posts', 'words', 'popular', 'person', 'enough', 'nothing', 'regime', 'pt', 'keep', 'land', 'created', 'share', 'went', 'set', 'decided', 'second', 'press', 'love', 'north', 'doing', \"doesn't\", 'best', 'example', 'working', 'action', 'problems', 'idea', \"can't\", 'trying', 'shows', 'population', 'access', 'small', 'possible', 'despite', 'thing', 'behind', 'tv', 'leaders', 'gaza', 'least', 'especially', 'streets', 'justice', 'shared', 'process', 'months', 'known', 'house', 'held', 'stories', 'received', 'let', 'democracy', 'someone', 'start', 'health', 'army', 'needs', 'youtube', 'various', 'killed', 'speech', 'coverage', 'capital', 'due', 'attack', 'hand', 'egyptian', 'towards', 'leave', 'anything', 'workers', 'netizens', 'debate', 'tell', 'kind', 'area', 'done', 'policy', 'makes', 'service', 'indigenous', 'revolution', 'peace', 'within', 'israel', 'videos', 'ask', 'officials', 'bring', 'thousands', 'photo', 'lost', 'lack', 'course', 'instead', 'arab', 'account', 'el', 'actually', 'prime', 'writing', 'saw', 'outside', 'rather', 'front', 'communities', 'big', 'almost', 'ministry', 'whole', 'india', 'film', 'street', 'pay', 'create', 'role', 'based', 'youth', 'team', 'civil', 'announced', 'daily', 'six', 'legal', 'main', 'less', 'happened', 'opinion', 'experience', 'month', 'major', 'message', '2011', 'vote', 'similar', 'company', 'clear', 'politics', 'victims', 'reason', 'thought', 'parliament', 'al', 'act', 'control', 'care', 'explains', 'leader', 'newspaper', 'head', 'provide', 'office', 'night', 'fight', 'business', 'areas', \"people's\", 'english', 'brazil', 'getting', 'soon', 'talk', 'statement', 'hard', 'further', 'families', 'side', 'interview', 'content', 'anyone', 'protect', 'finally', 'heard', 'comes', 'became', 'along', 'personal', 'japan', 'hours', 'iranian', 'image', 'whose', 'nation', 'wanted', 'calling', \"that's\", 'result', 'central', 'building', 'visit', 'ever', 'european', 'questions', 'saudi', 'word', 'brought', 'large', 'conflict', 'presidential', 'matter', 'led', 'everything', 'write', 'syrian', 'list', 'prison', 'israeli', 'iran', 'arrested', 'move', 'la', 'please', 'fear', 'web', 'politicians', 'democratic', 'religious', 'poor', 'cultural', 'actions', 'june', 'results', 'began', 'black', 'try', 'eight', 'attacks', 'january', 'book', 'forced', 'strong', 'february', 'residents', 'expressed', 'companies', 'corruption', 'view', 'radio', 'network', 'gave', 'seven', 'syria', 'mother', 'parties', 'music', 'turn', 'technology', 'response', 'looking', 'activist', 'october', 'france', 'bad', 'readers', 'learn', 'written', 'launched', 'incident', 'full', 'majority', 'difficult', 'networks', 'himself', 'cities', 'mr', 'member', 'independent', 'coming', 'certain', 'itself', 'series', 'cause', 'follow', 'currently', 'speak', 'released', 'cases', 'projects', 'common', 'japanese', 'child', 'spread', 'force', 'april', 'organization', 'discussion', 'showing', 'sense', 'level', 'september', 'en', 'deal', 'ones', 'close', 'indian', 'watch', 'voice', 'release', 'initiative', 'run', 'fire', 'sent', 'tried', 'reasons', 'oil', 'brazilian', 'spanish', 'organizations', 'allow', 'earlier', 'west', 'interest', 'caused', 'western', 'return', 'perhaps', 'crime', 'respect', 'tweets', 'eleven', 'center', 'via', 'short', 'mobile', 'private', 'impact', 'data', \"i've\", '2012', 'town', 'parents', 'demand', 'wants', 'opportunity', 'simply', 'moment', 'meeting', 'lead', 'supporters', 'pakistan', \"there's\", 'strike', 'economy', 'form', 'asking', 'reality', 'pictures', 'traditional', 'activities', 'above', 'reactions', 'student', 'languages', 'twenty', 'true', 'meanwhile', 'efforts', 'east', 'quite', 'resources', 'morning', 'july', 'muslim', 'calls', 'upon', 'nations', 'comment', 'position', 'allowed', 'sure', 'constitution', 'arrest', 'regarding', 'december', 'art', 'square', 'seem', 'space', 'obama', 'felt', 'blogging', 'november', 'hong', 'express', 'turned', 'refugees', 'twelve', 'sometimes', 'red', 'phone', 'involved', 'union', 'shares', 'early', 'august', 'services', 'market', 'girls', 'america', 'images', 'hundreds', 'hashtag', 'present', 'points', 'job', 'laws', 'inside', 'friend', 'air', 'mainstream', 'organized', 'ukraine', 'republic', 'europe', 'throughout', 'stay', 'serious', 'ruling', 'longer', 'hear', 'probably', 'korean', 'near', 'letter', 'platform', 'author', 'remember', \"won't\", 'blogosphere', 'available', 'tweeted', \"government's\", 'related', 'happen', 'energy', 'environment', 'dead', 'considered', 'beginning', 'takes', 'light', 'censorship', 'truth', 'send', 'illegal', 'goes', 'god', 'car', 'remains', 'girl', 'border', 'ways', 'station', 'digital', 'white', 'weeks', 'increase', 'climate', 'sites', 'plan', 'mean', 'ban', 'village', 'stand', 'independence', 'attempt', 'hands', 'gas', 'armed', 'interesting', 'gives', 'picture', 'met', 'hold', 'either', 'continues', 'reach', \"isn't\", 'hit', 'middle', 'explained', 'died', 'council', 'places', 'below', 'raise', 'mass', 'growing', 'ground', 'works', 'tunisian', 'program', 'wrong', 'search', 'percent', 'top', 'soldiers', 'positive', 'necessary', 'measures', 'environmental', 'accused', 'tunisia', 'expression', 'television', 'kong', 'play', 'korea', 'conditions', 'huge', 'websites', 'pressure', 'industry', 'nor', 'age', 'awareness', 'un', 'rest', 'meet', 'note', 'line', 'sign', 'responsible', 'remain', 'solidarity', 'happy', 'conference', 'fighting', 'affected', 'construction', 'sexual', 'island', 'bill', 'hospital', 'female', 'aid', 'natural', 'google', 'bank', 'therefore', 'term', 'fifty', 'addition', 'ideas', 'half', 'fifteen', 'father', 'eyes', 'channel', 'needed', 'giving', 'yes', 'mexico', 'earthquake', 'bit', 'promote', 'consider', 'bangladesh', 'followed', 'body', 'single', 'road', 'responsibility', 'financial', 'violent', 'myself', 'maybe', 'leading', 'committee', 'medical', 'join', 'gv', 'entire', 'candidates', '2013', 'thirty', 'latest', 'yesterday', 'talking', 'showed', 'fourteen', 'football', 'palestinian', 'islamic', 'focus', 'books', 'price', 'particular', 'individuals', 'thinking', 'buy', 'active', 'views', 'waiting', 'song', 'relations', 'quickly', 'knowledge', 'schools', 'offer', 'madagascar', 'crimes', 'topic', 'thanks', 'association', 'sex', 'rule', 'described', 'criminal', 'indeed', 'immediately', 'study', 'else', 'claim', 'tools', 'petition', 'demonstrations', 'reporting', 'reading', 'agreement', 'step', 'risk', 'morocco', 'director', 'communication', 'spent', 'identity', 'claimed', 'changed', \"women's\", 'provided', 'per', 'opinions', 'nuclear', 'claims', 'save', 'paid', 'mind', 'chance', 'policies', 'won', 'receive', 'include', 'electoral', 'build', 'beyond', \"russia's\", 'rus', 'messages', 'map', 'issued', 'demands', 'ar', 'running', 'terms', 'source', 'putin', 'homes', 'happening', 'gay', 'artists', 'cover', 'trial', 'status', 'ethnic', 'describes', 'commission', 'peaceful', 'latin', 'wish', \"we're\", 'sharing', 'prevent', 'likely', 'governments', 'whom', 'third', 'killing', 'investigation', 'critical', 'parts', 'lebanon', 'forward', 'expected', 'articles', 'ukrainian', 'provides', 'officers', 'subject', 'creating', 'thirteen', 'speaking', 'interested', 'wife', 'research', 'commented', 'struggle', 'nature', 'basic', 'mentioned', 'farmers', 'candidate', 'training', 'potential', 'largest', 'avoid', 'travel', 'late', 'choice', 'zh', 'effort', 'ali', '2010', 'rural', 'reform', 'simple', 'poverty', 'moscow', 'links', 'kids', 'evidence', 'electricity', 'watching', 'passed', 'managed', 'disaster', 'writer', 'easy', 'documentary', 'concern', 'abroad', 'raised', 'muslims', 'leaving', 'joined', 'interests', 'changes', 'journalism', 'demonstration', 'agency', 'criticism', 'titled', 'rally', 'address', 'total', 'libya', 'failed', 'usually', 'reaction', 'names', 'completely', 'text', 'goal', 'concerns', 'regional', 'generation', 'etc', 'defense', 'collective', 'park', 'houses', 'famous', 'explain', 'cup', 'cost', 'accept', \"what's\", 'tweet', 'seeing', 'previous', \"let's\", 'effect', 'details', 'defend', 'committed', 'administration', 'religion', 'presence', 'particularly', 'movie', '1', 'safety', 'pointed', 'game', 'controversial', 'continued', 'born', 'shot', 'looks', 'heart', 'festival', 'declared', 'answer', 'stated', 'spain', 'meaning', 'lebanese', 'domestic', 'added', 'treatment', 'reached', 'facing', 'affairs', 'refused', 'operation', 'king', 'clearly', 'version', 'scene', 'river', 'piece', 'numerous', 'couple', 'period', 'participants', 'demanding', 'accounts', 'son', 'products', 'church', 'thinks', 'rising', 'massive', 'knew', 'kill', 'judge', 'department', 'blocked', 'thus', 'southern', 'key', 'criticized', 'chief', 'arabic', 'yemen', 'helped', 'forum', '2009', 'york', 'threat', 'sea', 'importance', 'believes', 'abuse', 'wall', 'solution', 'cut', \"china's\", 'shown', 'institutions', 'dr', 'bahrain', 'audience', 'alternative', 'holding', 'carry', 'becoming', 'supported', 'production', 'damage', 'anger', 'voting', \"they're\", 'discuss', 'challenge', 'celebrate', 'quality', 'marriage', 'votes', 'signed', 'millions', 'fair', 'supporting', 'success', 'protection', 'class', 'amount', 'wonder', 'feeling', 'coup', 'break', 'suffering', 'afraid', 'trade', 'ready', 'mining', 'low', 'camp', 'blood', 'whatever', 'starting', 'province', 'moroccan', 'authority', 'thailand', 'powerful', 'plant', 'link', 'encourage', 'asia', \"you're\", 'thoughts', 'sudan', 'room', 'participation', \"world's\", 'victory', 'murder', 'difference', 'challenges', 'billion', 'context', 'voters', 'value', 'rise', 'fellow', 'fall', 'crowd', 'beijing', 'assembly', 'alone', 'win', 'tells', 'notes', 'haiti', 'email', 'beautiful', \"wasn't\", 'taiwan', 'sources', 'significant', 'rape', 'islam', 'gone', 'sunday', 'mostly', 'magazine', 'federal', 'ended', 'conversation', 'uploaded', 'providing', 'practice', 'learned', 'attacked', 'pages', 'offers', 'myanmar', 'influence', 'gets', 'blame', 'type', 'kept', 'doubt', 'approach', 'ongoing', 'noted', 'negative', 'lived', 'kenya', 'individual', 'improve', 'hunger', 'district', 'choose', 'block', 'trust', 'sentence', 'injured', 'friday', 'directly', 'regions', 'proposed', 'opened', 'included', 'emergency', 'biggest', 'banned', 'wearing', 'plans', 'numbers', 'knows', 'charges', 'safe', 'final', 'expect', 'concerned', 'charge', 'updates', 'ourselves', 'ordinary', 'minutes', 'helping', 'growth', 'green', 'cuba', 'asks', 'uk', 'staff', 'palestinians', 'offered', 'exactly', 'worse', 'jobs', 'historical', 'entitled', 'dollars', 'borders', 'worth', 'traffic', 'prices', 'mubarak', 'exchange', 'seek', 'relationship', 'named', 'cuban', 'arabia', 'translated', 'prize', 'sad', 'rich', 'imagine', 'compared', 'carried', 'background', 'aware', 'urban', 'socalled', 'representatives', 'higher', 'benefit', '2', 'widely', 'hate', 'happens', 'faced', 'egyptians', 'worked', 'transparency', 'stopped', 'sector', 'initiatives', 'acts', 'propaganda', 'humanitarian', 'gathered', 'detained', 'denied', 'represent', 'includes', 'code', 'chile', 'check', 'spoke', 'experiences', 'document', 'appeal', 'apparently', 'translation', 'produced', 'nearly', 'husband', 'elected', 'covered', 'alleged', 'wait', 'volunteers', 'silence', 'participate', 'dream', 'doctors', \"couldn't\", 'tool', 'software', 'record', 'photographs', 'followers', 'developed', 'anonymous', 'announcement', 'malagasy', 'field', 'ensure', 'colombia', 'territory', 'progress', 'portuguese', 'perspective', 'increased', 'decades', 'posting', 'newspapers', 'lj', 'forget', 'figures', 'fans', 'congress', 'computer', 'cars', \"wouldn't\", 'sides', 'rules', 'certainly', 'supposed', 'lose', 'located', 'flag', 'figure', 'appear', 'worldwide', 'telling', 'prisoners', 'presented', 'played', 'faces', 'drug', 'direct', 'consequences', 'shut', 'built', 'anniversary', 'venezuela', 'suggested', 'reporters', 'property', 'playing', 'pass', 'impossible', 'gender', 'eastern', 'dialogue', 'confirmed', 'proposal', 'paper', 'rain', 'normal', 'model', 'leadership', 'greater', 'experienced', 'allegedly', 'activity', '3', 'tax', 'statements', 'missing', 'eventually', 'dedicated', 'controversy', 'complete', 'villages', 'turkey', 'embassy', 'die', 'decide', 'covering', 'contact', 'appears', 'allows', 'values', 'tahrir', 'planning', 'budget', 'believed', \"aren't\", 'appeared', '2014', \"we've\", 'visited', 'understanding', 'labor', 'protesting', 'professor', 'forest', 'earth', 'ben', 'agree', 'ability', 'modern', 'mention', 'increasing', 'bus', '20', 'wear', 'spend', 'request', 'original', 'neither', 'management', 'heavy', 'christmas', 'worst', 'walk', 'promoting', 'enter', 'daughter', 'round', 'produce', 'nobody', 'developing', 'angry', 'talks', 'learning', 'interior', 'documents', 'caught', 'attempts', 'trip', 'standing', 'solutions', 'san', 'northern', 'launch', 'internal', \"he's\", 'experts', 'section', 'outlets', 'destroyed', 'deaths', 'creative', 'afghanistan', 'secret', 'riot', 'officer', 'moved', 'limited', 'foundation', 'british', 'weapons', 'waste', 'terrorist', 'immigration', 'immigrants', 'hopes', 'forty', 'closed', 'buildings', 'birth', 'truly', 'tragedy', 'stations', 'develop', 'dangerous', 'add', 'warning', 'threats', 'serve', 'science', 'discussed', 'date', 'bringing', 'analysis', 'americans', '2008', 'unique', 'train', 'specific', 'putting', 'professional', 'milk', 'instance', 'foreigners', 'changing', 'becomes', 'tradition', 'threatened', 'sell', 'lawyer', 'connection', 'indonesia', 'eu', 'clean', 'carrying', 'bodies', 'airport', 'aim', 'willing', 'victim', 'unfortunately', 'mexican', 'jail', 'hamas', 'discussions', 'aims', 'quick', 'puerto', 'feelings', 'editor', 'begin', 'arrived', 'topics', 'prominent', 'planned', 'inspired', 'communist', 'award', 'refugee', 'peru', 'minority', 'civilians', 'basis', 'referendum', 'iraq', 'gathering', 'expressing', 'exist', 'artist', 'solve', 'relief', 'publish', 'profile', 'movements', 'everyday', 'draw', 'wave', 'thank', 'successful', 'reporter', 'registered', 'purpose', 'native', 'features', 'celebration', 'broadcast', 'benefits', 'seemed', 'saturday', 'philippines', 'none', 'listen', 'evening', 'agencies', 'surrounding', 'roads', 'malaysia', 'eat', 'continent', 'clothes', 'argentina', 'alive', 'agreed', 'affect', 'strategy', 'sound', 'seriously', 'ordered', 'moving', 'meant', 'mark', 'loss', 'detention', 'decisions', 'soviet', 'race', 'possibility', 'highly', 'constitutional', 'broke', 'battle', 'africans', 'sending', 'russians', 'path', 'mission', 'material', \"haven't\", 'uses', 'twentyfive', 'torture', 'suicide', 'relatives', 'nigeria', 'era', 'toward', 'rice', 'publishing', 'mainly', 'levels', 'increasingly', 'hour', 'funds', 'facts', 'enjoy', 'discrimination', 'destruction', 'tourists', 'studies', 'paulo', 'paris', 'noticed', \"i'll\", \"i'd\", 'games', 'effects', 'easily', 'coalition', 'campaigns', 'cairo', 'spreading', 'opportunities', 'herself', 'brother', 'steps', 'secretary', 'review', 'responded', 'regardless', 'photograph', 'hearing', 'dictatorship', 'ahead', 'tourism', 'target', 'rio', 'occupy', 'mayor', 'legislation', 'dignity', 'apart', 'welcome', 'tomorrow', 'tear', 'promised', 'grow', 'board', 'attitude', 'sparked', 'revealed', 'london', 'lines', 'gain', 'eighteen', 'conservative', 'weibo', 'suffered', 'returned', 'punishment', 'prove', 'physical', 'nepal', 'neighborhood', 'keeping', 'immediate', 'entry', 'ecuador', 'criminals', 'australia', 'stage', 'proud', 'practices', 'otherwise', 'looked', 'highlights', 'fun', 'extremely', 'describe', 'demonstrators', 'deep', 'considering', 'achieve', 'writers', 'summer', 'regular', 'programs', 'previously', 'pain', 'match', 'male', 'heritage', 'fine', 'disease', 'competition', 'claiming', 'chose', 'boycott', 'rate', 'worried', 'volunteer', 'platforms', 'opening', 'mohamed', 'guinea', 'terrorism', 'teachers', 'seeking', 'moreover', 'costs', 'colleagues', 'christian', 'centre', 'caribbean', 'anymore', 'amnesty', 'advantage', \"year's\", 'troops', 'skills', 'rescue', 'required', 'pollution', 'favor', 'cross', '4', 'turkish', 'technical', 'raising', 'proper', 'camera', 'arms', '15', 'introduced', 'fast', 'except', 'drive', 'celebrated', \"we'll\", 'twentyfour', 'reads', 'phones', 'measure', 'institute', 'infrastructure', 'hot', 'guy', 'equality', 'congo', 'unable', 'surprised', 'signs', 'racism', 'nevertheless', 'monday', 'innocent', 'ghana', 'brings', 'average', 'animals', 'supply', 'spirit', 'effective', 'corrupt', 'baby', 'technologies', 'teacher', 'sri', 'representative', 'manner', 'loved', 'informed', 'host', 'forms', 'dark', 'conflicts', 'chosen', 'behavior', 'beaten', 'summit', 'reforms', 'reduce', 'permission', 'mine', 'memory', 'income', 'highest', 'fuel', 'finding', 'desire', 'danger', 'clashes', 'cameroon', '10', 'supreme', 'singapore', \"president's\", 'le', 'ko', 'established', 'door', 'condemned', 'adds', 'turning', 'treated', 'suddenly', 'personally', 'massacre', 'mali', 'greece', 'genocide', 'examples', 'employees', 'communications', 'uganda', 'totally', 'sort', 'resistance', 'ran', 'paying', 'parliamentary', 'miss', 'formed', 'fa', 'civic', 'assistance', 'zone', \"they've\", 'recorded', 'pakistani', 'migrants', 'eye', 'designed', 'conducted', 'breaking', 'referring', 'organize', 'moral', 'matters', 'married', 'lawyers', 'greek', 'extreme', 'driving', 'complex', 'causes', 'brothers', 'advice', 'spring', 'runet', 'publicly', 'notice', 'maintain', 'knowing', 'italian', 'invited', 'incidents', 'hiv', 'follows', 'faith', 'camps', 'attend', 'ahmed', 'thursday', 'surprise', 'songs', 'shooting', 'recognize', 'ngo', 'deputy', 'aside', 'unless', 'unity', 'title', 'reflect', 'rebels', 'prepared', 'palestine', 'obvious', 'migrant', 'discovered', 'condition', 'yourself', 'virtual', \"today's\", 'spending', 'silent', 'represents', 'remove', 'offering', 'monitor', 'investment', 'intelligence', 'guys', 'generated', 'fake', 'failure', 'asian', 'witnessed', 'weather', 'portal', 'outrage', 'explanation', 'concept', 'bbc', 'argues', 'aimed', '25', 'witness', 'trouble', 'thai', 'talked', 'standards', 'realize', 'pride', 'officially', 'highlighted', 'cartoon', 'abortion', 'wonders', 'visitors', 'violations', 'rumors', 'reportedly', 'removed', 'operations', 'kinds', 'historic', 'germany', 'explaining', 'diaspora', 'courage', 'contrary', 'commercial', 'beat', 'receiving', 'passing', 'headlines', 'extent', 'diplomatic', 'causing', 'businesses', '2007', 'systems', 'owners', 'ja', 'italy', 'hungarian', 'heads', 'german', 'executive', 'creation', 'crackdown', 'charged', 'character', 'wednesday', 'urged', 'pm', 'performance', 'occupation', 'nearby', 'lies', 'isis', 'intention', 'flood', 'doctor', 'carlos', 'update', 'suggests', 'suggest', 'storm', 'sixty', 'pretty', 'persons', 'islands', 'focused', 'channels', 'bomb', 'authors', 'application', 'usa', 'sold', 'powers', 'popularity', 'monitoring', 'literature', 'leaves', 'holiday', 'goods', 'feels', 'everybody', 'dealing', 'celebrating', 'broken', 'amongst', '5', 'vladimir', 'upcoming', 'terror', 'sees', 'relevant', 'location', 'larger', 'lands', 'juan', 'exposed', 'developments', 'dear', 'attracted', 'allowing', 'activism', 'wide', 'trend', 'sixteen', \"shouldn't\", 'resulted', 'respond', 'reader', 'publication', 'phenomenon', 'merely', 'manage', 'journey', 'fund', 'fired', 'feed', 'cold', 'attended', 'ambassador', 'strikes', 'reminds', 'promises', 'ngos', 'malawi', 'mainland', 'interviews', 'interviewed', 'guard', 'governor', 'gaddafi', 'funding', 'existence', 'commitment', 'bridge', 'warned', 'trees', 'terrorists', 'teaching', 'strength', 'seventeen', 'recognized', 'lower', 'kenyan', 'intervention', 'haitian', 'gained', 'floods', 'david', 'blamed', 'armenian', 'widespread', 'spaces', 'resignation', 'occurred', 'obviously', 'educational', 'discussing', 'captured', 'burning', 'boy', 'asylum', 'nice', 'navalny', 'harassment', 'contribute', 'commenting', 'afford', 'addressed', 'actual', 'accepted', 'players', 'ms', 'kremlin', 'helps', 'false', 'dozens', 'diverse', 'debt', 'banks', 'argued', 'amazon', 'worry', 'teach', 'serbia', 'riots', \"putin's\", 'politically', 'peruvian', 'net', 'materials', 'lists', 'imposed', 'housing', 'entered', 'design', 'definitely', 'coast', 'catholic', 'besides', 'base', 'azerbaijan', 'weekend', 'taliban', 'suffer', 'stance', 'sports', 'selling', 'scandal', 'recognition', 'rare', 'questioned', 'mothers', 'ministers', 'losing', 'license', 'lady', 'humans', 'filled', 'differences', 'collect', 'adding', 'symbol', 'reference', 'photographer', 'patients', 'nobel', 'humanity', 'goals', 'gather', 'fully', 'everywhere', 'easier', 'duty', 'criticize', 'collection', 'club', 'agenda', 'achieved', 'tries', 'supports', 'option', 'opposed', 'multiple', 'linked', 'estimated', 'equipment', 'circumstances', 'approved', 'animal', 'alliance', 'wellknown', 'uprising', 'targeted', 'statistics', 'sitting', 'referred', 'plants', 'marked', 'liberal', 'kingdom', 'honor', 'guess', 'expensive', 'existing', 'collected', 'transport', 'task', 'hide', 'establish', 'christians', 'century', 'associated', 'actively', 'worker', 'walls', 'voted', 'speakers', 'reacted', 'organizing', 'occupied', 'intended', 'ignored', 'identify', 'forgotten', 'footage', 'drugs', 'diversity', 'critics', 'conversations', 'argument', 'absence', '2006', 'unrest', 'unemployment', 'touch', 'style', 'sister', 'privacy', 'peoples', 'mistake', 'meetings', 'judicial', 'hoping', 'highlight', 'generally', 'demanded', 'college', 'cambodia', 'cabinet', 'bear', 'armenia', 'y', 'violation', 'treat', 'ties', 'test', 'session', 'season', 'scared', 'sanctions', 'regulations', 'realized', 'politician', 'organizers', 'mohammed', 'minds', 'libyan', 'jos', 'initial', 'hatred', \"hasn't\", 'ethiopia', 'equal', 'elsewhere', 'destroy', 'approval', 'wondering', 'visiting', 'sudanese', 'shame', 'served', 'rejected', 'push', 'programme', 'product', 'openly', 'observers', 'meat', 'lots', 'involvement', 'identified', 'homosexuality', 'evil', 'engage', 'enemy', 'employment', 'centers', 'adopted', '30', 'verdict', 'severe', 'primary', 'presidency', 'offices', 'negotiations', 'ignore', 'escape', 'difficulties', 'closer', 'busy', 'bolivia', 'argue', '11', 'setting', 'sentenced', 'paul', 'palace', 'legislative', 'granted', 'dictator', 'declaration', 'connected', 'career', 'bigger', 'arabs', 'allegations', 'accident', 'wake', 'universities', 'types', 'sit', 'serbian', 'repression', 'range', 'racist', 'protecting', 'protected', 'participated', 'networking', 'guards', 'fraud', 'dance', 'da', 'collaboration', 'blocking', 'arrests', 'agriculture', 'wealth', 'threatening', 'specifically', 'shocked', 'revolutionary', 'restrictions', 'requires', 'placed', 'moments', 'flooding', 'films', 'featured', 'ethiopian', 'catch', 'welcomed', 'variety', 'survey', 'participating', 'origin', 'orders', 'hospitals', 'founder', 'direction', 'capture', 'beauty', 'aspects', 'vice', 'tokyo', 'surveillance', 'strongly', 'reflects', 'refers', 'prior', 'objective', 'neighbors', 'limit', 'hurt', 'holds', 'headquarters', 'guilty', 'fundamental', 'fears', 'exists', 'correct', 'continuing', 'citizenship', 'celebrations', 'canada', 'appropriate', 'ancient', 'zero', 'structure', 'stood', 'standard', 'situations', 'sina', 'roma', 'remained', 'relatively', 'refuse', 'pope', 'largely', 'governance', 'encouraging', 'empty', 'criticizing', 'condemn', 'attract', 'arguments', 'winning', 'walking', 'vulnerable', 'useful', 'strip', 'star', 'scale', 'questioning', 'onto', 'judges', 'harm', 'emerged', 'del', 'decade', 'consumption', '12', 'watched', 'unknown', 'sustainable', 'spot', 'slogans', 'shock', \"she's\", 'quoted', 'penalty', 'israelis', 'iranians', 'inhabitants', 'hidden', 'hashtags', 'freely', 'fought', 'fan', 'displaced', 'ceremony', 'angola', 'vision', 'transportation', 'towns', 'sick', 'reaching', 'institution', 'indonesian', 'hair', 'greatest', 'fresh', 'drivers', 'distributed', 'detailed', \"city's\", 'buying', 'arrival', 'apply', 'algerian', '14', 'viral', 'tuesday', 'separate', 'papers', 'organisation', 'mixed', 'livejournal', \"iran's\", 'guarantee', 'gold', 'flickr', 'fled', 'ends', 'elite', 'degree', 'debates', 'cuts', 'connect', 'complaints', 'australian', 'additional', 'accusations', 'academic', 'turns', 'tour', 'stands', 'spoken', 'risks', 'responses', 'reputation', 'proof', 'poll', 'originally', 'neighboring', 'memories', 'markets', 'john', 'injustice', 'hotel', 'harsh', 'drawing', 'deny', \"d'ivoire\", 'currency', 'brutal', 'washington', 'twentythree', 'traditions', 'syrians', 'speaks', 'sought', 'regularly', 'poster', 'overseas', \"one's\", 'liberation', 'kazakhstan', 'joy', 'jordan', 'iraqi', 'fell', 'encouraged', 'distribution', 'civilian', 'chilean', 'card', 'translate', 'singer', 'salary', 'ruled', 'proposals', 'posters', 'portugal', 'plastic', 'offensive', 'lgbt', 'jewish', 'fate', 'fashion', 'defending', 'cell', 'audio', 'ad', '8', 'villagers', 'theme', 'temporary', 'senior', 'remind', 'nigerian', 'dreams', 'downtown', 'cultures', 'chaos', 'brotherhood', 'annual', 'tunisians', 'suspected', 'surely', 'sun', 'sensitive', 'pushed', 'professionals', 'positions', 'plight', 'olympics', 'occasion', \"obama's\", 'expresses', 'eighty', 'divided', 'considers', 'connections', 'affecting', 'vietnam', 'usual', 'universal', 'track', 'shelter', 'sentiment', 'scheduled', 'promise', 'presents', 'poetry', 'photography', 'malaysian', 'hungary', 'fish', 'facilities', 'explosion', 'effectively', 'crazy', 'communicate', 'closely', 'cash', 'amazing', '7', 'workshops', 'venezuelan', 'understood', 'tough', 'terrible', 'tears', 'suspended', 'strange', 'slow', 'registration', 'preserve', 'owner', 'organisations', 'mosque', 'lie', 'li', 'grassroots', 'graffiti', 'formal', 'fiji', 'exercise', 'drop', 'draft', 'dam', 'colombian', 'coffee', 'classes', 'barack', 'anywhere', 'trafficking', 'tone', 'tension', 'taxi', 'table', 'stuff', 'stability', 'runs', 'rallies', 'pieces', 'opponents', 'movies', 'likes', 'kyrgyz', 'initially', 'hardly', 'frustration', 'finds', 'donations', 'dispute', 'demonstrate', 'brave', 'aids', '22', '18', \"you'll\", 'whenever', 'visa', 'typical', 'tweeting', 'traveling', 'transition', 'tend', 'st', 'senegal', 'seeks', 'ramadan', 'protestors', 'principles', 'olympic', 'older', 'minute', 'liu', 'lanka', \"israel's\", 'furthermore', 'elements', 'educated', 'earn', 'driver', 'deserve', 'courts', 'contest', 'constantly', 'confidence', 'concerning', 'brutality', 'agents', 'wishes', 'winter', 'tribute', 'tree', 'tired', 'taught', 'store', 'reminded', 'register', 'preparing', 'plane', 'partnership', 'michael', 'methods', 'keeps', 'involving', 'impunity', 'hearts', 'founded', 'federation', 'euros', 'eating', 'deeply', 'commit', 'cast', 'calm', 'band', 'assad', 'advocacy', 'abu', 'tech', 'survive', 'stupid', 'somehow', 'slogan', 'shortage', 'shall', 'seats', 'rates', 'partners', 'overcome', 'medvedev', 'kim', 'joke', 'inform', 'generations', 'funeral', 'flow', 'episode', 'display', 'cry', 'couples', 'constant', 'conscience', 'capable', 'beirut', 'anyway', 'absolutely', 'taiwanese', 'stating', 'species', 'sounds', 'resolution', 'qatar', 'perfect', \"nation's\", 'happiness', 'flowers', 'feature', 'enforcement', 'cooperation', 'contract', 'bombs', 'belief', 'begun', 'answers', 'afternoon', 'acting', 'zimbabwe', 'tea', 'supplies', 'sorry', 'shortly', 'rico', 'polls', 'polling', 'opposite', 'league', 'labour', 'joining', 'heavily', 'grew', 'finance', 'broadcasting', 'attempted', 'atmosphere', 'younger', 'till', 'royal', 'pick', 'minorities', 'limits', 'letters', 'kuwait', 'justify', 'investigate', 'intellectual', 'drew', 'consumers', 'conspiracy', 'conservation', 'compensation', 'combat', 'charity', 'cancer', 'belong', 'algeria', 'afghan', '6', '2000', '17', '13', 'zambia', 'urgent', 'unlike', 'triggered', 'theory', 'struck', 'shop', 'scientific', 'require', 'replace', 'offline', 'lesson', 'kyrgyzstan', 'kidnapped', 'intense', 'indians', 'friendly', 'emotional', 'dying', 'doors', 'directed', 'describing', 'capacity', 'brief', 'advocates', '28', 'winner', 'trending', 'siege', 'sectors', 'rwanda', 'ride', 'puts', 'prompted', 'passion', 'nineteen', 'nationalist', 'listening', 'library', 'hu', 'homeless', 'gun', 'guide', 'grown', 'georgia', 'editorial', 'drink', 'double', 'dogs', 'divide', 'defended', 'colonial', 'catalan', 'cameras', 'boat', 'awards', '23', 'vehicles', 'surrounded', 'resource', 'regulation', 'reduced', 'possibly', 'murdered', 'mahmoud', 'journal', 'flight', 'fill', 'fail', 'dog', 'determined', 'complaint', 'blue', 'blind', 'bangkok', 'assault', 'advance', '9', '21', 'yellow', 'window', 'weak', 'vast', 'twentytwo', 'tibetan', 'soldier', 'rt', 'quiet', 'publishes', 'polish', 'plays', 'picked', 'owned', 'organised', 'mistakes', 'minimum', 'jazeera', 'humor', 'guatemala', 'excuse', 'entering', 'discusses', 'cte', \"children's\", 'bombing', 'wounded', 'workshop', \"weren't\", 'unprecedented', 'ultimately', 'stadium', 'southeast', 'sitin', 'reveal', 'requested', 'represented', 'promoted', 'passengers', 'museum', 'mentions', 'macedonian', 'kurdish', 'insulting', 'implement', 'hell', 'frequently', 'filed', 'expert', 'dare', 'concrete', 'characters', 'agricultural', 'advertising', '16', 'wikileaks', 'tehran', 'sympathy', 'stronger', 'spite', 'somewhat', 'sleep', 'shops', 'seventy', 'pushing', 'prevented', 'phrase', 'omar', 'oh', 'macedonia', 'ivorian', 'introduce', 'fishing', 'detail', 'crucial', 'contains', 'approximately', 'app', 'weekly', 'twice', 'twentyeight', 'tensions', 'studying', 'struggling', 'strategic', 'sarkozy', 'regard', 'records', 'racial', 'quotes', 'prosecutor', 'leads', 'joint', \"japan's\", 'investors', 'hall', 'drawn', 'documented', 'dhaka', 'carnival', 'beings', 'attacking', 'abandoned', 'walked', 'transfer', 'subjects', 'seat', 'screen', 'sake', 'rivers', 'rhetoric', 'radical', 'partner', 'oppose', 'mauritania', 'manager', 'lyrics', 'listed', 'imprisoned', 'implemented', 'id', 'globe', 'drinking', 'disappeared', 'determine', 'costa', 'convinced', 'contributed', 'conduct', 'castro', 'bought', 'beating', 'bahraini', 'wild', 'wage', 'transparent', 'struggles', 'scenes', 'react', 'priority', 'madrid', 'machine', 'injuries', 'industrial', 'hijab', 'flying', 'finished', 'export', 'explore', 'entirely', 'electronic', 'elderly', 'dropped', 'discover', 'demonstrated', 'decree', 'bureau', 'boys', 'announce', 'unite', 'thugs', 'slavery', 'singing', 'route', 'reveals', 'resulting', 'purchase', 'poet', 'overall', 'motivated', 'medicine', 'lucky', 'literally', 'impression', 'headed', 'fourth', 'farm', 'extra', \"egypt's\", 'doubts', 'disasters', 'credit', 'attending', 'arrive', 'affects', 'wonderful', 'wars', 'urge', 'tragic', 'throw', 'supposedly', 'sms', 'secular', 'remote', 'proved', 'lessons', 'imprisonment', 'impose', 'gulf', 'grounds', 'generate', 'driven', 'cyber', 'congolese', 'condemning', 'cat', 'bread', 'appreciate', \"africa's\", 'u', 'twentyone', 'teams', 'taxes', 'sky', 'remaining', 'profit', 'prepare', 'ok', 'niger', 'necessarily', 'locations', 'jailed', 'items', 'idf', 'hosted', 'hopefully', 'highway', 'flooded', 'favorite', 'familiar', 'dominican', 'customers', 'cheap', 'burmese', 'apartment', 'administrative', '2015', 'yemeni', 'viewers', 'urging', 'threaten', 'targeting', 'submit', 'starts', 'selected', 'refer', 'provinces', 'protested', 'properly', 'print', 'mp', 'migration', 'invite', 'highlighting', 'gap', 'fires', 'fed', 'engaged', 'enemies', 'echo', 'distance', 'cycle', 'controlled', \"brazil's\", 'beach', 'assume', '26', 'tactics', 'succeeded', 'strengthen', 'smaller', 'size', 'signatures', 'serving', 'ridiculous', 'representing', 'prefer', 'ninety', 'islamist', 'innovative', 'honest', 'grant', 'feminist', 'euromaidan', 'establishment', 'edition', 'dirty', 'conclusion', 'comprehensive', 'commentary', 'collapse', 'bullets', 'blaming', 'begins', 'abuses', 'wikipedia', 'twentysix', 'tens', 'tajikistan', 'que', 'prisoner', 'practical', 'planet', 'passport', 'oppression', 'opposing', 'mumbai', 'kyiv', 'jews', 'holy', 'hero', 'grand', 'documenting', 'disappointment', 'credibility', 'convicted', 'cnn', 'addressing', 'wondered', 'wang', 'trained', 'outraged', 'operating', 'method', 'locals', 'literary', 'judiciary', 'janeiro', 'forums', 'focusing', 'exile', 'engagement', 'denounce', 'crossing', 'concert', 'citing', 'chemical', 'buses', 'behalf', 'basically', 'banning', 'appearance', 'admitted', 'accompanied', 'waters', 'translations', 'testimonies', 'stayed', 'solar', 'shoot', 'shoes', 'secure', 'relationships', 'praise', 'noise', 'marks', 'investigative', 'interim', \"india's\", 'han', 'featuring', 'dressed', 'domain', 'declare', 'damascus', 'corner', 'confusion', 'concludes', 'concluded', 'challenging', 'brand', 'bars', 'barely', 'wind', 'taste', 'submitted', 'socialist', 'soccer', 'scenario', 'reflected', 'raped', 'punished', 'promotion', 'newly', 'mozambique', 'logic', 'legitimate', 'latter', 'iron', 'funny', 'forcing', 'firm', 'experiencing', 'expectations', 'deals', 'crying', 'core', 'censored', 'box', 'bn', 'aspect', 'arguing', 'applied', 'accountability', 'welfare', 'toll', 'sale', 'salaries', 'requests', \"party's\", 'los', 'investigations', 'healthy', 'genuine', 'extremist', 'expand', 'entertainment', 'dubbed', 'delivered', 'corporate', 'category', 'bulgarian', 'bin', 'ballot', 'applications', 'alongside', 'accusing', 'accessible', 'violated', 'updated', 'throwing', 'stock', 'shopping', 'relation', 'reflection', 'rains', 'permanent', 'musicians', 'mps', 'legacy', 'isolated', 'grave', 'graphic', 'essential', 'entrance', 'endangered', 'ecuadorian', 'discourse', 'disappointed', 'desperate', 'creates', 'covers', 'complain', 'color', 'caucasus', 'cards', 'cable', 'adults', \"you've\", 'staying', 'sovereignty', 'somewhere', 'soil', 'skin', 'shift', 'saleh', 'restore', 'reject', 'provoked', 'prayers', 'plus', 'personnel', 'options', 'lake', 'innovation', 'initiated', 'influential', 'ii', 'hiding', 'gang', 'framework', 'forests', 'floor', 'extensive', 'enjoyed', 'encourages', 'contemporary', 'arts', 'aftermath', '2005', 'wedding', 'visits', 'surprising', 'soul', 'santa', 'rightwing', 'rajoelina', 'panic', 'nonprofit', 'mourning', 'liked', 'legally', \"korea's\", 'killings', 'ict', 'horrible', 'hassan', 'flee', 'factors', 'exhibition', 'enormous', 'dress', 'division', 'description', 'criticizes', 'crimea', 'corporations', 'clothing', 'birthday', 'banner', 'announcing', 'actors', '24', '19', 'vital', 'visible', \"ukraine's\", 'sugar', 'straight', 'sons', 'shirts', 'returning', 'respected', 'resolve', 'resign', 'quoting', 'progressive', 'pointing', 'pacific', 'obtain', 'governmental', 'golden', 'flags', 'file', 'fields', 'favour', 'deleted', 'deadly', 'daniel', 'cooking', 'contribution', 'contain', 'comparison', 'cambodian', 'burn', 'blockade', 'ashamed', 'apparent', 'agreements', 'adopt', 'accountable', 'tibet', 'threw', 'suspect', 'survivors', 'suggesting', 'sudden', 'stuck', 'spokesperson', 'slowly', 'selection', 'sectarian', 'rid', 'rican', 'resident', 'regimes', 'realities', 'procedures', 'principle', 'plenty', 'peacefully', 'nowadays', 'missed', 'medium', 'hoped', 'falling', 'excessive', 'drought', 'detainees', 'destroying', 'decent', 'dancing', 'cool', 'contrast', 'consensus', 'coal', 'chain', 'cent', 'buddhist', 'birds', 'belongs', 'artistic', 'allies', 'twentyseven', 'tsunami', 'smile', 'similarly', 'significance', 'shed', 'replaced', 'promotes', 'noting', 'masses', 'marry', 'lima', 'invasion', 'integration', 'implementation', 'ideological', 'ideal', 'guardian', 'george', 'gbagbo', 'forever', 'feet', 'execution', 'ending', 'dozen', 'deserves', 'crowds', 'copy', 'ceasefire', 'authoritarian', 'attorney', 'answered', 'windows', 'warm', 'timor', 'talent', 'stereotypes', 'self', 'roots', 'root', 'restaurants', 'remarks', 'player', 'perspectives', 'parade', 'moves', 'maria', 'maldives', 'luis', 'landscape', 'implications', 'giant', 'fukushima', 'fit', 'equally', 'economist', 'deliver', 'correa', 'computers', 'complicated', 'cartoonist', 'balance', 'alex', 'ahmadinejad', 'addresses', 'accuse', 'abdullah', '100000', 'vehicle', 'unlikely', 'trash', 'sing', 'ship', 'scholars', 'scheme', 'reviews', 'residence', 'repeated', 'recording', 'reconciliation', 'rapidly', 'quote', 'pursue', 'pray', 'pedro', 'narrative', 'morsi', 'ma', 'lights', 'legitimacy', 'forbidden', 'factory', 'e', 'banners', 'angolan', 'ages', 'affair', 'adult', '29', 'witnesses', 'weight', 'unclear', 'ukrainians', 'tunis', 'tourist', 'testimony', 'territories', 'stolen', 'snowden', 'smoke', 'slightly', 'sets', 'sentences', 'restaurant', 'regards', 'providers', 'primarily', 'potentially', 'policemen', 'perform', 'orthodox', 'obstacles', 'o', 'liberia', 'involves', 'ignorance', 'ideology', 'homosexuals', 'hence', 'georgian', 'folks', 'external', 'exploitation', 'excellent', 'earned', 'diseases', 'count', 'complained', 'circulated', 'campus', 'cameroonian', 'brazilians', 'belonging', 'awarded', 'anthem', 'advertisement', 'admit', 'tortured', 'strict', 'stone', 'speed', 'societies', 'scientists', 'saved', 'rock', 'replied', 'remembered', 'rarely', 'r', 'pull', 'notion', \"navalny's\", 'municipal', 'meters', 'meal', 'mapping', 'loud', 'insurance', 'importantly', 'hosting', 'filtering', 'extend', 'expose', 'exact', 'entrepreneurs', 'dictators', 'delhi', 'counter', 'convince', 'commenter', 'circle', 'casualties', 'boost', 'bed', 'bags', 'apology', 'aggressive', 'worries', 'virus', 'unions', 'tribal', 'texts', 'survival', 'steal', 'silva', 'signing', 'shia', 'shanghai', 'robert', 'purposes', 'profession', 'preparation', 'port', 'populations', 'podcast', 'permit', 'outcome', 'obtained', 'letting', 'insult', 'inevitable', 'industries', 'francisco', 'facilitate', 'exception', 'emerging', 'cruel', 'contributions', 'commons', 'collaborative', 'assassination', 'yuan', 'whoever', 'vkontakte', 'unit', 'unfortunate', 'ugandan', 'translates', 'theater', 'technological', 'tanks', 'successfully', 'stress', 'sight', 'shots', 'shape', 'severely', 'repeatedly', 'recalls', 'rebel', 'ravalomanana', 'precisely', 'poem', 'painful', 'nationwide', 'musical', 'mountains', 'maintaining', 'ladies', 'khan', 'introduction', 'insisted', 'honduras', 'function', 'foot', 'emotions', 'echoed', 'defined', 'defence', 'customs', 'clip', 'bhutan', 'attitudes', 'attempting', 'amidst', 'absolute', 'wing', 'viewed', 'urges', 'upper', 'thrown', \"they'll\", 'temple', 'tajik', 'raises', 'publications', 'monarchy', 'moderate', 'meme', 'kid', 'jordanian', 'jokes', 'inequality', 'indicate', 'incredible', 'ignoring', \"here's\", 'handle', 'fighters', 'evident', 'eviction', 'euro', 'ebola', 'disturbing', 'confrontation', 'confirm', 'collecting', 'childhood', 'censor', 'burned', 'b', 'athletes', 'antigovernment', 'aleppo', 'actor', 'voter', 'speeches', 'sin', 'sadness', 'rapid', 'psychological', 'proven', 'perpetrators', 'pdf', 'pardon', 'optimistic', 'observed', 'objectives', 'novel', 'nationality', 'nairobi', 'mere', 'lee', 'jan25', 'homeland', 'fulfill', 'finish', 'fault', 'factor', 'ethics', 'eid', 'disappearance', 'define', 'choices', 'cartoons', 'carefully', 'bottom', 'associations', 'alexey', '1000', 'traditionally', 'ticket', 'thirtyfive', 'tanzania', 'tag', 'suspicious', 'sums', 'studied', 'shocking', 'sacred', 'rose', 'resort', 'republished', 'refusing', 'recovery', 'prejudice', 'ownership', 'normally', \"minister's\", 'militants', 'meantime', 'mauritanian', 'managing', 'leaked', 'kilometers', 'indicated', 'hosni', 'horror', 'homosexual', 'heading', 'frequent', 'finger', 'fallen', 'exit', 'encounter', 'eager', 'disabled', 'deeper', 'closing', 'cinema', 'captain', 'candidacy', 'burma', 'broad', 'appeals', 'andry', 'ads', '31', 'weapon', 'usd', 'toxic', 'tiny', 'targets', 'symbols', 'subsaharan', 'staged', 'salvador', 'sales', 'reuters', 'renowned', 'punish', 'pulled', 'prevention', 'outlet', 'nonetheless', 'laugh', 'instagram', 'hungry', 'heat', 'guinean', 'gabon', 'freedoms', 'exposure', 'eve', 'denounced', 'contracts', 'cited', 'chanting', 'census', 'careful', 'belo', 'accurate', 'academy', 'zambian', 'winners', 'valley', 'unfair', 'unemployed', 'uncertainty', 'tweeps', 'tribunal', 'telephone', 'secondary', 'responding', 'reasonable', 'procedure', 'preventing', 'physically', 'perception', 'perceived', 'payment', \"pakistan's\", 'operate', 'nationalism', 'mosques', 'monks', 'mobilization', 'manuel', 'luxury', 'loves', 'kidnapping', 'irony', 'investments', 'interactive', 'inspiration', 'insist', 'governing', 'gays', 'fix', 'farming', 'extended', 'excited', 'creativity', 'corporation', 'blast', 'bid', 'backed', 'avenue', 'appointed', 'alcohol', 'accepting', 'abidjan', '5000', 'whilst', 'units', 'translators', 'tom', 'sweet', 'suu', 'supportive', 'suggestions', 'sufficient', 'subjected', 'sentiments', 'satellite', 'revolutions', 'revolt', 'reserve', 'researcher', 'requirements', 'repeat', 'removal', 'pr', 'poland', 'performed', 'motivation', 'mohammad', 'models', 'mix', 'miners', 'marketing', 'locked', 'launching', 'khaled', 'investigating', 'investigated', 'intellectuals', 'integrity', 'insight', 'handed', 'gradually', 'fleeing', 'firing', 'employers', 'elites', 'dollar', 'delay', 'curious', 'crossed', 'convention', 'consideration', 'compromise', 'commentators', 'bush', 'wider', 'wanting', 'violating', 'unesco', 'tense', 'stores', 'sorts', 'serves', 'santiago', 's', 'riding', 'residential', 'researchers', 'progovernment', 'prisons', 'prayer', 'philosophy', 'passionate', 'pablo', 'ought', 'ocean', 'nepali', 'musician', 'mouth', 'mountain', 'monument', 'marched', 'justified', 'joseph', 'ivory', 'increases', 'improving', \"group's\", 'fruit', 'forgive', 'ethical', 'emails', 'eduardo', 'economics', 'dubai', 'districts', 'discontent', 'deputies', 'compare', \"citizens'\", 'chvez', 'chairman', 'campaigning', 'branch', 'bills', 'beliefs', 'bangladeshi', 'austerity', 'argentine', 'approve', 'anybody', 'alexander', 'alert', 'agrees', 'afterwards', '50', '27', 'useless', 'undocumented', 'twentynine', 'translating', 'transform', 'tonight', 'summary', 'stepped', 'senate', 'searching', 'satirical', 'saint', 'revealing', 'reliable', 'reflecting', 'receives', 'raw', 'pure', 'prophet', 'printed', 'presidents', 'pregnant', 'praised', 'persecution', 'patriotic', 'panama', 'paint', 'occur', 'observe', 'netizen', 'neighborhoods', 'microblogging', 'logo', 'jamaica', 'istanbul', 'islamists', 'ie', 'heroes', 'guest', 'glass', 'devoted', 'defeat', 'daughters', 'counting', 'confused', 'closure', 'caracas', 'bloody', 'bashar', 'aka', 'advocate', '100', 'veil', 'valuable', 'upset', 'upload', 'translator', 'transformed', 'statue', 'sphere', 'sleeping', 'sisters', 'senator', 'screenshot', 'relative', 'quechua', 'publicity', 'prince', 'ousted', 'oscar', 'nato', 'murders', 'minor', 'militant', 'marches', 'mandate', 'lula', 'longterm', 'lay', 'kiss', 'jerusalem', 'indicates', 'hun', 'hivaids', 'harassed', 'glimpse', 'fishermen', 'filipino', 'expenses', 'excitement', 'engine', 'electric', 'edward', 'editors', 'dutch', 'donate', 'dissent', 'dismissed', 'damages', 'criticisms', 'crash', 'controls', 'condolences', 'comfortable', 'column', 'clips', 'broader', 'bright', 'brain', 'blocks', 'blackout', 'bangla', 'aggression', 'acknowledged', 'waited', 'trinidad', 'transformation', 'suspension', 'sport', 'seemingly', 'sadly', 'rushed', 'rounds', 'revenge', 'resigned', 'remarkable', 'religions', 'qualified', 'prohibited', 'producing', 'pop', 'outbreak', 'monthly', 'metro', 'mental', 'maps', 'looting', 'laid', 'koreans', 'inviting', 'introduces', 'intentions', 'imagination', 'illegally', 'hypocrisy', 'hugo', 'garca', 'format', 'filmed', 'essay', 'enable', 'employee', 'dry', 'draws', 'donation', 'disperse', 'devices', 'devastating', 'depend', 'denial', 'decrease', 'damaged', 'cubans', 'copyright', 'coordinator', 'contributing', 'cites', 'centuries', 'celebrities', 'catastrophe', 'buzz', 'bunch', 'blogged', 'badly', 'analyze', 'advanced', 'adequate', 'acknowledge', 'abdel', 'uzbekistan', 'traveled', 'tolerance', 'suspicion', 'stressed', 'stream', 'speculation', 'soft', 'slave', 'sheikh', 'shark', 'rely', 'rejection', 'reducing', 'prosecution', 'processes', 'plot', 'naturally', 'mobilize', 'lately', 'jorge', 'jan', 'institutional', 'ignorant', 'hindu', 'gift', 'garden', 'feedback', 'failing', 'extraordinary', 'emphasized', 'displayed', 'diary', 'designer', 'desert', 'contacted', 'comparing', 'colleague', 'cleaning', 'chat', 'challenged', 'cancel', 'ca', 'burden', 'brown', 'approached', '10000', 'withdraw', 'wages', 'tripoli', 'tips', 'theories', 'tackle', 'structures', 'stones', 'senegalese', 'seized', 'saving', 'responsibilities', 'ranks', 'prostitution', 'producers', 'prodemocracy', 'priest', 'pornography', \"mubarak's\", 'mob', 'master', 'lying', 'laurent', 'kuwaiti', 'keen', 'info', 'hub', 'heated', 'halt', 'focuses', 'exclusive', 'engaging', 'differently', 'destination', 'deemed', 'decline', 'cutting', 'countless', 'correspondent', 'commonly', 'burnt', 'bulgaria', 'barriers', 'bar', 'bag', 'armenians', 'album', 'aired', 'adoption', 'acceptable', '3000', 'zones', 'youths', 'wherever', 'uruguay', 'turnout', 'trucks', \"syria's\", 'sum', 'smart', 'sacrifice', 'rockets', 'proceedings', 'presentation', 'negotiation', 'necessity', 'mom', 'kicked', 'judging', 'involve', 'inflation', 'healthcare', 'haitians', 'gotten', 'garbage', 'fees', 'fairly', 'et', 'elect', 'drone', 'dawn', 'county', 'conviction', 'consultation', 'compete', 'chicken', 'apologize', 'anna', 'aiming', 'achievements', 'abused', 'wins', 'visual', 'vietnamese', 'unexpected', 'tied', 'testing', 'supporter', 'suit', 'spill', 'snow', 'signal', 'rubber', 'rocket', 'pussy', 'practically', 'poorest', 'personality', 'mutual', 'monopoly', 'maximum', 'martyrs', 'makers', 'maintained', 'losses', 'locally', 'loan', 'indignation', 'honestly', 'guidelines', 'greatly', 'graduate', 'govt', 'gaining', 'forth', 'folk', 'fly', 'expansion', 'evacuation', 'ecological', 'drama', 'discovery', 'developers', 'denying', 'deforestation', 'criteria', 'choosing', 'chen', 'carries', 'cafe', 'beloved', 'assist', 'alike', 'withdrawal', 'wildlife', \"who's\", \"we'd\", 'waves', 'vowed', 'visas', 'viktor', 'valid', 'typically', 'truck', 'touched', 'toilet', 'telecommunications', 'teenagers', 'symbolic', 'succeed', 'soap', 'slaves', 'revenue', 'reply', 'regret', \"region's\", 'raid', 'queen', 'provincial', 'presenting', 'petroleum', 'panel', 'origins', 'oppressed', 'object', 'mud', 'motives', 'moroccans', 'morality', 'mk', 'metal', 'maoists', 'loyal', 'linguistic', 'lawmakers', 'kyi', 'invest', 'ill', 'household', 'estimates', 'enjoying', 'du', 'download', 'divorce', 'declaring', 'crops', 'contributor', 'circulating', 'circles', 'chavez', 'burkina', 'bitter', 'assessment', 'arriving', 'anticorruption', 'wives', 'violently', 'victor', 'split', 'speaker', 'shouting', 'shirt', 'shake', 'sexually', 'sexuality', 'roughly', 'rome', 'repressive', 'reduction', 'random', 'rage', 'proposes', 'policeman', 'pension', 'partly', 'obligation', 'notorious', 'mood', 'miles', 'mess', 'mandatory', 'livelihood', 'learnt', 'journalistic', 'inspiring', 'inspire', 'informs', 'infamous', 'inability', 'fernando', 'exploring', 'expense', 'exclusively', 'enforce', 'duties', 'dramatic', 'dilma', 'des', 'continuous', 'comic', 'categories', 'boats', 'belarus', 'behaviour', 'barcamp', 'analysts', 'amendment', 'agent', 'accidents', 'ugly', 'trends', 'sunni', 'sue', 'subsequent', 'stick', 'skeptical', 'shameful', 'santos', 'resist', 'remembers', 'protester', 'profits', 'professors', 'planes', 'pink', 'pays', 'orientation', 'observations', 'mirror', \"media's\", 'maintains', 'junta', 'jean', 'interpretation', 'intent', 'instability', 'improved', 'imagined', 'historically', 'hired', 'harder', 'gifts', 'friendship', 'fence', 'extremists', 'executed', 'erupted', 'error', 'ease', 'destiny', 'depending', 'denouncing', 'demonstrating', 'combination', 'click', 'carbon', 'california', 'bolivian', 'autonomy', 'arresting', 'analyst', 'additionally', '2004', 'yanukovych', 'whereas', 'typhoon', 'trials', 'trapped', 'tibetans', 'striking', 'strategies', 'satisfied', 'sata', 'roof', 'representation', 'regulate', 'reconstruction', 'promising', \"project's\", 'programming', 'printing', 'photographers', 'objects', 'nigerians', 'neighbor', 'nationalists', 'marching', 'liberty', 'lets', 'km', 'jamaican', 'insecurity', 'incumbent', 'impacts', 'humala', 'hotels', 'hits', 'havana', 'harmful', \"hadn't\", 'gdp', 'gangs', 'fragile', 'fingers', 'falls', 'existed', 'endless', 'employed', 'educate', 'drove', 'drc', 'diplomacy', 'denmark', 'definition', 'decides', 'database', 'custody', 'constitute', 'confirms', 'compulsory', 'ccp', 'canadian', 'briefly', 'blow', 'arm', 'addis', 'absurd', '21st', 'yemenis', 'witnessing', 'warnings', 'virtually', 'vegetables', 'unusual', 'undermine', 'unacceptable', 'travelling', 'tests', 'survived', 'spiritual', 'recommendations', 'realise', 'radiation', 'propose', 'pl', 'pen', 'overthrow', 'observer', 'non', 'mount', 'morales', 'missile', 'mail', 'lpez', 'jump', 'ironic', 'invitation', 'invisible', 'influenced', 'impressive', 'import', 'immigrant', 'icon', 'farms', 'fame', 'fails', 'factories', 'establishing', 'empower', 'eliminate', 'elephants', 'element', 'dont', 'dire', 'deprived', 'depends', 'cristina', 'complaining', 'churches', 'cctv', 'brands', 'bother', 'believing', 'automatically', 'aung', 'audiences', 'appointment', 'amounts', 'amendments', 'alarm', '2003', 'wisdom', 'underground', 'threatens', 'talented', \"state's\", 'stake', 'snchez', 'showcase', 'seeds', 'saudis', 'sat', 'respective', 'reposted', 'rent', \"regime's\", 'profiles', 'preservation', 'precedent', 'poorly', 'phase', 'patient', 'nowhere', 'nicolas', 'navy', 'midnight', 'matches', 'martin', 'mapuche', 'manila', 'malian', 'luck', 'logging', 'lift', 'leftist', 'las', 'kenyans', 'jesus', 'ibrahim', 'hunt', 'headline', 'grab', 'gesture', 'fighter', 'facility', 'exposing', 'evictions', 'ensuring', 'englishlanguage', 'empire', 'duma', 'departure', 'departments', 'crew', 'courageous', 'contributors', 'containing', 'consists', 'confident', 'conferences', 'competing', 'committing', 'clinic', 'charles', 'chances', 'bridges', 'aymara', 'atrocities', 'approaches', 'amid', 'abandon', '4th', 'worrying', \"woman's\", 'wished', 'ushahidi', 'understands', 'tribe', 'tolerate', \"thailand's\", 'subtitles', 'stateowned', 'significantly', 'sessions', 'scary', 'scandals', 'sarah', 'ritual', 'ring', 'richard', 'refuses', 'recommend', 'rational', 'quake', 'prokremlin', 'producer', 'privilege', 'pretend', 'pose', 'piera', 'philippine', 'performing', 'passports', 'paraguay', 'overnight', 'outcry', 'ours', 'municipality', \"mother's\", 'midst', 'meaningful', 'manifesto', 'lifted', 'libraries', 'label', 'killers', 'kareem', 'ivan', 'irresponsible', 'ironically', 'imports', 'hussein', 'helicopters', 'handling', 'guaranteed', 'grief', 'glad', 'francophone', 'fortyfive', 'fortunately', 'fifth', 'experiment', 'expecting', 'essence', 'efficient', 'documentation', 'dmitry', 'devastated', 'considerable', 'consequence', 'confront', 'checking', 'britain', 'bet', 'au', 'wealthy', 'warrant', 'versions', 'transitional', 'transferred', 'thirtyone', 'thieves', 'suspects', 'surgery', 'super', 'substantial', 'stigma', 'somebody', 'scope', 'rwandan', 'respects', 'rebuild', 'pool', 'plaza', 'perfectly', 'patriotism', 'painted', 'overwhelming', 'monte', 'mentioning', 'memorial', 'mechanism', 'marc', 'linking', 'interestingly', 'inclusion', 'hydroelectric', 'humorous', 'homophobia', 'haram', 'hanging', 'handful', 'guns', 'generating', 'fortyeight', 'flu', 'findings', 'fifa', 'felipe', 'faso', 'fantastic', 'extremism', 'expressions', 'europeans', 'ethnicity', 'ethiopians', 'estate', 'escaped', 'emphasis', 'embargo', 'elders', 'distribute', 'dissidents', 'dinner', 'determination', 'demonstrates', 'demolition', 'darkness', 'dangers', 'dad', 'd', 'curriculum', 'cure', \"court's\", 'consumer', 'consciousness', 'congratulations', 'clash', 'chanted', 'calendar', 'cajamarca', 'bride', 'bribes', 'blasphemy', 'beer', 'bay', 'barbados', 'babies', 'apple', 'abbas', 'zhang', 'wounds', 'woke', 'verify', 'troubles', 'tent', 'stirred', 'spotlight', 'solid', 'smoking', 'sincere', 'silly', 'sic', 'shadow', 'settled', 'select', 'secrets', 'screaming', 'scholar', 'sarcastic', 'sample', 'retweeted', 'restricted', 'recover', 'ranging', 'rafael', 'quo', 'produces', 'pregnancy', 'preferred', 'performances', 'passage', 'operators', 'occasions', 'observation', 'momentum', 'misery', 'mask', 'mara', 'manga', 'magic', 'loose', 'lifestyle', 'les', 'lankan', 'kurds', 'item', 'internationally', 'intend', 'imf', 'gross', 'gallery', 'gains', 'flotilla', 'fearing', 'farc', 'explosions', 'evacuated', 'donors', 'dominated', 'disagreement', 'dialect', 'delivery', 'counted', 'coordination', 'comfort', 'colors', 'colonel', 'collapsed', 'chamber', 'boss', 'barcelona', 'bans', 'attached', 'athens', 'associate', 'approaching', 'allah', 'acted', 'worthy', 'wishing', 'willingness', 'warns', 'voiced', 'violate', 'updating', 'umbrella', 'tons', 'tight', 'tickets', 'temporarily', 'suspend', 'suggestion', 'stopping', 'spokesman', 'somalia', 'simultaneously', 'sends', 'satire', 'rica', 'renewed', 'refuge', 'recognizes', 'railway', 'quit', 'provocative', 'profound', 'predicted', 'portrayed', 'portray', 'pleased', 'persian', 'pepper', 'penal', 'payments', 'orange', 'northeast', 'norms', 'nickname', 'netanyahu', 'lacking', 'kills', 'kick', 'kazakh', 'jury', 'james', 'introducing', 'intolerance', 'intimidation', 'instructions', 'inner', 'infected', 'hill', 'hackers', 'grows', 'ghanaian', 'frustrated', 'firsthand', 'fee', 'exports', \"everyone's\", 'encountered', 'embrace', 'electorate', 'dragged', 'defamation', 'dates', 'convey', 'contained', 'compiled', 'commentator', 'combined', 'clarify', 'centres', 'buenos', 'blames', 'bicycle', 'arbitrary', 'apps', 'appearing', 'alarming', 'ai', 'administrators', '2001', '200000', 'watchdog', 'warming', 'wade', 'vocal', 'van', 'undoubtedly', 'underway', 'uae', 'tremendous', 'travelled', 'togo', 'timeline', 'thread', 'thereby', 'tendency', 'sustain', 'surprisingly', 'surface', 'summarized', 'strictly', 'stir', 'somali', 'solving', 'skype', 'shortages', 'sand', 'rumor', 'rodrguez', 'reverse', 'prompting', 'prefecture', 'porto', 'pilot', 'phnom', 'patience', 'pakistanis', 'opens', 'murderers', 'multimedia', 'motion', 'mock', 'minimal', 'limitations', 'lasted', 'landed', 'invested', 'intervene', 'interpreted', 'intends', 'incredibly', 'implementing', 'hitting', 'guineabissau', 'guarantees', 'gatherings', 'freed', 'fewer', 'enforced', 'dissident', 'difficulty', 'delegation', 'defends', 'criticised', 'critic', 'confronted', 'condemnation', 'compares', 'commissioner', 'command', 'columnist', 'clinton', 'clients', 'civilization', 'caption', 'bullet', 'brunei', 'bird', 'battles', 'antananarivo', 'announces', 'ambitious', '20th', '20000', 'zealand', \"workers'\", 'wellbeing', 'vuvuzela', 'volume', 'venue', \"valentine's\", 'treating', 'timorese', 'tiananmen', 'tents', 'technically', 'teaches', 'summed', 'subway', 'stars', 'signature', 'servants', 'scaf', 'row', 'roskomnadzor', 'rohingya', 'reserves', 'reminder', 'reflections', 'recycling', 'recipe', 'recession', 'purchasing', 'privileged', 'preparations', 'precious', 'pigs', 'para', 'pad', 'overview', 'nights', 'missiles', 'mentality', 'mandela', 'm', 'lunch', 'lawsuit', 'laos', 'kosovo', 'kitchen', 'khmer', 'irregularities', 'intensified', 'install', 'illustrates', 'ideals', 'hostile', 'hostage', 'hopeful', 'honour', 'funded', 'formation', 'filter', 'filmmaker', 'feared', 'factions', 'equivalent', 'epidemic', 'entity', 'ears', 'dishes', 'defenders', 'danish', 'damn', 'cyclone', 'corps', 'confiscated', 'confessed', 'coastal', 'champion', 'cats', 'catalonia', 'cape', 'cancelled', 'cables', 'budapest', 'bound', 'bombings', 'boko', 'backgrounds', 'andor', 'alternatives', 'advocating', 'adapt', 'aboriginal', 'yang', 'wash', 'trailer', 'themes', 'stresses', 'spy', 'spectrum', 'smell', 'slum', 'slovakia', 'skopje', 'sinai', 'shahbag', 'settlers', 'seconds', 'refusal', 'references', 'recall', 'rebellion', 'prosecutors', 'pro', 'powder', 'por', 'oleg', 'oldest', 'odds', 'occupying', 'notably', 'nonviolent', 'neighbourhood', 'negotiate', 'medal', 'marginalized', 'malawians', 'maidan', 'issuing', 'interaction', 'interact', 'informal', 'illustrate', 'identities', 'identifies', 'hunting', 'hang', 'hacked', 'girlfriend', 'filming', 'fiction', 'feeds', 'farmer', 'evacuate', 'england', 'economically', 'disputed', 'dimension', 'deployed', 'deceased', 'crises', 'cook', 'contents', 'consulate', 'conclusions', 'compassion', 'cofounder', 'clubs', 'cloud', 'certificate', 'celebrates', 'cafes', 'buried', 'breaks', 'bombed', 'biased', 'ballots', 'archive', 'antonio', 'ally', 'aires', 'acquired', 'yours', 'yan', 'xi', 'writings', 'worship', 'welcoming', 'vs', 'vigil', 'unhappy', 'tshirts', 'tshirt', 'thirtythree', 'therapy', 'theatre', 'switch', 'suppress', 'strongest', 'stealing', 'sovereign', 'shit', 'script', 'sahara', 'rush', 'routine', 'rocks', 'rituals', 'restrict', 'reacting', 'principal', 'praising', 'ppl', 'possibilities', 'poems', 'pleasure', 'petrol', 'permits', 'penh', 'paz', 'parallel', 'par', 'ouattara', 'organise', 'optimism', 'okay', 'nonsense', 'niqab', 'neighbouring', 'naked', 'muhammad', 'mousavi', 'mexicans', 'malala', 'literacy', 'lingua', 'libyans', 'legs', \"kong's\", 'killer', 'kevin', 'kabul', 'jumped', 'invites', 'insults', 'instrument', 'instant', 'installation', 'indepth', 'inciting', 'improvement', 'impressions', 'ilya', 'ice', 'husbands', 'hosts', 'hey', 'harmony', 'guests', 'guangzhou', 'grievances', 'grants', 'grandmother', 'gate', 'founding', 'firmly', 'exam', 'evolution', 'engineering', 'emissions', 'drones', 'donated', 'disputes', 'dish', 'directors', 'despair', 'descent', 'deliberately', 'curfew', 'cries', 'creole', 'creators', 'courses', 'counts', 'countryside', 'counterparts', 'coordinated', 'commemorate', 'collaborate', 'businessman', 'boundaries', 'biya', 'billions', 'azerbaijani', 'awaiting', 'assets', 'assaults', 'architecture', 'anxiety', 'ancestors', \"america's\", 'aged', 'admits', 'accuses', 'zeinobia', \"you'd\", \"yesterday's\", 'veterans', 'verbal', 'varied', 'uprisings', 'uniform', 'ultimate', 'treaty', 'transit', 'torn', 'tony', 'tiger', 'thirtytwo', 'stages', 'souls', 'solved', 'slovak', 'repercussions', 'reign', 'recommended', 'quarter', 'q', 'provisions', 'portion', 'phd', 'ould', 'oral', 'observing', 'n', 'myths', 'monetary', 'moldova', 'mkd', 'masks', 'manipulation', 'magnitude', 'lovers', 'loans', 'liberals', 'legislators', 'laura', 'jackson', 'installed', 'hectares', 'grateful', 'flat', 'filmmakers', 'files', 'fernndez', 'extension', 'exploration', 'entries', 'entrepreneur', 'enrique', 'engineer', 'dust', 'desperately', 'dengue', 'dealt', 'crowdsourcing', 'constructive', 'consent', 'conducting', 'commander', 'classic', 'chechen', 'charter', 'censors', 'c', 'breast', 'boxes', 'bold', 'bersih', 'benghazi', 'assaulted', 'argentinian', 'angered', 'advised', 'adventure', '80', '1st', '19th', 'youngest', 'xenophobia', 'w', 'volunteering', 'virgin', 'unofficial', 'tropical', 'trains', 'trading', 'tel', 'summarizes', 'stops', 'steel', 'spray', 'shoe', 'shaking', 'separation', 'seekers', 'rulers', 'rubble', 'returns', 'renewable', 'reminding', 'relate', 'recognizing', 'recalled', 'ranking', \"prosecutor's\", 'properties', 'priests', 'pour', 'posed', 'phrases', 'photographed', 'peter', 'parody', 'parks', 'painting', 'neck', 'mystery', 'mysterious', 'mugabe', 'militia', 'mad', 'livestock', 'lifetime', 'lesbian', 'legislature', \"lebanon's\", 'laden', 'labeled', 'karachi', 'judgment', 'integrated', 'index', 'impressed', 'humble', 'habit', 'grass', 'grandfather', \"god's\", 'freelance', 'flash', 'firefighters', 'exploit', 'excluded', 'essentially', 'erdogan', 'enthusiasm', 'enjoys', 'endure', 'emergence', 'earthquakes', 'distributing', 'disagree', 'dig', 'deportation', 'depicted', 'curse', 'croatia', 'consistent', 'confirmation', 'completed', \"company's\", 'classified', 'chongqing', 'chapter', 'candles', 'bob', 'blank', 'attackers', 'analyzed', 'alaa', 'whereabouts', 'whatsoever', 'wael', 'vandalism', 'usage', 'uproar', 'uploading', 'unfolding', 'unarmed', 'temperatures', 'tb', 'subsequently', 'stable', \"society's\", 'separatists', 'sentencing', 'secondly', 'safer', 'roll', 'reward', 'requesting', 'relating', 'quito', 'provoke', 'provocation', 'provider', 'pretext', 'praying', 'package', 'ninetynine', 'namely', 'najib', 'myth', 'multinational', 'mourn', \"moscow's\", 'mongolia', 'mocking', 'mines', 'mikhail', 'membership', 'maoist', 'maintenance', 'junior', \"island's\", 'inclusive', 'hole', 'habits', 'guadeloupe', 'graduates', 'geographic', 'frank', 'flames', 'festivities', 'expo', 'examination', 'errors', 'entities', 'empowerment', 'emphasizes', 'distinct', 'disseminate', 'dissatisfaction', 'diplomats', 'denies', 'dams', 'controlling', 'constituent', 'conscious', 'cc', 'cattle', 'cares', 'cake', 'breath', 'boom', 'bg', 'banking', 'bail', 'backs', 'apartheid', 'amr', '30000', 'yandex', 'xinjiang', 'x', 'wu', 'wood', 'wise', 'weakness', 'warn', 'vendors', 'uzbek', 'twitterers', 'tumblr', 'tribes', 'tobago', 'thorough', 'theft', 'thanked', 'techniques', 'systematic', 'swear', 'subsidies', 'solely', 'socially', 'sochi', 'skepticism', 'selfdefense', 'se', 'satisfy', 'rooms', 'rivera', 'resolved', 'republican', 'repeating', 'recipes', 'quran', 'pursuing', 'poses', 'portauprince', 'plain', 'patriots', 'palm', 'owns', 'outspoken', 'outskirts', 'operated', 'netherlands', 'moi', 'mechanisms', 'mario', 'marina', 'marco', 'maker', 'loyalty', 'livelihoods', 'lions', 'lab', 'ip', 'informing', 'inevitably', 'identifying', 'humour', 'households', 'horse', 'holidays', 'handled', 'generous', 'gates', \"france's\", 'forgot', 'foreigner', 'fool', 'financing', 'filling', 'exiled', 'exciting', 'equipped', 'episodes', 'disappear', 'diego', 'deported', 'dating', 'copies', 'contacts', 'constitutes', 'composed', 'chant', 'cease', 'bribe', 'bishop', 'bishkek', \"bahrain's\", 'attendees', 'archives', 'appealed', 'anticipated', 'ahmad', 'achievement', 'accordance', 'accessing', 'academics', '70', '40', '12th', 'youngsters', 'uncle', 'ugandans', 'travels', 'tournament', 'touching', 'surfaced', 'sticks', 'statues', 'specialists', 'spark', 'shook', 'sharp', 'seventyfive', 'settle', 'scientist', 'sciences', 'scare', 'sanitation', 'roman', 'rolling', 'retired', 'retaliation', 'regarded', 'rampant', 'purchased', 'provision', 'processing', 'petersburg', 'personalities', 'patterns', 'outreach', 'organ', 'nurses', 'nurse', 'nov', 'nose', 'nationals', 'moon', 'mobilized', 'miguel', 'mercy', \"medvedev's\", 'mao', 'machines', 'length', 'laughing', 'jose', 'invented', 'invaded', 'instances', 'insists', 'inmates', 'injury', 'inappropriate', 'imported', 'horrific', 'hamid', 'hacking', 'francis', 'founders', 'formula', 'forming', 'feeding', 'extensively', 'evaluation', 'eng', 'efficiency', 'dictionary', 'demographic', 'delivering', 'dc', 'dakar', 'cynical', 'custom', 'crack', 'corn', 'cope', 'conclude', 'comics', 'coach', 'chris', 'chechnya', 'caring', 'brutally', 'brussels', 'bongo', \"bloggers'\", 'bhutanese', 'bearing', 'barred', 'assumed', 'anti', 'ana', \"ahmadinejad's\", 'advances', 'addiction', 'abdul', '2002', '11th', 'walks', 'venture', 'uphold', 'universe', 'uncommon', 'uncomfortable', 'turmoil', 'tongue', 'thaksin', 'swiss', 'swine', 'suburb', 'strengthening', 'spaniards', 'sixth', 'sierra', 'sidi', 'shout', 'sheep', 'settlement', 'screens', 'schedule', 'roundup', 'roles', 'rodrigo', 'rmb', 'riyadh', 'retirement', 'reaches', 'prevents', 'presumably', 'premier', 'pouring', 'poets', 'pocket', 'pity', 'percentage', 'participatory', 'paintings', 'outstanding', 'organic', 'opera', 'norm', 'ninetyeight', 'nightmare', 'nervous', 'neighbours', 'neglect', 'nazi', 'mrs', 'martial', 'marking', 'marine', 'mama', 'magazines', 'lobby', 'lion', 'liberties', 'leak', 'largescale', \"kenya's\", 'iraqis', 'investigators', 'interference', 'indication', 'identification', 'hurts', 'humiliation', 'horn', 'hometown', 'hire', 'hesitate', \"he'll\", \"gaddafi's\", 'fortythree', 'formally', 'fixed', 'financially', 'fierce', 'ferguson', 'fb', 'evicted', 'escalation', 'endorsed', 'emerge', 'embarrassing', 'elena', 'elder', 'edge', 'echoes', 'earning', 'dominant', 'displacement', 'designated', 'debated', 'cuisine', 'courtesy', 'corrupted', 'component', 'comply', 'chileans', 'chains', 'celebrity', 'caf', 'boris', 'bo', 'benin', 'belgrade', 'bases', 'barrier', 'bare', 'avoided', 'attractive', 'attracting', 'artificial', 'angle', 'aforementioned', 'admire', 'actress', 'accomplished', 'abusive', '60', '2nd', '25th', 'yangon', 'xingu', 'voluntary', 'visibility', 'violates', 'vi', 'veteran', 'verde', 'vacation', 'v', 'unnecessary', 'underrepresented', 'twittersphere', \"tunisia's\", 'trigger', 'timing', 'tie', 'tamil', 'swept', 'suspicions', 'suitable', 'specialized', 'slums', 'sixtyfive', 'singaporeans', 'shelters', 'sections', 'searches', 'scores', 'salt', 'roundabout', 'ricardo', 'revolutionaries', 'rainforest', 'pursuit', 'prosecuted', 'precise', 'praises', 'poles', 'oct', 'obliged', 'ninetyfour', 'neutral', 'nelson', 'negotiating', 'negatively', 'na', 'monitored', 'meals', 'maya', 'maghreb', 'listing', 'listened', 'laptop', \"kremlin's\", 'kampala', 'judgement', 'jonathan', 'jeans', 'intentionally', 'intelligent', 'illness', 'hop', 'hills', 'helpless', 'guyana', 'guerrilla', 'greeks', 'grasp', 'gonna', 'goma', 'ghost', 'gabriel', 'gabonese', 'furious', 'fundraising', 'frame', 'forgiveness', 'fights', 'fever', 'faster', 'fabric', 'exploited', 'explanations', 'expelled', 'equatorial', 'enterprises', 'educators', 'editing', 'edited', 'disclose', 'depicts', 'defines', 'dec', 'customer', 'critique', 'credible', 'creator', 'coordinating', 'convert', 'contaminated', 'constructed', 'consequently', 'communal', 'commonwealth', 'commenters', 'closest', 'chernobyl', 'chants', 'broadcaster', 'blessing', 'begging', 'assured', 'assistant', 'applying', 'applicants', 'amina', 'ambitions', 'aljazeera', 'airlines', 'agendas', 'afghans', 'acceptance', 'ababa', 'yearold', 'wore', 'undertaken', 'tweep', 'toilets', 'thirtyseven', 'switzerland', 'sweeping', 'stranded', 'stormed', 'stalin', 'sergei', 'separatist', 'segment', 'sect', 'screening', 'reviewed', 'resume', 'replies', 'renewal', 'releasing', 'refrain', 'reformist', 'reelection', 'quietly', 'purely', 'prospect', 'pressing', 'pp', 'populist', 'petitions', 'peninsula', 'pattern', 'occasionally', 'nepalese', \"nepal's\", 'nasser', \"movement's\", 'motive', \"morocco's\", 'moreno', 'misinformation', 'minors', 'manages', 'lowest', 'lit', 'lama', 'laila', 'khodorkovsky', 'judged', 'javier', 'iquitos', 'intimidate', 'intervened', 'influx', 'hung', 'holes', 'hip', 'highways', 'hash', 'guilt', 'guatemalan', 'greet', \"girl's\", 'ghonim', 'fortytwo', 'forefront', 'fez', 'fascinating', \"family's\", 'fairness', 'executions', 'exclusion', 'examine', 'eternal', 'entrepreneurship', 'emphasize', 'embassies', 'eligible', 'dynamic', 'drinks', 'discredit', 'disastrous', 'disabilities', 'devastation', 'deserved', 'depression', 'depicting', 'dependent', 'deficit', 'defeated', 'declares', 'dalai', 'czech', 'crowded', 'cried', 'cops', 'coordinate', 'consume', 'confirming', 'colours', 'collectively', 'coincidence', 'classroom', 'circus', 'circulation', 'capturing', 'businessmen', 'breathe', 'bike', 'beside', 'baku', 'avoiding', 'aspirations', 'arrangement', 'arena', 'altogether', 'alejandro', 'achieving', 'accompanying', 'abolition', '1999', 'yoga', 'waving', 'tracks', 'tower', 'titles', 'televised', 'teeth', 'teenage', 'tank', 'tactic', 'taboo', 'systematically', 'sustained', 'sustainability', 'supermarket', 'summoned', \"students'\", 'storytelling', 'storms', 'stomach', 'stole', 'staterun', 'staging', 'sporting', 'sponsor', 'sole', 'server', 'separated', 'seoul', 'selfish', 'sara', 'sa', 'ruin', 'rotten', 'rooted', 'rob', 'resentment', 'remembering', 'relates', 'rejecting', 'regulatory', 'realizing', 'rallying', 'proving', 'proves', 'prosperity', 'prez', 'portrait', 'plantations', 'perceptions', 'peasants', 'patriarchal', 'pas', 'parent', 'pan', 'pack', 'overwhelmed', 'ntv', 'nomination', 'neglected', 'narrow', 'motto', 'misuse', 'michel', 'mediterranean', 'massacres', 'martinique', 'marchers', 'mall', 'lobbying', 'load', 'lengthy', 'lecture', 'lan', 'lakes', 'kagame', 'isolation', 'insulted', 'instantly', 'indirectly', 'icc', 'hurricane', 'hostages', 'homs', 'helpful', \"google's\", 'goodbye', 'globally', 'ghanaians', 'gambia', 'fuels', 'fueled', 'flew', 'feb', \"father's\", 'famine', 'evo', 'eric', 'encouragement', 'elimination', 'drafted', 'displays', 'discriminatory', 'desk', 'democrats', 'delete', 'dedicate', \"day's\", \"d'tat\", 'cycling', \"cuba's\", 'cruz', 'convenient', 'construct', 'condemns', 'competitive', 'colorful', 'colony', 'cholera', 'checked', 'charlie', 'chan', 'chair', 'chad', 'broadcasts', 'brilliant', 'brasil', 'branches', 'bottle', 'bloodshed', 'blasts', 'bible', 'berlin', 'benefited', 'autonomous', \"assad's\", 'appreciation', 'appealing', 'alto', 'albeit', '6th', '25000', 'yoani', 'wheat', 'voicing', 'vargas', \"university's\", 'underlying', 'uncertain', 'transmission', 'transactions', 'traders', 'toppled', 'tide', 'teenager', 'teargas', 'sworn', 'sued', 'suburbs', 'struggled', 'structural', 'storage', 'steve', 'stepping', 'spotted', 'spontaneous', 'sponsored', 'smiles', 'ships', 'shelling', 'sells', 'satisfaction', 'sao', 'sang', 'ruler', 'rouhani', 'rival', 'respondents', 'repressed', 'removing', 'rehabilitation', 'regain', 'reception', 'realtime', 'realised', 'pulling', 'proportion', 'prohibits', 'prestigious', 'preliminary', 'poured', 'postponed', 'persecuted', 'perpetrated', 'oppressive', 'offense', 'odd', 'nominated', 'noble', 'nawaat', 'naming', 'naive', 'museveni', 'municipalities', 'motorcycle', 'modified', 'microblog', 'mega', 'maternal', 'martyr', 'marriages', 'maritime', \"man's\", 'lisbon', 'lifting', 'leg', 'leap', 'lacks', 'kinshasa', \"king's\", 'julia', 'jeddah', 'jakarta', 'inuit', 'integral', 'insisting', 'imposing', 'imam', 'illustrated', 'helicopter', 'habib', 'grabbed', 'governed', 'gasoline', 'fortunate', 'firms', 'filipinos', 'females', 'favourite', 'facto', 'eyewitness', 'expanded', 'exchanges', 'exams', 'eva', 'eradicate', 'engines', 'elementary', 'donetsk', 'dolphins', 'disgust', 'dies', 'demolished', 'delayed', 'deaf', 'deadline', 'dared', 'communists', 'colour', 'clerics', 'cite', 'christ', 'cheering', 'cautious', 'catching', 'capitalism', 'bias', 'bengali', 'beneficial', 'bangladeshis', 'ball', 'balanced', 'baghdad', 'authorized', 'asserted', 'arose', 'apartments', 'amsterdam', 'alqaeda', 'adopting', 'adam', 'accommodate', 'abducted', '1990s', '18th', 'zoo', 'xiaobo', \"week's\", 'wa', 'versus', 'vatican', 'unjust', 'trusted', 'thoroughly', 'swimming', 'swahili', 'supervision', 'strangers', 'spirits', 'sorrow', \"someone's\", 'sir', 'silver', 'shoulder', 'shell', 'sheer', 'sen', 'seed', 'scholarship', 'savings', 'sarcastically', 'runoff', 'ruined', 'rough', 'romanian', 'requiring', \"republic's\", 'repair', 'rank', 'rakhine', 'raided', 'puno', 'publicized', 'proudly', 'protocol', 'proposing', 'procession', 'prizes', 'privatization', 'priorities', 'portraits', 'porn', 'populated', 'polluted', 'pledge', 'planted', 'placing', 'picking', 'patrol', 'passes', 'partial', 'paramilitary', 'ordering', 'obtaining', 'obstacle', 'obligations', 'notable', 'ninetyfive', 'neighbour', 'mozambican', 'miracle', \"ministry's\", 'mercenaries', 'mendes', \"malawi's\", 'lulu', 'landing', 'kibera', 'justification', 'jones', 'integrate', 'inquiry', 'independently', 'incite', 'improvements', 'implies', 'immoral', 'il', 'iconic', 'highranking', 'hebrew', 'hardship', \"haiti's\", 'hacker', 'governors', 'foundations', 'fossil', 'folha', 'fiftyfive', 'fasting', 'failures', 'extraction', 'exercising', 'exchanged', 'escalated', 'enhance', 'edit', 'ecuadorians', 'ecosystem', 'economies', 'drawings', 'dos', 'divisions', 'dispersed', 'dilemma', 'device', 'developer', 'destructive', 'designs', 'degrees', 'decisive', 'debating', 'dancers', 'cyprus', 'cyberspace', 'curiosity', 'copenhagen', 'convoy', 'conventional', 'consulting', 'confusing', 'confucius', 'confrontations', 'codes', 'cluster', 'cleansing', 'civilized', 'characteristics', 'cancellation', 'bubble', 'bogot', 'blessed', 'bilingual', 'belarusian', 'behave', 'beef', 'bears', 'bathroom', 'bands', 'aziz', 'aviv', 'attributed', 'atlantic', 'assure', 'arranged', 'americas', 'alexandria', 'alberto', 'admission', 'admiration', 'accustomed', 'abduction', '16th', '15th', 'yerevan', \"yemen's\", 'xinhua', 'wow', 'worlds', 'warriors', 'vicious', 'vain', 'vague', \"users'\", 'unveiled', 'tune', 'trips', 'transmitted', 'tolerant', 'tennis', 'tales', \"taiwan's\", 'suppose', 'suicides', 'substance', 'stranger', 'stereotype', 'startup', 'spots', 'specially', 'socioeconomic', 'shy', 'shore', 'shalit', 'sectarianism', 'secretly', 'scrutiny', 'santo', 'samesex', 'romantic', 'retweets', 'recordings', 'reasoning', 'realistic', 'ratings', 'rapper', 'rap', 'protects', 'prey', 'prefers', 'possession', 'positively', 'pockets', 'pledged', 'pierre', 'periods', 'perceive', 'passenger', 'participant', 'parallels', 'paraguayan', 'paradise', 'owe', 'outlook', 'osama', 'organizer', 'ordeal', 'operates', 'offshore', 'offended', 'oath', 'norway', 'mockery', 'mo', 'mineral', 'mentally', 'masters', 'mary', 'marijuana', 'manufacturing', 'managers', 'malawian', 'luanda', 'logical', 'lively', 'leftwing', 'landmark', 'lahore', 'kiev', 'karzai', 'j', 'insurgency', \"indonesia's\", 'indifferent', 'indifference', 'immense', 'idiots', 'homophobic', 'hindi', 'highprofile', \"he'd\", 'happily', 'hague', 'generals', 'fundamentally', 'functions', 'fsb', 'foster', 'followup', 'flower', 'fauna', 'fathers', 'falklands', 'faction', 'extinction', 'estimate', 'environmentalists', 'endured', 'employer', 'emotion', 'embraced', 'elephant', 'eaten', 'duvalier', 'don', 'disposal', 'delegates', 'declined', 'declarations', 'deciding', 'damaging', 'dalit', 'crowdfunding', 'countrymen', 'contamination', 'confess', 'concepts', 'concentration', \"community's\", 'commissioned', 'collaborated', 'cleric', 'cia', 'chennai', 'checkpoint', 'characterized', 'bury', 'bureaucracy', 'bulletin', 'bottles', 'biodiversity', 'betrayed', 'belgium', 'batons', 'barracks', 'baidu', 'backdrop', \"author's\", 'authentic', 'arrange', 'anxious', 'animation', 'analyses', 'ammunition', 'advocated', 'acta', 'acquire', 'accusation', 'zelaya', 'yuri', 'workplace', 'wildfires', 'wikimedia', 'wiki', 'washing', 'washed', 'venezuelans', 'uruguayan', 'uribe', 'unstable', 'unpopular', 'unites', 'undergo', 'unbelievable', 'um', 'turkmenistan', 'tribune', 'trap', 'transgender', 'thomas', 'thirtysix', 'thick', 'tends', 'telecom', 'talents', 'stateless', 'spends', 'sooner', 'slap', \"site's\", 'singh', 'similarities', 'shouted', 'sewage', 'settlements', 'servers', 'segregation', 'secularism', 'sarcasm', 'samir', 'salute', 'romania', 'roberto', 'robbed', 'retweet', 'responds', 'residing', 'reserved', 'requirement', 'reproductive', 'repeal', 'reluctant', 'reinforce', 'recommends', 'rainy', 'raging', 'questionable', 'qaeda', \"public's\", 'prostitutes', 'prosecute', 'prolonged', 'pressures', 'predict', 'precarious', 'pot', 'portrays', 'pitch', 'ping', 'permitted', 'permanently', \"peoples'\", 'patrick', 'pathetic', 'packed', 'packages', 'outrageous', \"organization's\", 'organising', 'openness', 'ninetyseven', 'nicaragua', 'mural', 'mortality', 'min', 'metropolitan', 'memes', 'maid', 'looming', 'liaison', 'legend', 'lawsuits', 'lasting', 'lao', 'keyboard', 'jungle', 'jumping', 'jammeh', 'iphone', 'instruments', 'incapable', 'inadequate', 'immunity', 'imminent', 'imaginary', 'illusion', 'hygiene', 'hurting', 'horizon', 'homage', 'hollywood', 'heshe', 'hat', 'gunfire', 'guangdong', 'grip', 'greeted', 'formerly', 'flights', 'fgm', 'femen', 'fat', 'faculty', 'expulsion', 'explosive', 'exploded', \"ethiopia's\", 'enthusiastic', 'enabling', 'empathy', 'donor', 'distinguish', 'disproportionate', 'digging', 'democratically', 'defendants', 'deeds', 'curb', 'cotton', 'contested', 'consultant', 'connecting', 'confronting', 'compensate', 'commerce', 'commemoration', 'chronicles', 'centered', 'camara', 'caldern', 'buddha', 'broadcasters', 'bribery', 'bravery', 'boycotting', 'bourguiba', 'blown', 'bc', \"australia's\", 'assange', 'aquino', 'appreciated', 'ambulance', 'alarmed', 'airports', 'aftershocks', 'advantages', 'abhisit', '1989', 'yugoslavia', 'yingluck', 'xenophobic', 'wine', 'whales', 'volkov', 'vessels', 'unwilling', 'unnoticed', 'unicef', 'unaware', 'twist', 'turks', 'tunnel', 'tracking', 'thirst', 'tender', 'temperature', 'teens', 'taxis', 'swedish', 'sweden', 'superior', 'suez', 'subscribers', 'strive', 'starving', 'sparking', 'skill', 'sits', 'shifted', 'sensitivity', 'searched', 'scattered', 'rumours', 'ruins', 'rubbish', 'rosa', 'ro', 'restoration', 'registry', 'productivity', 'proceeded', 'problematic', 'preserving', 'prejudices', 'postpone', 'pork', 'pending', 'peak', 'outsiders', 'outright', \"others'\", \"other's\", 'ossetia', 'orchestra', 'offenders', 'offence', \"netizens'\", 'naval', 'natives', 'mutharika', 'monitors', 'mongolian', 'mode', 'mir', 'migrate', \"mexico's\", 'messaging', 'mehdi', 'meaningless', 'malnutrition', 'mafia', 'limiting', 'licenses', 'lectures', 'laments', 'labels', 'knife', 'jihad', 'isps', 'investing', 'interpret', 'initiate', 'inhumane', 'impacted', 'hypocritical', 'hiring', 'herald', 'gratitude', 'granting', 'grace', 'govern', 'gcc', 'gazans', 'garnered', 'frustrations', 'frankly', \"fiji's\", 'fiftytwo', 'fictional', 'exhibit', 'exhausted', 'excerpt', 'exceptions', 'eightynine', 'eightyfour', 'eggs', 'eg', 'drunk', 'drafting', 'displaying', 'disorder', 'discovering', 'disbelief', 'directions', 'diallo', 'devil', 'deteriorating', 'designers', 'descendants', 'delicious', 'degradation', 'defining', 'daytoday', 'cybercrime', 'curry', 'culinary', 'creatures', 'correctly', 'coptic', 'contempt', 'con', 'comedy', 'colonization', 'colonialism', 'clashed', 'chocolate', 'championship', 'ceo', 'cells', 'cathedral', 'buzzing', 'bones', \"blogger's\", 'bloc', 'bilateral', 'beg', 'barricades', 'banda', 'bamako', 'backing', 'baba', 'ayatollah', 'ass', 'ap', 'anticipation', 'annually', 'angel', 'andrew', 'ancestral', 'analyzing', \"ali's\", 'alain', 'advise', 'abc', '90', '8th', '7th', '6000', '3rd', '28th', '1990', 'zimbabwean', 'yulia', 'yelled', 'wound', 'weird', 'weighed', 'ward', 'vulnerability', \"voices'\", 'virtue', 'venues', 'urdu', 'unified', 'tymoshenko', 'troubled', 'traitor', 'traffickers', 'traces', 'touches', 'tofu', \"they'd\", 'terrified', \"team's\", 'tape', 'tan', 'symptoms', 'sympathetic', 'swat', 'sultan', 'successor', 'succession', 'studio', 'streaming', 'spying', 'sophisticated', 'smiling', 'skies', 'shine', 'shedding', 'sgou', 'seventynine', 'sergey', 'seize', 'sedition', 'scarce', 'sanaa', 'risen', 'restored', 'resilience', 'reservation', 'relocate', 'recounts', 'recognised', 'recognise', 'reap', 'rating', 'quest', 'quantity', 'qatari', 'provoking', 'prospects', 'programmes', 'preserved', 'predominantly', 'powerless', 'posing', 'pessimistic', \"person's\", 'penetration', 'pea', 'partnerships', 'partially', 'pains', 'pact', 'organisers', 'ny', 'novels', 'nongovernmental', 'ninetyone', 'nemtsov', 'mouths', 'moussa', 'mona', 'modest', 'michelle', 'meles', 'medication', 'mate', 'marzouki', 'martnez', 'manipulated', 'manipulate', 'malaysians', 'maids', \"madagascar's\", 'm23', 'loving', 'longstanding', 'longest', 'liberated', 'kumar', 'kissing', 'kidnappings', 'khatami', 'khamenei', 'khalil', \"journalists'\", 'intensity', 'instruction', 'inspection', 'injustices', 'indonesians', 'illiterate', 'ideologies', 'ibn', 'humiliated', 'hillary', 'height', 'hebdo', 'healing', 'haze', 'hated', 'greeting', 'gps', 'genuinely', 'garment', 'garcia', 'gaming', 'functioning', 'fulfilling', 'fruits', 'fortyseven', 'forbid', 'fm', 'firstly', 'finishing', 'festivals', 'extending', 'exposes', 'expertise', 'expects', 'excuses', 'excess', 'examined', 'evaluate', 'ethan', 'enterprise', 'enacted', 'embedded', 'eightyeight', 'educating', 'economical', 'drilling', 'drain', 'disturb', 'distrust', 'distinction', 'distant', 'disrespect', 'disobedience', 'dismay', 'disclosed', 'discipline', 'derogatory', 'depth', 'decreased', 'declining', 'debts', 'debris', 'daz', 'convincing', 'converted', 'continuation', 'consistently', 'congratulate', 'communism', 'clue', 'clouds', 'clinics', 'climb', 'circular', 'chemicals', 'changeorg', 'caution', 'captures', 'canceled', 'canal', 'brigade', 'breathing', 'boyfriend', 'boukary', 'bosnia', 'boards', 'blacks', 'beneath', 'bath', 'basics', 'bailout', 'bahia', 'azeri', 'awardwinning', \"authorities'\", 'audit', 'arise', 'arguably', 'aqim', 'applies', 'anytime', 'alassane', 'alan', 'airline', 'ah', 'aden', 'absent', '15000', '10th', 'yahoo', 'wire', 'wen', 'welsh', 'weiwei', 'wears', 'warfare', 'voluntarily', 'volcano', \"victim's\", 'vaccine', 'understandable', 'unbearable', \"turkey's\", 'tuition', 'tuareg', 'treason', 'travelers', 'tours', 'toronto', 'thankful', 'tested', 'territorial', 'teachings', 'tarek', 'tangible', 'taiz', 'tables', 'surveys', 'surge', 'sul', 'suits', 'subsidy', 'spreads', 'specialist', 'spare', 'soup', 'soto', 'sixtyseven', 'siblings', 'shifts', 'serbs', 'scream', 'safeguard', 'saddam', 'rubles', 'routes', 'rousseff', 'robbery', 'rioting', 'richest', 'revival', 'replacement', 'relocation', 'reinforced', 'regulating', 'rainfall', 'races', 'premises', 'practiced', 'plea', 'planting', 'pilgrimage', 'peruvians', 'penalties', 'parking', 'organs', 'opponent', 'occurring', 'noon', 'naver', 'narratives', 'namibia', 'nacional', 'mustafa', 'museums', 'motherland', 'mindset', 'medelln', 'measured', 'malay', 'makeshift', 'maduro', 'locate', 'lining', 'likewise', 'leone', 'lenin', 'laughed', 'lastly', 'landslide', 'kurdistan', 'kirchner', 'kicking', 'intimate', 'ingredients', 'indicating', 'incitement', 'icts', 'horrors', 'honored', 'hivpositive', 'heal', 'harvest', 'hardships', 'grey', 'greed', 'globalization', 'generates', \"general's\", 'fulfilled', 'freeman', 'forestry', 'foremost', 'flaws', 'financed', 'fascist', 'farce', 'exotic', 'eurozone', \"europe's\", 'escaping', 'endorse', 'encounters', 'empowering', 'employ', 'elaborated', 'ear', 'drives', 'dislike', 'disgusting', 'disability', 'dirt', 'differ', 'defying', 'crude', 'cousins', 'correspondents', 'corpses', 'consulted', 'connectivity', 'concluding', 'concentrate', 'conakry', 'colombians', 'collapsing', 'coexistence', 'coca', 'circumvent', 'chronic', 'cheaper', 'charging', 'certificates', 'cemetery', 'bucket', 'bouzid', 'bollywood', 'bless', 'bibi', 'benefiting', 'benedict', 'belgian', 'beaches', 'ayotzinapa', 'assuming', 'assigned', 'andrei', 'amer', 'algerians', 'aircraft', 'afp', 'adapted', 'abolish', '1994', '17th', 'zionist', 'z', 'worn', 'wooden', 'whatsapp', 'whaling', 'welcomes', 'weblog', 'volcanic', 'vladivostok', 'villa', 'viewing', 'urgency', 'ur', 'uploads', 'unpleasant', 'unleashed', 'tyranny', 'transcript', 'tragedies', 'topple', 'togolese', 'tobacco', 'timely', 'tigers', 'tidal', 'thesis', 'tao', 'taipei', 'taboos', 'switched', 'stripped', 'strengthened', \"spain's\", 'socialism', 'smartphone', 'slaughter', 'silenced', 'sidibouzid', 'shores', 'shenzhen', 'sharif', 'shaped', 'seventyfour', 'seriousness', 'sensational', 'sena', 'selfdetermination', 'seal', 'score', 'scholarships', 'safely', 'rudd', 'routinely', 'ridicule', 'revoked', 'revive', 'revenues', 'restriction', 'restricting', 'respectively', 'respecting', 'reservoir', 'rescued', 'renew', 'remark', 'relevance', 'releases', 'recruitment', 'recruit', 'readily', 'rapists', 'rami', 'rail', 'queue', 'publishers', 'pressured', 'practicing', 'poison', 'plate', 'philip', 'persuade', 'pastor', 'passive', 'ore', 'oneself', 'offending', 'observes', 'obey', 'newest', 'natalia', 'nadia', 'mutiny', 'murderer', 'mujeres', 'mounting', 'morals', 'misleading', 'metres', \"men's\", 'mato', 'marred', 'maputo', \"malaysia's\", 'lock', 'leverage', 'latino', 'l', 'knees', 'kathmandu', 'kashmir', 'kabila', 'jurisdiction', 'ivorians', 'irrelevant', 'irina', 'ipad', 'invade', 'interventions', 'interrogation', 'input', 'inmediahknet', 'initials', 'inherent', 'infant', 'incompetence', 'incidentally', 'honduran', 'historian', 'hisher', 'hisham', 'heaven', 'heating', 'hasan', 'hariri', 'hardware', 'guardians', 'guadeloupean', 'greenpeace', 'gray', 'grantee', 'grain', 'graduated', 'golf', 'geographical', 'gazeta', 'fortyfour', 'fireworks', 'fiftyone', 'farewell', 'fares', 'faithful', 'exporting', 'explicitly', 'expats', 'exchanging', 'examining', 'erase', 'enthusiasts', 'enraged', 'enables', 'empowered', 'dubious', 'dramatically', 'dragging', 'drag', 'dominate', 'doc', 'distress', 'disrupt', 'diplomat', 'demise', 'dan', 'culturally', 'crosses', 'criticising', 'cricket', 'cracked', 'cote', 'cop', 'contradictory', 'consolidate', 'consecutive', 'concessions', 'comprehend', 'components', 'compatriots', 'comparisons', 'commits', 'cleared', 'citizenry', 'cheese', 'checks', 'censoring', 'casting', 'cardinal', 'cap', 'candlelight', 'bothered', 'bleeding', 'blasphemous', 'blacklist', 'besieged', 'beatings', 'battalion', 'bashir', 'bangalore', 'balochistan', 'backward', 'availability', 'automatic', 'australians', 'aunt', 'assert', 'assemblies', 'arrogance', 'approves', 'andean', 'amman', 'amend', 'allegiance', 'afrique', \"afghanistan's\", 'abortions', '9th', '50000', '40000', '23rd', '14th', 'weddings', 'weakened', 'wasted', 'vila', \"venezuela's\", 'vacuum', \"twitter's\", 'treasure', 'thirtyeight', 'theaters', 'tgv', 'terminal', 'temples', 'tall', 'surroundings', 'surround', 'sundarbans', 'stunt', 'statute', 'stamp', 'sometime', 'sharia', 'setup', 'serra', 'senators', 'sebastin', 'scenarios', 'sanctioned', 'sami', 'salman', 'russianlanguage', 'rocked', 'rightly', 'ridiculed', 'rhythm', 'resisted', 'republics', 'reproduced', 'repress', 'realm', 'rallied', 'quota', 'punishments', 'proceed', 'postelection', 'poisoning', 'poaching', 'pkk', 'pizza', 'paths', 'pair', 'pace', 'ousting', 'ollanta', 'notions', 'noone', 'nile', 'needless', 'nearest', 'nasty', 'nasheed', 'moldovan', 'minsk', 'millionaire', 'milestone', 'mighty', 'micro', 'mi', 'meter', 'merchants', 'meets', 'lvaro', 'loudly', 'lord', 'lighting', 'libel', 'lens', 'lend', 'legalize', 'leaks', 'landslides', 'knives', 'kivu', 'kindness', 'kindly', 'islamabad', 'interviewing', 'intensive', 'insights', 'innocence', 'ink', 'influences', 'incorrect', 'impeachment', 'im', 'illustration', 'iii', \"husband's\", 'humiliating', 'hiphop', 'heels', 'heartbreaking', 'grandparents', 'grandchildren', 'grabbing', 'gmail', 'glory', 'geography', 'gear', 'gambling', 'frontline', 'franois', 'fortynine', 'forcibly', 'fond', 'fiftyfour', 'feminism', 'fatal', 'fatah', 'explicit', 'evolve', 'espinar', 'environmentalist', 'engineers', 'em', 'elizabeth', 'eliminated', 'eightytwo', 'eightysix', 'editorinchief', 'ecommerce', 'earnings', 'dvd', 'drastic', 'dividing', 'disturbed', 'dissemination', 'disseminated', 'disagrees', 'disadvantaged', 'diminish', 'defender', 'decreasing', 'ddos', 'darfur', 'cowardly', 'cow', 'cousin', 'courtroom', 'corners', 'cooked', 'contributes', 'conservatives', 'conflicting', 'complexity', 'communicating', 'commitments', 'classmates', 'chooses', 'cheer', 'chasing', 'chairs', 'cant', 'burundi', 'burqa', 'boycotted', 'bosses', \"bangladesh's\", 'awaits', 'assess', 'artwork', 'anonymity', 'announcements', 'andrs', 'andrea', 'alter', 'allowance', 'airing', 'aiding', 'affordable', 'accomplish', 'abbott', '35', '1200', 'yard', 'ya', 'xvi', 'wrapped', 'worrisome', \"who've\", 'westerners', 'wandering', 'volatile', 'voces', 'vimeo', 'ussr', 'upside', 'untold', 'unlawful', 'unfold', 'undercover', 'uncovered', 'unconstitutional', 'unconditional', 'uber', 'tricks', 'treats', 'theirs', 'terrifying', 'tbilisi', 'sydney', 'swing', 'survivor', 'surrender', 'subtle', 'stupidity', 'streams', 'spheres', 'spectacular', 'sos', 'smuggled', 'slim', 'sketch', 'silicon', 'si', 'shutdown', 'shortcomings', 'shield', 'shelves', 'sharks', 'seventytwo', 'sept', 'scott', 'ricans', 'rewarded', 'revived', 'reviewing', 'retail', 'restraint', 'resorts', 'relying', 'razan', 'ramallah', 'rahman', 'radar', 'qualities', 'publicize', 'protective', 'promotional', 'prof', 'productive', 'preference', 'precautions', 'potatoes', 'possess', 'portals', 'popcorn', \"police's\", 'pointless', 'pesos', 'peers', 'peasant', 'passersby', 'orphans', 'opted', \"opposition's\", 'operational', 'onechild', 'offend', 'nursing', 'novelist', 'northeastern', 'ninetytwo', 'ninetysix', \"nigeria's\", 'nerve', 'negotiated', 'negligence', 'nationalities', 'mosul', 'monterrey', 'mocked', 'mobilizing', 'mobilisation', 'mixture', 'minas', 'militias', 'microsoft', 'miami', 'merit', 'memorandum', 'medicines', \"mcdonald's\", 'maternity', 'manal', 'malaria', 'lovely', 'longtime', 'lone', 'llosa', 'liberian', 'lentaru', 'legality', 'laughter', 'kerala', 'karim', 'karabakh', 'kadyrov', 'julian', 'jr', 'isn', 'isabel', 'instrumental', 'informative', 'incompetent', 'incentive', 'inauguration', 'inaccurate', 'impoverished', 'implicated', 'imperialism', 'illustrating', 'igor', 'ignited', 'houthi', 'hostility', 'honesty', 'hilarious', 'guillermo', 'guided', 'grosso', 'gossip', 'gori', 'globo', 'germans', 'generator', 'fuss', 'fury', 'frozen', 'frontier', 'frequency', 'flour', 'floating', 'filtered', 'fancy', 'extradition', 'expresident', 'expanding', 'excellence', 'entertaining', 'enters', 'ensures', 'endorsement', 'enabled', 'eliminating', 'elaborate', 'eightyfive', 'echoing', 'dual', 'dressing', 'draconian', 'dot', 'dose', 'doha', 'documentaries', 'dmitri', 'disregard', 'disapproval', 'dignified', 'detect', 'destroys', 'denis', 'deliberate', 'daraa', 'dar', \"d'etat\", 'crimean', 'crap', 'convictions', 'consumed', 'constituents', 'constituency', 'condoms', 'compelling', 'combine', 'clearing', 'clarity', 'christianity', 'childbirth', 'chest', 'chart', 'champions', 'caste', 'capitalist', 'cane', 'cab', 'burst', 'bowl', 'blows', 'births', 'bengal', 'believers', 'bassem', 'avatar', 'audiovisual', 'attracts', 'atheists', 'assembled', \"arabia's\", 'apparatus', 'antinuclear', 'anas', 'amateur', 'alien', 'advertisements', 'adjust', 'acid', 'accompany', 'aboard', 'abd', '300000', '27th', '1988', 'zine', 'zhou', 'yarmouk', 'worsening', 'wiped', 'wifi', 'whites', \"website's\", 'viva', 'vincent', 'viable', 'vegetable', 'valencia', 'utter', 'utilized', 'utilize', 'urgently', 'unsafe', 'unheard', 'unfolded', 'underneath', 'undermining', 'umbrellas', 'ukr', 'turkmen', 'trauma', 'trace', 'toys', 'torres', 'thirtyfour', 'thais', 'tedx', 'technique', 'tearing', 'taxation', 'tainted', 'symbolizes', 'surreal', 'surprises', 'suppressed', 'suffers', 'successes', 'subversive', 'substitute', 'stocks', 'steady', 'statecontrolled', 'starbucks', 'spell', 'sparks', 'sounded', 'societal', 'snapshot', 'slip', 'slightest', 'slapped', 'sk', 'sixtyfour', 'sitins', 'simon', 'sichuan', 'shining', 'shiite', 'shaping', 'sexism', 'serial', 'secretariat', 'secrecy', 'sacrifices', 'rv', 'risky', 'rip', 'rhino', 'revelations', 'replacing', 'reminiscent', 'remembrance', 'reiterated', 'regulated', 'regrets', 'referee', 'reelected', 'reacts', 'ratio', 'ratified', 'raining', 'pursued', 'pupils', 'punishing', 'pronounced', 'projected', 'prevalence', 'prevail', 'pornographic', 'plague', 'paragraph', 'oxford', 'outfit', 'outdoor', 'oslo', 'ortega', 'orkut', 'originated', 'oped', 'onlookers', 'oman', 'occurs', 'ninetythree', \"newspaper's\", \"myanmar's\", 'motivations', 'mortgage', 'monarch', 'mitigate', 'ministries', 'millennium', 'militarization', 'mid', 'mature', 'manning', 'manas', 'luxurious', 'lukashenko', 'loses', 'lonely', 'liquid', 'lina', 'lied', 'lesbians', 'legendary', 'labelled', 'knocked', 'knight', 'khartoum', 'kashin', 'julie', 'joyce', 'joo', 'jack', 'ismail', 'irrational', 'irish', 'irene', 'ire', 'interrupted', 'interns', 'intact', 'inherited', 'inflicted', 'inaugural', 'ignores', 'humane', 'horses', 'hopeless', 'hooligans', 'hid', 'hi', 'hernndez', 'hardline', 'harassing', 'handing', 'ha', 'grocery', 'gradual', 'gods', 'glue', 'gillard', \"ghana's\", 'genre', 'generators', 'gazan', 'gabriela', 'frenchspeaking', 'fox', 'fortaleza', 'forecast', 'footsteps', 'flawed', 'fixing', 'fist', 'fijian', 'fiftyseven', 'fiftyeight', 'fidel', 'fertile', 'favors', 'fattah', 'farright', 'extract', 'exploiting', 'expat', 'excerpts', 'evolved', 'evict', 'evasion', 'eurovision', 'escalating', 'epic', 'emperor', 'embarrassed', 'elaborates', 'eightythree', 'economists', 'dynamics', 'dumped', 'dissolved', 'disseminating', 'discourage', 'dialog', 'dialects', 'destined', 'depressing', \"department's\", 'delicate', 'cusco', 'curiously', 'crushed', 'croatian', 'credited', \"countries'\", 'costly', 'cooperative', 'contradictions', 'consultations', 'constituencies', 'considerations', 'congressman', 'congratulated', 'confuse', 'confession', 'compound', 'composition', 'complains', 'collections', 'climbing', 'clause', 'classrooms', 'classical', 'chiefs', 'checkpoints', 'characteristic', 'chaotic', 'cents', 'catastrophic', 'casablanca', 'cartoonists', 'carrefour', 'capabilities', 'candle', \"cambodia's\", 'bypass', 'button', 'bureaucrats', 'bullying', 'brains', 'boston', 'blew', 'bleak', 'bizarre', 'belongings', 'behaviors', 'battlefield', 'basketball', 'basin', 'barrels', 'backlash', 'ba', 'await', 'attendance', 'assailants', 'artillery', 'array', 'arabian', 'apologized', 'anticipate', 'angles', 'anarchy', 'alvaro', 'airstrikes', 'affiliated', 'aesthetic', 'adviser', 'advertisers', 'administrations', 'acquisition', 'accordingly', 'accent', 'abdulla', '8000', '5th', '45', '4000', '2500', '24th', '1991', '15m', 'zuckerman', 'zardari', 'zambians', 'yushchenko', 'wolf', 'withstand', 'withdrawn', 'william', 'wheel', 'weekends', 'weaker', 'waged', 'vulgar', 'volunteered', 'vocabulary', 'visions', 'victoria', 'vendor', 'vary', 'valued', 'usbased', 'upheld', 'unhcr', 'troika', 'triangle', 'touristic', 'totalitarian', 'thanking', 'tanzanian', 'tale', 'supermarkets', 'suleiman', 'sufficiently', 'submissive', 'submissions', 'stored', 'stakeholders', 'spontaneously', 'spin', 'spies', 'spam', 'sourced', 'sociologist', 'smuggling', 'smooth', 'slang', 'singers', 'signals', 'signaled', 'showcasing', 'shoulders', 'shootings', 'shinawatra', 'sexist', 'seventysix', 'seventyseven', 'seventyone', 'separating', 'sensation', 'seminar', 'scarcity', 'romney', 'risking', 'resorting', 'resorted', 'reservations', 'relied', 'recovering', 'recovered', 'recommendation', 'rapes', 'quell', 'puppet', 'publisher', 'proregime', 'prompt', 'prohibition', 'prohibiting', 'prohibit', 'profitable', 'privileges', 'presidentelect', 'presenter', 'predictions', 'pradesh', 'pipeline', 'pile', 'picks', 'photojournalist', 'phenomena', 'pf', 'petrochemical', 'peer', 'pavel', 'partisans', 'partisan', 'parades', 'outgoing', 'ostensibly', 'occurrence', 'obsession', 'nomadic', 'nationalistic', 'nadine', 'mxico', 'motivate', 'monuments', 'monk', 'monastery', 'mobs', 'mixing', 'minimize', 'mike', 'mayan', 'max', 'mars', 'manual', 'mahmood', 'magical', 'luckily', 'losers', 'listeners', 'lined', 'leung', 'legalization', 'leaking', 'lashes', 'lacked', 'khalid', 'karen', 'jets', 'jara', 'jamaicans', 'investor', 'interpretations', 'interfere', 'insane', 'indignant', 'importing', 'implied', 'illegitimate', 'hq', 'holocaust', 'holders', 'hitler', 'hezbollah', 'hateful', 'harass', 'grim', 'gonzlez', 'glorious', 'genius', \"gaza's\", 'fools', 'flows', 'flesh', 'fined', 'favorable', 'fatwa', 'fare', 'f', 'extends', 'exhibitions', 'execute', 'exceptional', 'exceeds', 'exceeded', 'envy', 'environments', 'ennahdha', 'enforcing', 'electrical', 'eightyseven', 'ecology', 'ec', 'dwellers', 'dumping', 'dropping', 'djibouti', 'divine', 'divert', 'distorted', 'dissolution', 'disrupted', 'disguise', 'diesel', 'deterioration', 'deter', 'detain', 'detailing', 'desperation', 'deposits', 'demarcation', 'delta', 'decisionmaking', 'dated', 'daring', 'cultivation', 'crush', 'crown', 'crop', 'criticise', 'cows', 'counterpart', 'cooperate', 'controversies', 'continuously', 'contentious', 'conquer', 'conjunction', 'condom', 'concerts', 'concentrated', 'complicity', 'collectives', 'collaborating', 'coined', 'cloth', 'clock', 'client', 'clever', 'claudia', \"child's\", 'cheated', 'chatting', 'chancellor', 'chadian', 'cement', \"catalonia's\", 'casa', 'caricature', 'cared', 'breakfast', 'belonged', 'bell', 'barbaric', 'bankia', 'balkans', 'bainimarama', 'backwards', 'awful', 'authoritarianism', 'atheist', 'assisted', 'arrangements', 'archipelago', 'archaeological', 'animated', 'angela', 'amir', 'ambulances', 'amazed', 'alleviate', 'aleksandr', 'adverse', 'administrator', 'adequately', 'addicts', 'acronym', 'abolished', 'abilities', '30th', '26th', '1997', '1500', '13th', 'yo', 'yelling', 'yearly', 'xu', 'wordpress', 'wont', 'winds', 'wet', 'webpage', 'waking', 'vibrant', 'veto', 'utterly', 'unlimited', 'uniforms', 'undergoing', 'unanimously', 'una', \"uganda's\", 'triumph', 'transfers', 'trainings', 'torch', 'tongues', 'tomatoes', 'timbuktu', 'thereafter', 'tencent', 'telegraph', 'tasks', 'tap', 'takeover', 'tabloid', 't', 'sympathizers', 'swap', 'surrounds', 'sur', 'substitution', 'string', 'stressing', 'stoning', 'squad', 'sq', 'spiral', 'spectators', 'sony', 'sol', 'slut', 'slight', 'sincerely', 'shutting', 'shells', 'servant', 'separates', 'selfproclaimed', 'segments', 'secured', 'secession', 'scam', 'saddened', 'rohingyas', 'robust', 'ria', 'rhinos', 'retreat', 'reopening', 'reformists', 'recycled', 'reconsider', 'rebecca', 'rcd', 'rajoy', 'raids', 'rab', 'qq', 'proximity', 'provocateurs', 'prorussian', 'proactive', 'prevailing', 'pretending', 'pounds', 'populace', 'policing', 'plagued', 'pirate', 'piracy', 'peacekeeping', 'pave', 'patagonia', 'panamanian', 'pageant', 'p', 'overlooked', 'oriented', 'operator', 'objection', 'obiang', 'nour', 'notices', 'nio', 'nicholas', 'neutrality', 'nabil', 'monumental', 'mistaken', 'miserable', 'mini', 'mena', 'medina', 'meddling', 'meanings', 'martn', 'martinican', 'marathon', 'manipulating', 'makeup', 'majeste', 'madness', 'lugo', 'louis', 'loja', 'lesser', 'lese', \"kyrgyzstan's\", 'kilometres', 'kidney', 'kennedy', 'justifies', 'jong', 'joking', 'joked', 'jinping', 'jams', 'jaime', 'jails', 'italians', 'irregular', 'internally', 'institutes', 'insistence', 'innovations', 'injuring', 'inhuman', 'indiscriminately', 'indictment', 'inclined', 'incited', 'incentives', 'icelandic', 'hype', 'houthis', 'holder', 'henry', 'havoc', 'halls', 'haiyan', 'hailed', 'habitat', 'h1n1', 'gunmen', 'guerrillas', 'guerrero', 'graves', 'graduation', 'gerais', 'gathers', 'gary', 'gaps', 'fulltime', 'fuentes', 'frightened', \"friend's\", 'franco', 'forcefully', 'forbids', 'foods', 'florida', 'flora', 'fiscal', 'fantasy', 'explores', 'exclude', 'evaluated', 'entertain', 'englishspeaking', 'endanger', 'emigration', 'emancipation', 'eman', 'electronics', 'effectiveness', 'eels', 'dreamed', 'donald', 'divorced', 'divides', 'disqualified', 'dismiss', 'disgusted', 'disclosure', 'disagreed', 'dictatorships', 'diana', 'diagnosed', 'desires', 'deployment', 'deploy', 'democrat', 'deepest', 'daylight', 'cyclists', 'cruelty', 'critiques', 'crippled', 'creations', 'cracking', 'coupled', 'continents', 'consortium', 'concession', 'conceived', 'comrades', 'compiling', 'competent', 'compelled', 'committees', 'comedian', 'colored', 'collects', 'coffin', 'coexist', 'clan', 'ciudad', \"citizen's\", \"church's\", \"chile's\", 'chase', 'chang', 'ceremonies', 'cartels', 'carrier', 'carpet', 'careers', 'candy', 'burns', 'bureaucratic', 'bruno', 'browsing', 'broadly', 'brighter', 'breakthrough', 'boring', \"blog's\", 'bicycles', 'belt', 'beds', 'bandwidth', 'bandits', 'balkan', 'auction', 'attributes', 'attribute', 'ate', 'assumes', 'assisting', 'asset', 'asleep', 'arrogant', 'arrives', \"army's\", 'archbishop', 'apathy', 'antigay', 'answering', 'ansar', 'anonymously', 'angeles', 'analyzes', 'amplify', 'ammar', 'alpha', 'alleging', 'akbar', 'airplane', 'affirmed', 'adventures', 'advancement', 'adel', 'accurately', 'accuracy', 'accepts', 'abide', 'abdoulaye', '31st', '0', 'zuma', 'zuckerberg', 'yeltsin', 'worsened', 'woes', 'wanna', 'vicepresident', 'verses', 'verified', 'vent', 'urmia', 'unwanted', 'unresolved', 'unpunished', 'unmarried', 'underwear', 'undertake', 'underage', 'unconfirmed', 'twothirds', 'twitpic', 'twisted', 'truths', 'trick', 'transnational', 'transforming', 'trail', 'tracked', 'toy', 'tires', 'throne', 'threshold', 'thessaloniki', 'texas', 'taxpayers', 'taksim', 'tags', 'tablet', 'surname', 'sunrise', 'sunnis', 'styles', 'storify', 'stifle', 'sponsors', 'speculations', 'spared', 'sp', 'soy', 'sofia', 'slutwalk', 'slumdog', 'sixtythree', 'situated', 'silvio', 'shifting', 'shields', 'shepherd', 'sheds', 'seventythree', 'seventh', 'sensationalist', 'selecting', 'seismic', 'scratch', \"sarkozy's\", 'salafi', 'saeed', 'sacrificed', 'rouge', 'roses', 'roscomnadzor', 'rooftop', 'revise', 'reunite', 'reunification', 'rethink', 'remarked', 'rejects', 'recruiting', 'rebuilding', \"ravalomanana's\", 'rafah', 'radioactive', 'rabat', \"qur'an\", 'punishable', 'pub', 'professions', 'processed', 'princess', 'prevalent', 'prepares', 'premise', 'premiere', 'pregnancies', 'potato', 'portrayal', \"pope's\", 'poorer', 'petitioners', 'pc', 'pblica', 'pat', 'partido', \"parliament's\", 'owes', 'oversight', 'outcomes', 'orlando', 'oppositionist', 'opines', 'opensource', 'occasional', 'obscure', 'obscene', 'nsa', 'nouakchott', 'noodles', 'nonmuslims', 'mundo', 'multiparty', 'multicultural', 'mujica', 'mountainous', 'monkey', 'modi', 'mobility', 'mirrors', 'ministerial', 'mild', 'merkel', 'mentors', 'melamine', 'mb', \"master's\", 'martelly', 'mar', 'manufactured', 'males', 'machinery', 'lusaka', 'lumpur', 'loyalists', 'lowering', 'lover', 'liquor', 'libre', 'leonardo', 'lent', 'leaning', 'layers', 'launches', 'laptops', 'lamenting', 'kunming', 'kuala', 'konat', 'kamal', 'jp', 'joshua', 'joins', 'jasmine', 'jam', 'invention', 'intentional', 'insurgents', 'insignificant', 'insensitive', \"individual's\", 'indiscriminate', 'indefinite', 'inaction', 'imposes', 'imperative', 'illicit', 'hurry', 'hungarians', 'hotline', 'hossam', 'hint', 'hinder', 'hierarchy', 'heightened', 'hearings', 'hazara', 'hardest', 'hamed', 'halloween', 'hadi', 'grenades', 'greatness', 'grande', 'grameen', 'gm', 'glance', 'gilad', 'geopolitical', 'gaze', 'frightening', \"friends'\", 'fried', 'fortune', 'forthcoming', 'foolish', 'flowing', 'fiftythree', 'fiercely', \"farmers'\", 'famously', 'explored', 'examinations', 'exacerbated', 'ex', 'evidently', 'evangelical', 'erected', 'erdoan', 'epicenter', 'endemic', 'emirates', 'embracing', 'efficiently', 'duration', 'dug', 'drums', 'dragon', 'downloaded', 'domingo', 'dominance', 'dissolve', 'displeasure', 'disgrace', 'discouraged', 'disconnected', 'devaluation', 'democratization', 'democracies', 'debut', 'das', 'dares', 'dagestan', 'customary', 'cursed', 'cultivate', 'craft', 'crackdowns', 'counseling', 'councils', 'corresponding', 'conventions', 'contracted', 'comeback', 'combating', 'cleanup', 'cleaner', 'civ2010', 'chrome', 'chechens', 'cheating', 'campaigners', 'cage', 'buyers', 'buddhists', 'browse', 'broaden', 'bp', 'bouazizi', 'bot', 'bosnian', 'bonus', 'bonds', 'bolvar', 'boca', 'blessings', 'blatant', 'blankets', 'bla', 'bite', 'bingu', 'binding', 'bent', 'belly', 'barbecue', 'barak', 'banana', 'bamboo', 'awarding', 'awakening', 'atomic', 'assignment', 'assam', 'architect', 'applause', 'applauded', 'appease', 'andy', 'analyse', 'amusing', 'airplanes', 'agony', 'aggregator', 'adhere', 'acquitted', 'acknowledging', 'accelerated', 'absurdity', '500000', '1980s', 'zone9', 'xiao', 'workforce', 'withdrew', 'whistleblower', 'wechat', 'weary', 'watches', \"voters'\", 'void', 'visually', 'vigils', 'vigilant', 'verification', 'vein', 'urbanization', 'upgrade', 'unsurprisingly', 'unreliable', 'unilateral', 'unequal', 'underestimate', \"un's\", 'umeda', 'uighurs', 'tweeters', 'tunnels', 'tuberculosis', 'truce', 'troubling', 'trivial', 'treasures', 'traitors', 'tim', 'thrilled', 'thoughtful', 'thirtynine', 'textbooks', 'tendencies', 'ted', 'tacit', 'swim', 'swift', 'sway', 'sugarcane', \"sudan's\", 'stunned', 'striving', 'strasbourg', 'stems', 'steadily', 'stays', 'statistical', 'startups', 'spit', 'spelling', 'someday', 'solo', 'snipers', 'smallscale', 'skirt', 'sixtysix', 'sixtynine', 'sins', 'singaporean', \"singapore's\", 'siberia', 'shortterm', 'shiv', 'sheet', 'shaken', 'shah', 'severity', 'sergio', 'seller', 'selfcensorship', 'savage', 'sans', 'sanlu', 'samutsevich', 'sam', 'saints', 'sacked', 'saber', 'romero', 'robot', 'robin', 'rita', 'rises', 'rift', 'richer', 'revelation', 'retweeting', 'retain', 'restoring', 'resides', 'repressions', 'repost', 'rendered', 'remittances', 'relieved', 'relaxed', 'regained', 'reduces', 'recruited', 'recipient', 'rebellious', 'ranked', 'quotas', 'proxy', 'prosperous', 'prone', 'programmers', 'proclaimed', 'privately', 'pressed', 'presentations', 'preelection', 'postwar', 'plates', 'pin', 'pilots', 'philosopher', 'pesticides', 'peking', 'pedndra', 'pause', 'patrols', 'partition', 'pants', 'oxfam', 'outlines', 'outdated', 'outage', 'oppositionists', 'oliveira', 'okinawa', 'oas', 'npp', 'novaya', 'notebook', 'nomad', 'nicknamed', 'nick', 'nhk', \"ngo's\", 'ngel', 'newsroom', 'neighbourhoods', 'ne', 'nail', 'mouthpiece', 'morally', 'morale', 'misunderstood', 'misunderstandings', 'misunderstanding', 'mistrust', 'missions', 'ming', 'minarets', 'mills', 'microbloggers', 'metropolis', 'metaphor', 'messenger', 'mecca', 'math', 'mastermind', 'mas', 'marrying', 'margin', 'maneno', 'logically', 'legalized', 'lawlessness', 'lane', 'lamented', 'kouamouo', 'kony', 'ki', 'julio', 'jointly', 'ji', 'jentilisa', 'interrogated', 'instructed', 'inspires', 'ineffective', 'indecent', 'imposition', 'imperial', 'hug', 'horns', 'honors', 'honorable', 'homemade', 'hobby', 'hears', 'hazardous', 'harvard', 'harshly', 'hackathon', 'gustavo', 'guineans', 'guidance', 'guayaquil', 'graph', 'grandson', 'gentlemen', 'genital', 'gateway', 'garments', 'gaga', 'fujimori', 'frenzy', 'freezing', 'fortyone', 'flown', 'florence', 'flip', 'fines', 'fiftysix', 'feminists', 'fellows', 'fearful', 'facilitated', 'eyewitnesses', 'explosives', 'expectation', 'expatriates', 'eventual', 'enthusiastically', 'ensued', 'embarrassment', 'eagerly', 'durov', 'dump', 'dried', 'dresses', 'dowry', 'dj', 'distracted', 'distract', 'distinctive', 'disrupting', 'dismissal', 'discriminated', 'disappointing', 'differentiate', 'diet', 'diario', 'devote', 'detected', 'destinations', 'desertification', 'descriptions', 'deposit', 'deposed', 'depict', 'dependency', 'departed', 'demolish', 'delays', 'defendant', 'dedication', 'csar', 'crowdsourced', 'criminality', 'cosmetics', 'consuming', 'conscription', 'congressional', 'conga', 'confucianism', 'confessions', 'confederation', 'cond', 'conceal', 'commodity', 'coins', 'clarified', 'circumcision', 'cherry', 'chef', 'cellphone', 'captivity', 'capita', 'cameroonians', \"cameroon's\", 'cameraman', 'browser', 'brides', 'breastfeeding', 'bravely', 'bots', 'borrow', \"bolivia's\", 'bissau', 'billionaire', 'bicentennial', 'beneficiaries', 'beans', 'bazaar', 'battery', 'bankruptcy', 'azerbaijanis', 'aviation', 'avenues', 'attraction', 'ash', 'artifacts', 'articulate', 'armored', 'arizona', 'antiterrorism', 'annoying', 'anglophone', 'andrey', 'andes', 'anc', 'ambition', 'alluding', 'alliances', 'allende', 'allegation', 'alice', 'alegre', \"ain't\", 'aging', 'aggravated', 'affirms', 'affiliations', 'affection', 'advisory', 'advisor', 'advises', 'adnan', \"administration's\", 'accommodation', 'abuzz', 'abandoning', '60000', '1998', 'zimbabweans', 'yu', 'yoruba', 'yahya', 'wildfire', 'widow', 'whereby', 'weddady', 'weakening', 'virtues', 'virginity', 'viewpoint', 'vicinity', 'venice', 'vale', 'uranium', 'unrealistic', 'unpaid', 'unilaterally', 'twin', 'tuned', 'trustworthy', 'troll', 'treatments', 'traced', 'tr', 'tor', 'tipnis', 'tip', \"times'\", 'throat', 'thinker', 'testimonials', 'termed', 'temp', \"teacher's\", 'taylor', 'tattoos', 'tastes', 'syndrome', 'swiftly', 'surpassed', 'suppression', 'superiority', 'sung', 'successive', 'subscribe', 'strikers', 'strife', 'stricter', 'strangely', 'storming', 'stirring', 'stimulate', 'sticking', 'steep', 'steam', 'stationed', 'stanford', 'standpoint', 'staggering', 'stabbed', 'sr', 'sprayed', 'spouses', 'sponsorship', 'spectacle', 'smog', 'smallest', 'slain', 'skilled', 'sidewalk', \"show's\", 'shattered', 'sensible', 'seminars', 'scum', 'scored', 'scares', 'sassou', 'sandmonkey', 'sanctuary', 'sanchez', 'rude', 'rss', 'roofs', 'rolled', 'roger', 'rodriguez', 'rioters', 'rifles', 'rickshaw', 'revoke', 'retailers', 'restrictive', 'respite', 'respectful', 'resolutions', 'resisting', 'residency', 'resemble', 'reopened', 'rented', 'registering', 'refreshing', 'reforming', 'refinery', 'recurring', 'recounted', 'reconcile', 'recalling', 'realization', 'reactor', 'rats', 'rationale', 'rania', 'rana', 'ramos', 'rakhi', 'rainbow', 'radicals', 'rachel', 'queries', 'qualify', 'qualifications', 'pundit', \"protesters'\", 'prostitute', 'proportions', 'profoundly', 'prestige', 'premature', 'predicament', 'preach', 'portraying', 'poisoned', 'podemos', 'pledges', 'pleasant', 'pit', 'pirates', 'photoshop', 'photographing', 'petitioning', 'persistent', 'perpetuate', 'pereira', 'pearl', \"paulo's\", 'paula', 'patronage', 'pak', 'overly', 'oust', 'ottoman', 'orchid', 'novosti', 'noticias', 'nostalgia', 'nonstop', 'nonexistent', 'nominate', 'nld', 'nike', 'nieto', 'nicols', 'nepotism', 'nazis', 'nashi', 'narrates', 'murals', 'multitude', 'multilingual', 'mouse', 'mounted', 'moratorium', 'moncef', 'moe', 'mistreatment', 'minerals', 'minded', \"military's\", 'mg', 'mentoring', 'mendoza', 'mccain', \"mayor's\", 'maxim', 'mauritanians', 'marie', 'mandarin', 'malls', 'lung', 'luggage', 'louder', 'looters', 'looted', 'loot', 'loads', 'liters', 'limonov', 'licensed', 'licence', 'liberate', 'liability', 'legalizing', 'leaf', 'laying', 'laughs', 'latvia', 'latuff', 'lagos', 'labeling', 'knesset', 'kit', 'kindergarten', 'k', 'jordanians', 'jet', 'jane', 'jacmel', 'isolate', 'irrawaddy', 'intimidated', 'interactions', 'insider', 'inland', 'injection', 'inferior', 'infection', 'indicators', 'inconvenience', 'inaccessible', 'impending', 'imagery', 'illustrations', 'illnesses', 'hossein', 'happenings', 'handcuffed', 'hail', 'hack', 'guyanese', 'guaran', 'greetings', 'graduating', 'gospel', 'gorges', 'gomes', 'geneva', 'genetically', 'gazetaru', 'garner', 'gardens', 'gag', 'fueling', 'forgetting', 'flyers', 'flexible', 'fitting', 'filters', 'fernandez', 'feng', 'famed', 'faiths', 'factual', 'exceed', 'exaggerated', 'evita', 'estado', 'escorted', 'eruption', 'equity', 'enslaved', 'enlightened', 'employs', 'emphasizing', 'emmanuel', 'emigrate', 'eltahawy', 'editorials', 'eats', 'easter', 'drowning', 'drowned', 'drill', 'dreaming', 'dpp', 'doodle', 'domination', 'domains', 'doctrine', 'dna', 'divisive', 'dispersing', 'dispatch', 'disparity', 'dismisses', 'directorate', 'directive', 'destabilize', 'desde', 'demotix', 'delight', 'defy', 'definite', 'defiant', 'dedicates', 'dealers', 'dalits', 'cynicism', 'culprits', 'critically', 'crescent', 'cracks', 'coworking', 'corpse', 'copied', 'convenience', 'contrasts', 'continuity', 'containers', 'constructing', 'consisting', 'congestion', 'comprised', 'compliance', 'commissions', 'columbia', 'colonies', \"colombia's\", 'colleges', 'cocoa', 'coastline', 'coalitions', 'co', 'clearer', 'clarification', 'clandestine', 'cinemas', 'cigarettes', 'chorus', 'chico', 'cherokee', 'cheered', 'cheat', 'charities', 'centralized', 'casual', 'carriers', 'caricatures', 'capitals', 'cans', 'canoe', 'camping', 'calculated', 'cala', 'butter', 'butt', 'bulgarians', 'brick', 'breach', 'braslia', 'bond', 'blowing', 'blogsphere', 'barrel', \"bank's\", \"band's\", 'baloch', 'awesome', 'autumn', 'attendants', 'arctic', 'architectural', 'approving', 'appearances', 'appalling', 'apologies', 'anton', 'anime', 'anchor', 'ambassadors', 'amazonian', 'aly', 'altered', 'almaty', 'allocated', 'albert', 'albanian', 'alas', 'akram', 'advancing', 'acre', 'acquiring', 'acknowledges', 'accomplishments', 'accessed', 'acarvin', 'abusing', 'abundant', 'abound', 'abidine', 'abdelaziz', '400000', '3d', '300', '263chat', '20yearold', '1979', \"zimbabwe's\", 'zenawi', 'youssef', 'ying', 'yerba', 'yell', 'yanukovich', 'wrongly', 'worthwhile', \"worker's\", 'woods', 'withdrawing', 'whale', 'weaponry', 'weaken', 'warmth', 'volgograd', 'visualization', 'victories', 'vested', 'verse', 'vejjajiva', 'veiled', 'vctor', 'varieties', 'vaccines', 'utilizing', 'unsuccessful', 'uniting', 'uniformed', 'unfairly', 'unanimous', 'tsvangirai', 'transported', 'transnistria', 'tombs', 'toe', 'tin', 'thug', 'thirdly', 'testify', 'telecommunication', 'tayyip', 'tackling', 'switching', 'swearing', 'svoboda', 'surviving', 'surgical', 'superiors', 'sumatra', 'suing', 'stunning', 'straw', 'stem', 'staunch', 'starvation', 'stare', 'spurred', 'sprung', 'specializing', 'span', 'sow', 'soro', 'sonia', 'solitary', 'snap', 'sixtyeight', 'sink', 'sings', 'simplistic', 'siding', 'shura', 'shocks', 'sheets', \"she'd\", 'sharon', 'shady', 'setback', 'sequence', 'selective', 'securing', 'sealed', 'sd', 'screenshots', 'scottish', 'scotland', \"school's\", 'scarf', 'scams', 'samsung', 'samples', 'saad', 'roy', 'rivals', 'rivalry', 'rife', 'richness', 'retrieve', 'respectable', 'republishes', 'repay', 'ren', 'reliance', 'reclaim', 'receipt', 're', 'ravaged', 'raul', 'rant', 'ranged', 'ram', \"rajoelina's\", 'rai', 'rae', 'radios', 'queues', 'pushes', 'puja', 'psychology', 'provisional', 'prominence', 'proliferation', 'procurement', 'probe', 'preventive', 'presumed', 'preceded', 'powered', 'postcolonial', 'poke', 'pleaded', 'pipes', 'pipe', 'pinochet', 'pill', \"peru's\", 'perez', 'peculiar', 'peaks', 'patricia', 'parliamentarians', 'parked', \"parents'\", 'owed', 'overtaken', 'overlook', 'organizational', 'orchestrated', 'oppositional', 'operas', 'oligarchs', 'oic', 'obligated', 'objectivity', 'objectively', 'nuevo', 'notified', 'norwegian', 'nickkristof', 'nerves', 'ncp', 'mt', 'msf', 'mourned', 'mostafa', 'moskvy', 'monster', 'monsanto', 'molotov', 'mnla', 'mindanao', 'mideast', 'mh17', 'menu', 'medieval', 'mediation', 'matthew', 'masse', 'masked', 'mansour', 'mandalay', 'mai', 'magnificent', 'luzhkov', 'lungs', 'longing', 'lo', 'lin', 'leo', 'lease', 'lazy', 'lays', 'laureate', 'lam', 'laboratory', 'kyoto', 'kristof', 'knock', 'kg', 'keywords', 'keys', 'justifying', 'journals', \"jordan's\", 'jongil', 'jokingly', 'jersey', 'jeju', 'java', 'isla', 'irrigation', 'invading', 'intimidating', \"international's\", 'intercepted', 'insufficient', 'injunction', 'industrialization', 'individually', 'indies', 'indicator', 'indications', 'incineration', 'inca', 'inaugurated', 'implying', 'hunan', 'huffington', 'hospitality', 'honorary', 'hiperbarrio', 'hesitation', 'heroic', 'hemisphere', 'heba', 'haters', 'harsher', 'halal', 'gvo', 'guides', \"guardian's\", 'guangcheng', 'groom', 'grid', 'greedy', 'grandma', 'grammar', 'goodluck', 'ghassandhaif', 'gharbia', 'georgians', 'gangnam', 'gandhi', 'galleries', 'funk', 'functional', 'fronts', 'framed', 'fortysix', 'forge', 'forehead', 'fooled', 'fluent', 'flores', 'flock', 'firearms', 'finances', 'figured', 'feast', 'feasible', 'favourable', 'favelas', 'favela', 'fallout', 'faisal', 'extractive', 'expropriation', 'exported', 'expenditure', 'exhaustive', \"event's\", 'etiquette', 'ethnicities', 'ethanol', 'establishments', 'essays', 'erosion', 'equitable', 'environmentally', 'ennahda', 'endeavor', 'emotionally', 'emerges', 'emergencies', 'elevated', \"ecuador's\", 'dumb', 'droughts', 'drops', 'drastically', 'doubled', 'doomed', 'donating', 'distinguished', 'distances', 'discriminate', 'discount', 'disappearing', 'dine', 'dimensions', 'detractors', 'desired', 'desirable', 'descend', 'derived', 'depressed', 'dependence', 'denounces', 'deng', 'delegations', 'defamatory', 'decorated', 'dairy', 'daddy', 'cute', 'curtail', 'cs', 'cream', 'crashed', \"council's\", 'costume', 'cosmopolitan', 'copts', 'conversion', 'contradiction', 'contingent', 'continental', 'contexts', 'contesting', 'contentsharing', 'container', 'consultative', 'consult', 'constraints', 'consolidated', 'consensual', 'connects', 'confinement', 'confined', 'complications', 'communicated', 'commentaries', 'commemorating', 'combining', 'colombo', 'cohesion', 'closes', 'climbed', 'cleaned', 'ciudadano', 'chun', 'christine', 'choir', 'chilling', 'chewing', 'chai', 'certainty', 'categorized', 'castle', 'capitalists', \"capital's\", 'campaigned', 'burial', 'bullied', 'builds', 'brush', 'brink', 'bricks', 'breakdown', 'brazzaville', 'bow', 'borrowed', 'booming', 'bone', 'bombers', 'bomber', 'bolotnaya', 'bolivians', 'blogospheres', 'blockades', 'blanket', 'blackmail', 'bidding', 'benjamin', 'bench', 'bella', 'beggars', 'beats', 'basket', 'barbarism', 'bahamas', 'baggage', 'backyard', 'bachelet', 'avila', 'avaaz', 'autocratic', 'austria', 'assurances', 'assumption', 'assaulting', 'aroused', 'armando', 'appoint', 'antiterrorist', 'antiregime', 'anthology', 'annoyed', 'annexation', 'andr', 'amira', 'amin', 'amended', 'allied', 'allege', 'alerts', 'akp', 'akon', 'airwaves', 'agrarian', 'affiliation', 'advert', 'admitting', 'administered', 'addict', 'accra', 'accounting', 'absorb', '75', '34', '250000', '1980', '1974', 'zharov', 'zeine', 'zedong', 'zahra', 'yourselves', 'yield', 'ye', 'xilai', 'wukan', 'worthless', 'wong', 'wired', 'wings', 'williams', 'widen', 'whistle', 'whipped', 'weigh', 'waits', 'visibly', 'vessel', 'verbally', 'varying', 'vagina', 'unzipped', 'untouched', 'unseen', 'unreasonable', 'unhealthy', 'uneasy', 'undermined', 'ultimatum', 'tuna', 'trujillo', 'trousers', 'trolls', 'tricked', 'transporting', 'towers', \"tomorrow's\", \"timor's\", 'thinkers', 'thief', 'thermal', 'thatcher', 'textbook', 'testament', 'terribly', 'tasty', 'tasked', 'tapes', 'tagged', 'syndicate', 'surplus', \"sunday's\", 'summarize', 'sufi', 'su', 'stubborn', 'strides', 'stretch', 'stickers', 'steven', \"states'\", 'stark', 'standstill', 'stakes', 'squares', 'sputnik', 'spraying', 'spoiled', 'spoil', 'speculates', 'speculated', 'speculate', 'specified', 'southwestern', 'sour', 'smugglers', 'smiled', 'smashed', 'slideshow', 'slept', 'slammed', 'skewed', 'sixtyone', 'simultaneous', 'sights', 'sicilia', 'shipment', \"she'll\", 'shapes', 'shan', 'selfimmolation', 'selfies', 'selfdescribed', 'seldom', 'screw', 'schooling', 'schmidt', 'schemes', 'scandalous', 'savvy', 'savchenko', 'sarajevo', 'sane', \"sana'a\", 'salvadoran', 'salam', 'salaam', 'sadc', 'ryan', 'rui', 'rs', 'rogue', 'robles', 'rigid', 'reyes', 'revered', 'restricts', 'residences', 'resembles', 'reproduce', 'reparations', 'relocated', 'reigns', 'redefine', 'recipients', 'rebuilt', 'realname', 'reais', 'rbc', 'rappers', 'ransom', 'rang', 'randomly', 'quarters', 'puzzled', 'purple', 'purchases', 'psyche', 'ps', 'proxies', 'prosecuting', 'professionalism', 'probeijing', 'probable', 'prism', 'principe', 'prevails', 'pressuring', 'prescribed', 'prensa', 'predicts', 'predecessors', 'predecessor', 'possessions', 'populous', 'popularly', 'polygamy', 'politicized', 'polite', 'plateau', 'plastics', 'plantation', 'plaguing', 'pissed', 'pioneer', 'photojournalists', 'petty', 'pets', 'pet', 'perpetrator', 'pensions', 'passions', 'pascal', 'parenting', 'paints', 'pah', 'overwhelmingly', 'overdue', 'overcrowded', 'outfits', 'outages', 'oscars', 'osaka', 'opt', 'opposes', 'oneyear', 'oliver', 'olive', 'oilrich', 'observatory', 'nuts', 'nude', 'noynoy', 'nova', 'nominating', 'nod', 'nini', 'nicaraguan', 'ng', 'newsletter', 'nets', 'neonazi', 'needing', 'neda', 'nca', 'navigate', 'nanay', 'nagorno', 'musharraf', 'muammar', 'mortar', 'montevideo', 'monsters', 'mong', 'misconceptions', 'mint', 'methodology', 'merits', 'merchandise', 'medics', 'margarita', 'marcelo', 'manufacturers', 'manners', 'manmade', 'mankind', 'manigat', 'malians', 'malema', 'maldivian', 'madonna', 'luther', 'luiz', 'lowered', 'loreto', 'logistical', 'litvinovich', 'linguists', 'linda', 'lifestyles', 'libreville', \"liberia's\", 'leonid', 'leila', 'legends', 'leftists', \"leader's\", 'layer', 'larbi', 'landfill', 'laborers', 'kwacha', 'khalifa', 'khadija', 'kazakhs', 'kay', \"judge's\", 'juana', 'jeune', 'jeanclaude', 'jacob', \"it'll\", 'isp', 'invent', 'intriguing', 'intersection', 'interrogator', 'interface', 'intensify', 'instituto', 'installment', 'inhabited', 'infographic', 'inequalities', 'indefinitely', 'inconvenient', 'incomplete', 'impede', 'impartial', 'illiteracy', 'idp', 'idlib', 'idiot', 'iceland', 'hysterical', 'hussain', 'hunted', \"hungary's\", 'httpwwwyoutubecomwatch', 'hopelessness', 'historians', 'henrique', 'hello', 'haven', 'hatena', 'harry', 'harmless', 'hardliners', 'handles', 'halted', 'gunshots', 'grenade', 'greens', 'greenhouse', 'grease', 'gran', 'gigantic', 'geek', \"gbagbo's\", 'gambian', 'g', 'furniture', 'fulfills', 'fu', 'freeze', 'fred', 'francs', 'fraction', 'fouryear', \"foundation's\", 'foul', 'fortress', 'flies', 'fleet', 'flame', 'fiveyear', 'firewall', 'firefox', 'finishes', 'finfisher', 'filthy', 'filing', 'fences', 'feminine', 'faults', 'facilitating', 'explode', 'expatriate', 'exercised', 'exceeding', 'evade', 'erased', 'equation', 'epicentre', 'envoy', 'energetic', 'enduring', 'embezzlement', \"else's\", 'ella', 'elias', 'elevators', 'electing', 'eldest', 'eh', 'egg', 'eddie', 'duck', 'drum', 'downfall', 'doubted', 'domodedovo', 'dominating', 'doll', 'discomfort', 'disappearances', 'directing', 'diploma', 'dictatorial', 'diamond', 'diagnosis', 'diagne', 'di', 'determines', 'deserted', 'dense', 'demo', 'defiance', 'defenseless', 'darwish', 'dancer', 'curtain', 'cupcakes', 'csaire', 'crossfire', 'criminalization', 'cplp', 'countrywide', 'coulibaly', 'corporal', 'copying', 'cooperatives', 'contention', 'constructions', 'consisted', 'comprise', 'complicate', 'completing', 'competitors', 'compassionate', 'commodities', 'commended', 'commanders', 'collusion', 'clarifies', 'circulate', 'christopher', 'chased', 'chapters', 'ceased', 'catherine', 'catalans', 'carolina', 'carnage', 'caravan', 'capriles', 'cantonese', 'calmly', 'bulldozers', 'bulldozer', 'bulk', 'budgets', 'bronze', 'broadband', 'brigades', 'briefing', 'brewing', 'blunt', 'blackberry', 'billboard', 'bikes', 'bidoon', 'biden', \"bhutan's\", 'bernard', 'bel', \"beijing's\", 'bbs', 'baseless', 'bankrupt', 'bah', 'awaited', 'automated', 'authenticity', 'attractions', 'asserts', 'assassinations', \"asia's\", 'ashraf', 'ashes', 'asean', 'arson', 'arsenal', 'aristide', 'argentinians', \"argentina's\", 'architects', 'apologise', \"anyone's\", 'antidemocratic', 'antichina', 'anthropologist', 'angelina', 'android', 'ancestry', 'ample', 'alphabet', 'allocate', 'aliyev', 'aggregate', 'affirm', 'aerial', 'advising', 'adultery', 'adaptation', 'adagamov', 'ach', 'ac', 'abou', '63', '38', '350org', '30year', '1995', '1961', '150000', 'zulu', 'zhu', 'zaw', 'younis', 'yolanda', 'yingjeou', 'xavier', 'wwii', 'wisely', 'wherein', 'wheelchair', 'warring', 'warmly', 'walter', 'vile', 'verge', 'veracruz', 'varlamov', 'validity', 'uyghur', 'utmost', 'uptodate', 'upholding', 'unusually', 'unprotected', 'unification', 'unfounded', 'unexpectedly', 'undp', 'underlines', 'undemocratic', 'unconscious', 'uncensored', 'ultraorthodox', 'ubiquitous', 'tyrants', 'tyrant', 'turtle', 'tunes', 'trunk', 'triple', 'treaties', 'trans', 'township', 'torturing', 'tolokonnikova', 'tian', 'throws', 'thingyan', 'thin', 'thankfully', \"thaksin's\", 'textile', 'testified', 'tenure', 'technicians', 'tata', 'tarnish', 'tajiks', \"tajikistan's\", 'sweep', 'suspending', 'surveyed', 'supplied', 'sunshine', 'strengths', 'strait', 'stoves', 'stench', 'staple', 'sopa', \"son's\", 'somalis', 'snippets', 'smoothly', 'smith', 'sizes', 'sinking', 'sinhala', 'sincerity', 'signifies', 'sigh', 'siem', 'siam', 'shower', 'shouts', 'shoots', 'shi', 'shanzhai', 'shadows', 'ser', 'senses', 'sellers', 'selfie', 'sects', 'sean', 'scrap', 'scars', 'sauce', 'sandy', 'samba', 'salon', 'salazar', 'saif', 'saga', 'ruthless', 'rumour', 'rumored', 'rounded', \"rouhani's\", 'rosario', 'rocky', 'robes', 'rides', 'riders', \"rico's\", 'revolving', 'resurgence', 'resolving', 'resilient', 'reside', 'reluctance', 'relay', 'relax', 'regretted', 'refuted', 'refute', 'recurrent', 'reassure', 'readership', 'raymond', 'rangoon', 'railways', 'racing', 'qassam', 'puppets', 'punk', 'pump', 'psychologist', 'provocations', 'proverb', 'protracted', 'pros', 'promptly', 'promoters', 'projections', 'programmer', 'professionally', 'processions', 'printer', 'priceless', 'prejudiced', 'preferences', 'preaching', 'preacher', 'practitioners', 'polluting', 'politkovskaya', 'poisonous', 'poder', 'ploy', 'pig', 'photoshopped', 'pervasive', 'pertaining', 'perseverance', 'periodismo', 'pavilion', 'patch', 'parra', 'parliamentarian', 'paradigm', 'paperwork', 'panels', 'panamanians', 'palin', 'painfully', 'packing', 'oxygen', 'overturn', 'oversee', 'output', 'outpouring', 'outlish', 'outlawed', 'ouagadougou', 'othman', 'orderly', 'orbn', 'oppress', 'opportunists', 'operative', 'olga', 'occupiers', 'obsessed', 'obaasema', 'nuanced', 'novelty', 'northwest', 'nominees', 'nm', 'ninth', 'nigel', 'niamey', 'ni', 'newcomers', 'negro', 'naughty', 'natalya', 'nasr', 'narrated', 'myspace', 'mutilation', 'murdering', 'mum', 'multiplied', 'mu', 'mourners', 'motorcade', 'motor', 'motherinlaw', 'monkeys', 'monde', 'momentous', 'modify', 'modesty', 'missionary', 'migrated', 'midday', 'microgrant', 'meteorite', 'meena', 'medications', 'mayors', 'maximize', 'maung', 'matt', 'mathematics', 'masr', 'martinelli', 'marital', 'mariano', 'mariana', 'mariam', 'marginal', 'manipur', 'manifestations', 'malik', 'malicious', 'malek', 'maldivians', 'majesty', 'magistrate', 'machado', 'ltte', 'loma', 'log', 'ling', 'lightly', 'liberalization', \"li's\", 'lengths', 'len', 'lantern', 'lang', 'landowners', 'labourers', 'koran', 'knowledgeable', 'kirov', 'kazakhstani', \"kazakhstan's\", 'kasbah', 'kansai', 'kafka', 'joys', 'joe', 'jimmy', 'jeremy', 'jazz', 'jamal', \"jamaica's\", 'jacket', \"iraq's\", 'invasions', 'interfering', 'interfaith', 'integrating', 'instill', 'installing', 'informational', 'inefficient', 'indie', 'inconsistencies', 'incoming', 'incomes', 'incarceration', 'imran', 'improvised', 'implication', 'imitate', 'ignite', 'hysteria', 'hybrid', 'hoy', 'howard', 'homicide', 'homegrown', 'hindus', 'hindered', 'hijacking', 'hides', 'helm', 'heed', 'heck', 'headache', 'hay', 'hamalawy', 'hails', 'haider', 'h', 'gypsy', 'gypsies', \"guinea's\", 'guiding', 'guiana', 'guarding', 'gripped', 'gregory', \"greece's\", 'graphics', 'goodness', 'gmez', 'glasses', 'gezi', 'geothermal', 'gentle', 'gamble', 'gamal', 'galeano', 'gadgets', 'fundamentalist', 'fulbright', 'fruitful', 'friendships', \"film's\", 'fiftynine', 'fidesz', 'fico', 'fertilizer', 'felix', 'feb14', 'fc', 'fatigue', 'fascinated', 'faraway', \"facebook's\", 'extradite', 'expel', 'excluding', 'excesses', 'examines', 'evoked', 'euphoria', 'espionage', 'eritrea', 'enshrined', 'enrich', 'emoodz', 'emin', 'ed', 'ecfa', 'earnest', 'dusty', 'durian', 'duo', 'dunga', 'downturn', 'downloading', 'dormitory', 'donbas', 'domestically', 'dissatisfied', 'discoveries', 'disconnect', 'disciplines', 'dias', 'diamonds', 'deteriorate', 'detaining', 'descended', 'deport', 'deplorable', 'demons', 'default', 'defaming', 'deepen', 'deception', 'davis', 'dances', 'dalia', 'dal', 'cyrillic', 'curator', 'cups', 'cultivated', 'crunch', 'crocodile', 'cree', 'cppcc', 'cooks', 'conveying', 'conveyed', 'contradict', 'continually', 'congratulating', 'congratulates', 'confidential', 'conceded', 'compromised', 'completion', 'comoros', \"committee's\", 'com', 'coin', 'coherent', 'cocktails', 'clicking', 'claus', 'civilizations', 'circumvention', 'chronicle', 'chicago', 'cheers', 'charming', 'censure', 'ceiling', 'cebu', 'cbc', 'cassez', 'carpets', 'cargo', 'caretaker', 'cannons', 'cannon', 'cannabis', \"candidates'\", \"campaign's\", 'camels', 'camel', 'cambodians', 'calamity', 'cai', 'bystanders', 'butler', 'butcher', 'buddhism', 'branded', 'bouteflika', 'borneo', 'boot', 'bolt', 'boasts', 'blossoms', 'bloom', 'blasted', 'biography', 'berlusconi', 'begged', 'bedroom', 'beard', 'battered', 'baseball', 'barrage', 'barefoot', 'balcony', 'ayman', 'augusto', 'aug', 'attacker', 'athlete', 'astonishing', 'assumptions', 'assimilation', 'assertion', 'assassinated', 'aspire', 'asif', \"artist's\", 'articulated', 'arising', 'arellano', 'archaic', 'aquarium', 'appreciates', 'appointments', 'apples', 'antnio', 'antimuslim', 'antigua', 'anguish', 'angolans', 'amusement', 'ambiguous', 'algiers', 'airtime', 'aggressively', 'advisers', 'advertise', 'ado', 'admired', 'administering', 'admin', 'adapting', 'acosta', 'accumulated', 'abundance', 'abstention', '95', '29th', '22nd', '200', '1996', '1993', '1984', '16yearold', \"zambia's\", 'yielded', 'yeah', 'yanacocha', 'wrap', 'wounding', 'wipe', 'wilson', \"where's\", \"west's\", 'wenzhou', 'welshlanguage', 'wei', 'waziristan', 'watering', 'wasting', 'warsaw', 'wangyang', 'wallet', 'vows', 'volumes', 'vk', 'vividly', 'vivid', 'virginia', 'vinegar', 'viewer', 'vienna', 'vieira', 'vidal', 'vida', \"victims'\", 'versa', 'verdade', 'ventures', 'vented', \"uzbekistan's\", 'ushered', 'url', 'ups', 'upps', 'unsanctioned', 'unlicensed', 'unimaginable', 'unidentified', 'unfamiliar', 'underwater', 'underreported', 'unasur', 'turbulent', 'tsang', 'trickle', 'tributes', 'treasury', 'transplant', 'transmit', 'transcends', 'touring', 'torrential', 'torrent', 'tonnes', 'tomato', 'tolls', 'todos', 'tighten', \"there'll\", 'theatrical', 'th', 'temptation', \"tehran's\", 'techung', 'tattoo', 'tatiana', 'tang', 'tablets', 'swore', 'sweat', 'surrendered', 'superficial', 'sunny', 'sunflower', 'summons', 'suffrage', 'subsistence', 'submitting', 'submission', 'sub', 'stroll', 'strives', 'stray', 'straightforward', 'stipulates', 'starve', 'stampede', 'stalemate', 'stagnation', 'stagnant', 'stadiums', 'srp', 'sprint', 'spells', 'speculating', 'spectator', 'specify', 'spearheaded', 'sousse', 'solaris', 'socialists', 'soaring', \"snowden's\", 'snack', 'smuggle', 'sm', 'slowed', 'skeptics', 'sinister', 'simplified', 'similarity', 'silencing', 'shrapnel', 'showcases', 'shiites', 'shelled', 'sharply', 'shamelessly', 'sexy', 'seventyeight', 'senseless', 'semblance', 'screams', 'scoop', 'schoolchildren', 'scathing', 'sby', 'sarawak', 'sandra', 'sanction', 'samuel', 'salutes', 'sakura', 'sahrawi', 'sahel', 'sack', 'sachalayatan', 'runaway', 'ruining', 'rue', 'rot', 'romance', 'roadside', 'risked', 'rings', 'ringing', 'righteous', 'rigging', 'reza', 'revista', 'revision', 'revised', 'reversed', 'reverend', 'reunited', 'reunion', 'retire', 'resumed', 'restart', 'rescuers', 'reposts', 'replaces', 'repairs', 'renaissance', 'remotely', 'remorse', 'relieve', 'rejoice', 'reinstated', 'reinforces', 'rehabilitate', 'regrettable', 'reggae', 'referencing', 'reeducation', 'recount', 'recommending', 'recep', 'ray', 'rapporteur', 'rapist', 'rangers', 'qualifying', 'pyramid', 'punjab', 'punishes', 'punched', 'pubs', 'pta', 'psychologists', 'psychologically', 'proponents', 'propagate', 'prolific', 'productions', 'proclaiming', 'proclaim', 'proceeds', 'probability', 'prncipe', 'primitive', 'pri', 'preview', 'prevailed', 'preferential', 'predictable', 'prague', 'positioned', \"population's\", 'ponder', 'pollute', 'pollutants', 'polarization', 'poignant', 'podium', 'podcasts', 'podcasting', \"pm's\", 'plunged', 'pls', 'pleading', 'plausible', 'pioneering', 'pic', 'photoblogger', 'petitioner', 'pertinent', 'personalized', 'periodic', 'pens', 'pedal', 'patriot', 'patrice', 'patiently', 'paralyzed', 'paradox', 'papua', 'papal', 'overturned', 'overthrew', 'overflowing', 'outline', 'osh', 'opting', 'onethird', \"officials'\", 'oecd', 'oblivion', 'objectionable', 'objected', 'nurtured', 'nunavut', 'notoriously', 'nos', 'normalization', 'noisy', 'nl', \"netanyahu's\", 'nephew', \"nemtsov's\", 'nargis', 'nan', 'nadu', 'myriad', 'murderous', 'multiethnic', 'mortal', 'morris', 'mongkok', 'modernization', 'mmm', 'missionaries', 'misconduct', 'miriam', 'mira', 'minster', 'milan', 'michoacn', 'mercedes', 'mel', 'mejri', 'measuring', 'meager', 'massacred', 'mascot', 'maryam', 'maroc', 'marcos', 'manuscripts', 'maksim', 'mailing', 'mabira', 'lvarez', 'lurkmore', 'lunar', 'luna', \"lula's\", 'lucrative', 'lu', 'ltd', 'lova', 'lol', 'logs', 'logistics', 'loggers', 'lobbyists', 'lobbied', 'litter', 'listens', 'linguist', 'limbs', 'lim', 'likeminded', 'likelihood', 'lighter', \"life's\", 'leningrad', 'legitimize', 'leather', 'lean', 'leaflets', 'lashed', 'landmarks', 'labs', \"kyi's\", \"kingdom's\", 'kilo', 'kigali', 'kicks', 'kamel', 'juanes', 'joyful', 'johannesburg', 'joan', 'jimnez', 'jihadist', 'jew', 'jess', 'janet', 'issa', 'islanders', 'isa', 'irritation', 'intifada', 'interviewer', 'interpreter', 'interethnic', 'intensely', 'inspector', 'inject', 'infiltrated', 'inc', 'inambari', 'implants', 'impasse', 'imagining', 'illustrator', 'iguala', 'ids', 'hydropower', 'horrifying', 'horizonte', 'honoring', 'homepage', 'hinted', 'hike', 'heralded', 'henna', 'helmets', 'hebei', 'hats', 'hates', 'haque', 'hani', 'handson', 'handsome', 'handicapped', 'hama', 'haha', 'gruesome', 'greg', 'grade', \"gov't\", 'goodwill', 'goats', 'gloves', 'gladly', \"girls'\", 'ghazzawi', 'ghazi', 'ghassan', 'ghannouchi', 'genres', 'futile', 'frustrating', 'frontiers', 'fraudulent', 'framing', 'forwarded', 'foko', 'flyer', 'fluid', 'flagrant', 'fits', 'fishers', 'fisheries', 'firefighting', 'feriani', 'feliciano', 'feb17', 'feat', 'fascination', 'farther', 'fairy', 'extracted', 'experiments', 'expenditures', 'expands', 'exodus', 'exempt', 'eurovegas', 'ethnically', 'estonia', 'escobar', 'escalate', 'entrusted', 'entertained', 'ensured', 'enrolled', 'enriching', 'enhancing', 'energies', 'embark', 'ellen', 'elicited', 'elbaradei', 'eduard', 'ebook', 'earliest', 'dushanbe', 'doubtful', 'dominicans', 'distraction', 'distort', 'disdain', 'disagreements', 'disadvantage', 'diminished', 'digest', 'dictionaries', 'dictate', 'dialogues', 'deutsche', 'deterrent', 'despicable', 'deprive', 'demographics', 'delighted', 'deleting', 'delegate', 'degraded', 'definitively', 'definitive', 'deem', 'decrees', 'dean', 'dealings', \"daughter's\", 'databases', 'dadis', 'cultivating', 'culprit', 'crossborder', 'counsel', \"could've\", 'costumes', 'cosmetic', 'corrected', 'corp', 'coral', 'copper', 'coordinates', 'convened', 'contend', 'contacting', 'constitutionally', 'constituted', 'console', 'consciously', 'cons', 'congressmen', 'congregation', 'conducts', 'conducive', 'compromising', 'competitor', 'compensated', 'comparable', 'communique', 'commands', 'comercio', 'combo', 'coincidentally', 'cofounded', 'cocaine', 'coat', 'coaches', 'closet', 'climax', 'clichs', 'clay', 'claude', 'classify', 'circumstance', 'cigarette', 'cho', 'cheikh', 'chefs', 'chatted', 'chairperson', 'certified', \"center's\", 'cemeteries', 'celebratory', 'cds', 'catarina', 'catalina', 'casualty', 'cartel', 'capacities', 'campuses', 'campos', 'cameron', 'calculate', 'cakes', 'cafs', 'cadres', 'bursting', \"burma's\", 'bullshit', 'bulbs', \"brother's\", 'broadcasted', 'brian', 'breasts', 'boxing', 'botswana', 'borne', 'bore', 'bordering', 'booklet', 'bonuses', 'bombardment', 'bodyguards', 'blogpost', 'blindly', 'blindfolded', 'blend', 'blanco', 'bio', 'beheading', 'beforehand', 'beel', 'basement', 'bangui', 'bambara', 'bakery', 'badge', 'badawi', \"azerbaijan's\", 'azar', 'awake', 'authorization', 'authored', 'attachment', 'atlas', 'associates', 'asphalt', \"armenia's\", 'arisen', 'argentinean', 'arakan', 'arafat', 'arabist', 'apprehended', 'appointing', 'applaud', 'anwar', 'antarctica', 'anne', 'angrily', \"angola's\", 'angels', 'anecdotes', 'anderson', 'alternate', 'alleges', 'alassad', 'aided', 'ahn', 'agora', 'agncia', 'aggressor', 'afro', 'adolescent', \"activists'\", 'acquaintances', 'acquaintance', 'accord', 'accidentally', 'accessibility', 'abnormal', 'ablaze', 'abe', '90s', '7000', '68', '3g', '36', '35000', '33', '2020', '1992', '1987', '1975', '1973', '1967', '1400', \"'\", 'zhirinovsky', 'zhao', 'zapiro', 'zakharov', 'yudhoyono', 'yoweri', 'yen', 'yekaterinburg', 'yasser', \"wu's\", 'wouldbe', 'worsen', 'witty', 'witch', 'willingly', 'wildly', 'wicked', 'wetlands', 'weaknesses', 'wary', 'warrior', 'warehouse', 'wangari', 'wander', 'walker', 'wales', 'waging', 'voz', 'voip', 'vivo', 'vittorio', 'viewpoints', 'vertical', 'vancouver', 'valls', 'valdir', 'usain', \"uruguay's\", 'upstream', 'upheaval', 'unwed', 'unreported', 'unrelated', 'unnamed', 'unlucky', \"union's\", 'uninformed', 'unfinished', 'uneducated', 'underlined', 'unauthorized', 'uma', 'ultra', 'turtles', 'turk', 'tremors', 'travellers', 'traor', 'transaction', 'traits', 'trainers', 'trademark', 'tortures', 'tore', 'tops', 'ton', 'tomb', 'tolerated', 'tireless', 'tire', 'tightly', 'thrust', 'thrive', 'threeday', 'thophile', 'thirsty', 'theoretical', 'thein', 'terrorize', 'terra', 'tempting', 'tempo', 'teen', 'tariq', 'tara', 'tanzanians', \"tanzania's\", 'talal', 'talaat', 'tackles', 'systemic', 'synonymous', 'symbolized', 'swallow', 'sustaining', 'supplement', 'sumo', 'sultanalqassemi', 'subtitled', 'submerged', 'subdued', 'strained', 'strain', 'stipulated', 'sticker', 'stereotypical', 'steer', 'stanislav', 'standoff', 'stall', 'spilled', 'southeastern', 'sounding', 'sorting', 'solicit', 'sociological', 'snake', 'smartphones', 'slipped', 'slide', 'slew', 'slate', 'slam', 'skateboarding', 'sixtytwo', 'sisi', 'sirens', 'siberian', 'shrimp', 'shipping', 'shameless', 'shahzeb', 'sermons', 'serb', 'seizure', 'seizing', 'seif', 'screwed', 'screamed', 'scorn', 'scenery', 'scarves', 'saves', 'sands', 'samar', 'salvation', 'sall', 'salah', 'saharan', 'sacrificing', 'sabotage', 'sabmiller', 'rybolovlev', 'ruthlessly', 'rushing', 'rundown', 'rope', 'rods', 'rodrigues', 'robbing', 'roadmap', \"riot's\", 'rigged', 'rhythms', 'revolting', 'revitalize', 'retaliate', 'resistant', 'resigning', 'researching', 'repeats', 'reopen', 'renamed', 'remarkably', 'religiously', 'relentless', 'relayed', 'regulators', 'registers', 'referenced', 'recourse', 'recounting', 'recognizable', 'reassuring', 'reasonably', 'razily', 'razak', 'rayman', 'ramrez', 'ramon', 'ral', 'raja', 'rages', 'radically', 'racists', 'rachid', 'queer', 'pyongyang', 'pseudonym', 'protocols', 'protections', 'proposition', 'propelled', 'pronounce', 'prom', 'privatized', 'prioritize', 'preoccupied', 'predicting', 'prayed', 'positives', 'ports', 'portfolio', 'popping', 'popped', 'pools', 'poltico', 'polio', 'policymakers', 'pole', 'poised', 'poetic', 'pneumoconiosis', 'pnar', 'plural', 'plug', 'plotting', 'plots', 'playground', 'plaintiff', 'plainclothes', 'pioneers', 'pinheirinho', 'pills', 'pillar', 'pics', 'physics', 'photographic', 'phil', 'petkov', 'pesticide', 'pessimism', 'peshawar', 'persists', 'perpetuating', 'perm', 'performs', 'performers', 'perceives', 'penny', 'penned', 'penan', 'peacekeepers', 'pbs', 'pawar', 'pavement', 'paved', 'passwords', 'parttime', 'palpable', 'pais', 'painter', 'pacifist', 'oz', 'overshadowed', 'overlooking', 'overcoming', 'overboard', 'outlined', 'opined', 'openpit', 'onslaught', 'occupants', 'obligatory', 'objections', 'nz', 'nutrition', 'novosibirsk', 'nous', 'norte', 'normalcy', 'nora', 'noodle', 'nkunda', 'nikon', 'ngozi', 'nest', 'negativity', 'navigation', 'navigating', 'nada', 'nabeel', 'nabbous', 'mukoko', 'muhammed', 'msm', 'mpla', 'mossad', \"morsi's\", 'moor', 'missouri', 'misguided', 'minimizing', 'mina', 'mile', 'middleclass', 'middleaged', 'microblogs', 'metals', 'merchant', 'menace', 'memo', 'mediate', 'mdp', 'md', 'matching', 'mart', 'marginalization', 'manpower', 'manar', 'manama', 'mamadou', 'lusophone', 'lured', 'louisiana', 'loser', 'loop', 'lolita', 'login', 'localized', 'lisa', 'lips', 'limitation', 'lifts', 'liberating', 'liable', 'lends', 'legislator', 'lawmaker', 'lavrov', 'lavish', 'laundering', 'lauded', 'lanes', 'lament', 'kuwaitis', 'kublalsingh', 'konstantin', 'kolkata', 'knowingly', 'kidding', 'kharkiv', 'kgb', 'keyboards', 'kaz', 'kato', 'karl', 'karimova', 'kabobfest', 'justin', 'jornal', 'jon', 'jo', 'jiang', 'jandali', 'jailing', 'iyadelbaghdadi', 'isfahan', 'isaac', 'invoking', 'invoke', 'invitations', 'inuktitut', 'intolerant', 'interviewees', 'interruption', 'interconnected', 'instigated', 'insecure', 'ingushetia', 'indulge', 'indoor', 'indicted', 'incursion', 'incorporated', 'incompatible', 'idiotic', 'hypocrites', 'hush', 'hurdles', 'humiliate', 'https', 'hottest', 'horrified', 'horrendous', 'hook', 'hollande', 'hoax', 'highquality', 'heterosexual', 'herzegovina', 'herd', 'helplessness', 'helmet', 'hegemony', 'headscarf', 'harms', 'harmed', 'harbor', 'happier', 'hanna', 'handy', 'handmade', 'halfway', 'guts', 'guo', 'gujarat', 'guessing', 'guessed', 'guaranteeing', 'guaranikaiow', 'grenada', 'granada', 'godoy', 'glued', 'giants', 'gestures', 'gentrification', 'gentleman', 'gao', 'gala', 'futures', 'funerals', 'fostering', 'formidable', 'forbes', 'font', 'fisherman', 'fiasco', 'feudal', 'festive', 'fds', 'favored', 'fatalities', 'fastest', 'falkland', 'facial', 'fabricated', 'extinct', 'exhibited', 'exemplary', 'executing', 'evolving', 'evils', 'evidences', 'evacuees', 'ev', 'eurasian', \"eu's\", 'establishes', 'erraji', 'erotic', 'eroded', 'erik', 'equate', 'endangering', 'encyclopedia', 'emily', 'embraces', 'elevator', 'eightyone', 'educator', \"editor's\", 'editions', 'ecotourism', 'eccentric', 'easiest', 'dull', 'duke', 'duch', 'dt', 'drying', 'drown', \"driver's\", 'dreadful', 'downstream', 'dominica', 'disrespectful', 'dispel', 'dispatched', 'dismantling', 'disgraceful', 'discretion', 'dignitaries', 'didier', 'diaoyu', 'devoid', 'develops', 'developmental', 'determining', 'deteriorated', 'detainee', 'deserving', 'democracia', 'dem', 'delaying', 'defied', 'defected', 'decorations', 'decay', 'deadliest', 'dave', 'darkest', 'daniela', 'dana', 'cyberactivists', 'curated', 'crossstrait', 'crossings', 'criminalizes', 'creeping', 'credits', 'crdoba', 'craze', 'cowardice', 'coups', 'counteract', 'corrective', 'corporates', 'convict', 'contradicts', 'conquest', 'conquered', 'congresswoman', 'confucian', 'conform', 'confidentiality', 'condor', 'condemnations', 'conception', 'concepcin', 'compromises', 'comprises', 'compile', 'competence', 'compatible', 'companion', 'commuter', 'commute', 'comfortably', 'colourful', 'collision', 'collectors', 'collectif', 'coincide', 'coercion', 'coasts', 'cndp', 'clown', 'clemency', 'chores', 'chomsky', 'chiba', 'chevron', \"chen's\", 'characterizes', 'cfa', 'centro', 'cear', 'catches', 'catastrophes', 'catalyst', 'carter', 'capitol', 'cao', 'canisters', 'cancun', 'canceling', \"cairo's\", 'bust', 'bull', 'bsf', 'brooklyn', \"britain's\", 'bridging', 'breeding', 'breed', 'bravo', 'branding', 'brainwashing', 'brahmins', 'bounds', 'boulevard', 'bored', 'booed', 'boiling', 'blonde', 'blaise', 'bl', 'bits', 'biting', 'bishops', 'bisexual', 'birthplace', 'bihar', 'betray', 'beta', 'believer', 'beji', 'beit', 'battisti', 'barrios', 'barring', 'barbosa', 'barbara', 'bankers', 'balls', 'bali', 'balconies', 'balatarin', 'bake', 'azawad', 'awkward', 'awe', 'avalanche', 'autopsy', 'austrian', 'ato', 'assurance', 'associating', 'assessed', 'assassinate', 'askar', 'asians', 'arash', 'appliances', 'applauding', 'anzhi', 'anthony', 'animosity', 'analogy', 'amy', 'almuslimi', 'alexis', 'alerted', 'albashir', 'alawites', 'akter', 'airways', 'aide', 'agribusiness', 'agreeing', \"agency's\", 'afforded', 'afflicted', 'adopts', 'admittedly', 'administer', 'activated', 'achieves', 'abuja', 'abualkhair', 'abruptly', 'abkhazia', 'abdulaziz', 'abandonment', '80s', '80000', '67', '56', '50th', '48', '41', '37', '1985', '1982', '1960s', '1600', '1300', 'zhejiang', 'zaid', 'ypwc', 'yearlong', 'yashin', 'yaound', \"yanukovych's\", 'xiaobing', 'wrath', 'workings', 'wool', 'wireless', 'wiping', 'wielding', 'whomever', 'whichever', 'wendy', 'wells', 'watan', 'wastes', 'warplanes', 'warlords', 'vpn', 'vow', 'vocational', 'visitor', 'virulent', 'vinokurov', 'vicente', 'veils', 'vat', 'vastly', 'variations', 'vanished', 'vandals', 'validated', 'valery', 'vadim', 'uttar', 'utility', 'usher', 'unthinkable', 'unstoppable', 'unsolved', 'unnatural', 'unintended', 'unfavorable', 'unethical', 'undue', 'underwent', 'undertaking', 'underprivileged', 'undergone', 'underestimated', 'uncover', 'unavoidable', 'ump', 'umar', 'typing', 'tying', 'tvs', 'tutsi', 'tumor', 'tsar', 'tsai', 'tremor', 'transvestites', 'trajectory', 'tp', 'torturers', 'toddler', 'tito', 'tissue', 'tinto', 'timorleste', 'tijuana', 'tightening', 'tianya', 'threads', 'thompson', 'thierry', 'therapeutic', 'terrain', 'temuco', 'telesur', 'telegram', 'tedxsanaa', 'techsavvy', 'teamed', \"teachers'\", 'tavakoli', 'tashkent', 'tarawnah', 'tallest', \"taliban's\", 'tail', 'tahina', 'tadeu', 'tactical', 'tacloban', 'synagogue', 'symbolically', 'sweets', 'swallowed', 'suzanne', 'surpass', 'surf', 'supplier', 'suck', 'substances', 'subsidized', 'subsidiary', 'structured', 'strips', 'stricken', 'strengthens', 'strelkov', 'streamed', 'strategically', 'stimulus', 'stigmatization', 'stifling', 'stf', 'stephen', 'starring', 'stalls', 'springs', 'spouse', 'splm', 'spills', 'spike', 'spelled', 'speeds', 'specifying', 'spat', 'spade', 'sombath', 'socrates', 'sociopolitical', 'soares', 'sniper', 'snatched', 'snacks', 'smokers', 'smells', 'sludge', 'slovenia', 'slopes', 'slams', 'skirts', 'sketchy', 'singular', 'singled', 'sindh', 'simplicity', 'sim', 'silvia', 'silently', 'shui', 'shrine', 'shortlived', 'shooter', 'shin', 'shenyang', 'sheltered', 'shaved', 'sharad', 'shallow', 'shaikh', 'sesame', 'seniors', 'selfsufficient', 'selfinterest', 'selfesteem', 'selek', 'selectively', 'secretarygeneral', 'seasons', 'seas', 'sderot', 'scrapped', 'schengen', 'satisfactory', 'sasaki', 'sanitary', 'sahar', 'sacking', 'sabz', 'runway', 'rufina', 'ruble', 'rosewood', 'romani', 'rogozin', 'robinson', 'robbers', \"river's\", 'rig', 'ribbons', 'revolts', 'revitalization', 'reverence', 'retribution', 'restructuring', 'resting', 'responsibly', 'resonate', 'resettle', 'reproduces', 'repressing', 'reposting', 'repblica', 'renovation', 'redress', 'redevelopment', 'redemption', 'rede', 'recyclers', 'recycle', 'recruits', 'reckless', 'reciting', 'rawlings', 'rationality', 'ras', 'rakotomalala', 'raj', 'rabaa', 'quispe', 'quetta', 'questionnaire', 'quarantine', 'purported', 'psoe', 'provokes', 'protestor', 'protein', 'prominently', 'pretoria', 'preparedness', 'preachers', 'pravda', 'pragmatic', 'potholes', 'postsoviet', 'postings', \"post's\", 'portable', 'poppy', 'politely', 'pluralism', 'plunge', 'pledging', 'pleas', 'pires', 'pinpoint', 'pilgrims', 'physician', 'phulbari', 'pharaoh', 'persist', 'peres', 'pcs', 'paste', 'partnered', 'parodies', 'parity', 'parish', 'parental', 'paralysis', 'papa', 'pamphlets', 'pa', 'overtly', 'overthrown', 'overflow', 'overcrowding', 'outbreaks', 'oumar', 'os', 'ortiz', 'organizes', 'ordinance', 'oppressors', 'onwards', 'ombudsman', 'omani', 'oligarch', 'ol', 'okinawan', 'oisoo', 'offenses', 'oddly', 'occupies', 'obsolete', 'observatorio', 'null', 'noticeable', 'northwestern', \"no'\", 'niche', 'neverending', 'neoliberal', 'ndp', 'nathan', 'nasrin', 'nasrallah', 'nasa', 'narendra', 'napkin', 'nakba', 'naipaul', 'mythology', 'mustapha', 'mustang', 'muscovites', 'munduruku', 'multilateral', 'mullah', 'mrquez', 'mrf', \"movie's\", 'movadef', 'motorcycles', 'motivating', 'motherhood', 'moscowbased', 'mortgages', 'morozov', 'moreira', 'mon', 'mollah', 'modification', 'modernity', 'mobilised', 'mistakenly', 'misplaced', 'miranda', 'miraculous', 'minustah', 'mill', 'militarybacked', 'midwife', 'mhenni', 'mh370', 'messy', 'mercury', 'medias', 'mdc', 'mcfaul', 'maturity', 'matrix', \"martyrs'\", 'martinez', 'marta', 'marrakech', 'marginalised', 'marcus', 'mansion', 'manifestation', 'manhattan', 'mango', 'mandated', 'maize', 'maher', \"magazine's\", 'machismo', 'macau', 'mac', \"ma's\", 'lungu', 'lords', 'lopez', 'loneliness', 'lola', 'lodged', 'localization', 'livni', 'livestream', \"liu's\", 'limbo', 'lieutenant', 'liar', 'lgbti', 'levy', 'lethal', 'lessen', 'lemon', 'legion', 'layoffs', \"law's\", 'latakia', 'lalami', 'lai', 'kyaw', 'kozyrev', \"kosovo's\", 'kononenko', 'kommersant', 'kitten', 'kisses', 'kiselyov', 'kings', \"kim's\", 'kilos', 'khatib', 'khanfar', 'ken', 'kejriwal', 'keita', 'katya', 'karma', 'kalonji', 'kalam', 'jun', 'juliana', 'juice', 'judaism', 'juba', 'joyous', 'johnson', 'jihadists', 'jibon', 'jia', 'jealous', 'jamaateislami', 'jaguar', 'jacqueline', \"jackson's\", 'izvestia', 'isolating', 'ismayil', 'irrespective', 'ireland', 'invariably', 'invalid', 'intrusion', 'intervening', 'interracial', 'intermittent', 'intercultural', 'interamerican', 'inter', 'intellect', 'intangible', 'instigate', 'innumerable', 'injure', 'ingredient', 'ingabire', 'influencing', 'infections', 'inertia', 'impulse', 'imprison', 'impotence', 'imply', 'impaired', 'ills', 'ilham', 'idps', 'hunters', 'humankind', 'hrw', 'housewife', 'hordes', 'hood', 'honoured', 'holland', 'hockey', 'hm', 'histories', 'hinting', 'hightech', 'highspeed', 'heroism', 'heinous', 'heavyhanded', 'heartfelt', 'healthier', 'hazem', 'hazards', 'hastily', 'harness', 'harmonious', 'harming', 'happiest', 'hangzhou', 'handouts', 'hammer', 'haimen', 'gym', 'guzmn', 'gutirrez', 'gurkhas', 'gum', 'gulnara', 'guise', 'guerra', 'guarani', 'growers', 'grotesque', 'greener', 'gravity', 'grammy', 'gorgeous', 'goliath', 'gloomy', 'giles', 'gies', 'geo', 'generosity', 'generic', 'generacin', 'genderbased', 'geeks', 'gauge', 'gangjeong', 'fur', 'functionality', 'fuji', 'fuelled', \"friday's\", 'frente', 'freeing', 'freak', 'fraught', 'fraternity', 'frames', 'fort', 'formats', 'ford', 'footprint', 'folklore', 'fodder', 'flourish', 'flogging', 'flavor', 'flashmob', 'fishy', 'fisher', 'finland', 'finalized', 'fetus', 'fe', 'fashionable', 'fascists', 'farah', 'falsely', 'factchecking', 'facilitator', 'eyebrows', 'extrajudicial', 'extortion', 'expedition', 'expectancy', 'exiles', 'exercises', 'executives', 'exclaimed', 'evin', 'evgeny', 'evaluating', 'evacuating', 'erupt', 'erick', \"erdoan's\", 'envelope', 'entrenched', 'entirety', 'entails', 'ensuing', 'engulfed', 'energia', 'endeavors', 'encryption', 'encrypted', 'emulate', 'emigrants', 'emerson', 'embarked', 'ellis', 'elie', 'elegant', 'ehud', 'edwin', 'ecb', 'durban', 'droves', 'dossier', 'dome', 'dogan', 'diy', 'ditch', 'distracting', 'displacing', 'displace', 'dismantle', 'disillusionment', 'disclosures', 'disciplinary', 'discarded', 'digs', 'differing', \"dictator's\", 'dia', 'devils', 'detrimental', 'derakhshan', 'deploying', 'depiction', 'depended', 'dennis', 'demolishing', 'delivers', 'deliveries', 'delgado', 'defectors', 'defect', 'decorate', 'decency', 'daw', 'davos', 'damned', 'dadaab', 'curtailing', 'crippling', 'criminalize', 'creatively', 'crafts', 'coworkers', 'cowards', 'courtyard', 'countered', 'correspondence', 'corpus', 'contraceptives', 'contenders', 'contemplating', 'cont', 'considerably', 'confiscate', 'conditional', 'composer', 'competitiveness', 'companions', 'como', 'commotion', 'commonplace', \"commission's\", 'comedians', 'combatants', 'coloured', 'collage', 'cola', 'clues', 'clamp', 'chronicling', 'chips', 'children404', 'childish', \"chavez's\", 'charts', \"channel's\", 'championships', 'chained', 'chadema', 'cha', 'cd', 'cbs', 'carla', 'careless', 'captions', \"canada's\", 'calle', 'bureaucrat', 'bully', 'bullfighting', 'brute', 'breaching', 'bratislava', 'brasilia', 'brainwashed', 'br', \"boy's\", 'bothers', 'borrowing', 'boots', 'bobonazarova', 'boast', 'boarding', \"bo's\", \"blogosphere's\", 'blockage', 'blasting', 'blakehounshell', 'blackmailed', 'bjp', \"biya's\", 'bites', 'biszku', 'biological', 'bint', 'billboards', 'beverage', 'betrayal', 'bermuda', 'bells', 'belated', 'beheaded', 'behaved', 'begs', 'beginnings', 'battled', 'batteries', 'batista', 'bastards', 'bardo', 'banksy', 'bang', 'baltic', 'bala', 'baht', 'bahrainis', 'bahati', 'bab', 'aysn', 'axis', 'awami', 'avylavitra', 'avatars', 'audacity', 'ati', 'atheism', 'aswan', 'astonished', 'asteris', 'assassins', 'asaram', 'arturo', 'arrigoni', 'arranging', 'armistice', 'ariel', 'arequipa', 'arabamerican', 'apprehend', 'applauds', 'appalled', 'ao', 'anxiously', 'antoine', 'antiwar', 'antifa', 'antiamerican', 'anthropology', 'amused', 'amal', 'alvarez', 'alshabaab', 'alot', 'alluded', 'allowances', 'aldo', 'alcoholic', 'alawite', 'ahsan', 'affront', 'affirmative', 'affinity', 'afar', 'advisors', 'adversity', 'adversely', 'adjacent', 'ada', 'acquittal', 'accomplice', 'acclaimed', 'accelerate', 'abreu', 'abdulemam', 'abdou', 'abdallah', '99', '90000', '70s', '70000', '64', '600000', '47', '46', '44', '43', '42', '2016', '1983', '1978', '1964', '1950s', '14yearold', '120', 'yunnan', 'yousif', \"you'\", 'yi', 'yaounde', 'yao', 'wrongs', 'wording', 'wolof', 'wishful', 'widening', 'wholly', 'whats', 'weighing', 'wefaq', 'weed', 'weakest', 'waved', 'watershed', 'wartorn', 'wartime', 'warren', 'walla', 'waitress', 'volleyball', 'volcanoes', 'voiceover', 'vo', 'vladislav', 'villar', \"video's\", 'vera', 'varies', 'vaccination', 'vacate', 'vacant', \"user's\", 'usb', 'usaid', \"us'\", 'urumqi', 'upgraded', 'unverified', 'unsuspecting', 'unsatisfied', 'unleashing', 'universally', 'uniquely', 'unfriendly', 'undesirable', 'underscores', 'undergraduate', 'undeniable', 'uncles', 'unblocked', 'unanswered', 'ultranationalist', 'ulrich', 'ucp', 'typhoons', 'twoyear', 'twoday', 'twitterlike', 'tube', 'ttp', 'tskhinvali', 'tskhinval', 'tsavkko', 'truthful', 'troy', 'trophy', 'trinidadian', \"tribunal's\", 'trainer', 'trafficker', 'tps', \"town's\", 'topless', 'tooth', 'tong', 'toledo', 'todo', 'tirelessly', 'timelines', 'tiempo', 'thumbs', 'thorn', 'thier', 'thats', 'tharoor', 'terrorized', 'terminate', 'tenth', 'temper', 'tema', 'telephones', 'teddy', 'tec', \"taxpayers'\", 'tapped', 'tanker', 'tango', 'tandja', 'tamaulipas', 'taha', 'tackled', 'syriza', 'symposium', 'symbolize', 'swords', 'sword', 'svetlana', 'surkov', 'surgeon', 'surfing', 'suppliers', 'superpower', 'suitcase', 'suffocating', 'suffice', 'succeeds', 'subversion', 'subjective', 'stumble', 'stroke', 'stoned', 'stigmatized', 'stature', 'stained', 'stabilize', 'stabbing', 'ss', 'squeezed', 'sponsoring', 'sponge', 'spokeswoman', 'spokespeople', 'spitting', 'spirituality', 'spirited', 'spilling', 'spice', 'speculators', 'specializes', 'spate', 'spanishlanguage', 'southwest', 'soundtrack', 'soninlaw', 'solemn', 'solana', 'sodiqov', 'sober', 'sobbing', 'smoked', 'slim404', 'slice', 'slaughtered', 'slander', 'skyscrapers', 'skirmishes', 'singlehandedly', 'singersongwriter', 'simplest', 'sickening', 'shrines', 'shiraz', 'shifa', 'sham', 'shakes', 'shahbagh', 'shafik', 'settling', 'sergeant', \"serbia's\", 'separately', 'seo', 'seleka', 'sein', 'segou', 'seattle', 'seated', 'seasoned', 'screened', 'scourge', 'schedules', 'scar', 'savior', 'saud', 'sandwiches', 'sanctity', 'sanad', 'samak', 'sal', 'sakamoto', 'sail', 'saddest', 'sabra', 'rumen', 'rubio', 'rsf', 'rseau', \"rousseff's\", 'roundtable', 'rode', 'roaming', 'ripped', 'rimsha', 'rim', 'rigorous', 'ridiculously', 'rfi', 'rewards', 'rewarding', 'rethinking', 'restless', 'respiratory', 'resonated', 'reservoirs', 'resemblance', 'rescuing', 'reprisals', 'representations', 'reportage', 'replicate', 'repacted', 'rents', 'rendn', 'rendering', 'removes', 'remedy', 'relies', 'reinstate', 'regent', 'redesign', 'reclaimed', 'realising', 'readings', \"readers'\", 'reactionary', 'rd', 'rbnews', 'rationally', 'rat', 'rasha', 'rankings', 'ranchers', 'ranch', 'rampage', 'ramirez', 'raged', 'qualification', 'qifa', 'purportedly', 'punta', 'pun', 'pulitzer', 'pueblo', 'psc', 'protestant', 'protector', 'pronunciation', 'prokhorov', 'proindependence', 'profitability', 'proclaims', 'pretended', 'preside', 'pres', 'prepaid', 'premium', 'powdered', 'possessed', \"portugal's\", 'portions', 'poroshenko', \"politicians'\", 'polarized', 'poked', 'pogrom', 'poachers', 'pluralistic', 'plead', 'plains', 'placards', 'placard', 'pivi', 'pitched', 'pinch', \"piera's\", 'picket', 'physicians', 'phosphorus', 'philippe', 'pharmaceutical', 'petrobras', 'persona', 'peril', \"people'\", 'penguins', 'pedestrians', 'paulista', 'patriarchy', 'patio', 'pasture', 'password', 'particles', \"park's\", 'parisbased', 'pardoned', 'paradoxically', \"paper's\", 'palma', 'palaces', 'outer', 'outburst', 'ouster', \"ouattara's\", 'operatives', 'openstreetmap', 'opcw', 'onions', 'ondoy', 'omid', 'oligarchy', 'oldfashioned', 'oke', 'okapi', 'offspring', 'occupations', 'obstructing', 'oblivious', 'obituary', 'oaxaca', 'oak', 'nyt', 'nutshell', 'nurture', 'nudity', 'novi', 'notify', 'noticing', 'noteworthy', 'noor', 'nonviolence', 'nominations', 'niqaab', 'ninja', 'nina', 'nikolay', 'nightclub', 'nichane', 'nezrad', 'newborn', 'neto', 'neonazis', 'necessities', 'nbt', 'nazarbayev', 'nationalization', 'nascent', 'nari', 'nana', 'naguib', 'nadezhda', 'nacin', 'mysteriously', 'mute', 'mundane', 'mujahideen', 'mufti', 'muddy', 'msn', 'mpesa', \"mozambique's\", 'mozambicans', 'motivates', 'mosquitoes', 'moses', 'morro', 'morrison', 'morgue', 'morada', 'mora', 'monthlong', 'montenegro', 'monstrous', 'monsoon', 'monoculture', 'monarchies', 'momentarily', 'mohamad', 'modifications', 'modernday', 'moderators', 'moderation', 'mj', 'mitt', 'mistura', 'misrepresented', 'misrata', 'mismanagement', 'misfortune', 'misconception', 'miracles', 'milov', 'miller', 'mileage', 'migratory', 'miep', 'microphone', 'meu', 'mercosur', 'mentor', 'mengniu', 'mendiola', 'memri', 'memorize', 'memorable', 'melting', 'meltdown', 'mehsud', 'meetups', 'mediums', 'mediocre', 'medellin', 'mc', 'mba', 'mayoral', 'mayhem', \"mauritania's\", 'mates', 'massively', 'massage', 'marques', 'marcell', 'mapped', 'mangoes', 'mandates', 'maharashtra', 'madhav', 'madeira', 'mada', 'maalouf', 'lure', 'lullabies', 'lugansk', 'lucia', 'lowincome', 'loskutov', 'logos', 'loaded', 'livesay', 'liver', 'livejournalcom', 'litigation', 'literal', 'linguistics', 'liliane', 'lighthearted', 'lifesaving', 'lifelong', 'licensing', \"libya's\", 'liberalism', 'liaoning', 'lending', 'lena', 'lecturer', 'leanings', 'laundry', 'latina', 'larry', 'lara', 'landscapes', 'lame', 'ksenia', 'kongers', 'kobane', 'knowhow', 'kmt', 'klyosov', 'kilograms', 'kilimanjaro', 'kidnappers', 'kidnap', \"khuza'a\", 'katakana', 'kasparov', 'karoubi', \"kareem's\", 'kal', 'kah', 'ka', 'jurez', \"journalist's\", 'jirama', 'jiangsu', 'jestina', 'jessica', 'jeepney', 'jealousy', 'je', \"jazeera's\", 'jason', 'jacques', 'jacobs', 'iyad', 'ixil', 'israelipalestinian', 'ismael', 'islamophobia', 'isidro', 'irritating', 'irin', 'invaluable', 'intricate', 'internship', 'internetbased', \"internet's\", 'interception', 'intercept', 'intending', 'instituted', 'instigating', 'installations', 'insightful', 'insiders', 'insert', 'insects', 'innocents', 'innate', 'inheritance', 'ingush', 'ingrained', 'infringement', 'informants', 'influenza', 'inflict', 'inflammatory', 'inferiority', 'infectious', 'industrialized', 'indispensable', 'indicative', 'incorporate', 'incinerator', 'incensed', 'incarcerated', 'improves', 'importer', 'implements', 'impartiality', 'immersed', 'immensely', 'imams', 'iloilo', 'illogical', 'igniting', 'ignacio', 'iftar', 'idle', 'ibnezra', 'ibaraki', 'iaea', 'hypothesis', 'hydrocarbons', 'hyderabad', 'hurricanes', 'humanistic', 'hugh', 'hugging', 'hubs', 'hsu', 'hsbc', 'hr', 'housed', 'hostel', 'horizons', 'honey', 'hon', 'homework', 'holistic', 'ho', 'hints', 'hilary', 'highlevel', 'hezballah', 'hesitant', 'hers', 'heroin', 'hernn', 'heights', 'hebron', 'heather', 'heartening', 'hausa', 'haunt', 'hatoyama', 'hassle', 'harvesting', 'harrison', 'hardworking', 'harbour', 'harb', 'handbook', 'hamza', 'hajj', 'hafiz', 'hafez', 'gustav', 'guru', 'gunshot', 'gunman', 'guizhou', 'guangxi', 'groundviews', 'grin', 'grieving', 'grantees', 'grades', 'gowns', 'goud', 'goto', 'gonzalez', 'golos', 'goat', 'gloria', 'glick', 'gilbert', 'gil', 'ghetto', \"germany's\", \"georgia's\", 'geographically', 'geoffrey', 'genie', 'genesis', 'generously', 'geisha', 'gazette', 'gardening', 'galvao', 'galaksija', 'gal', 'gadget', 'fundamentalists', 'fulfil', 'fuck', 'friction', 'francois', 'franchise', 'formulate', 'forgets', 'foresee', 'forceful', 'footballer', 'follower', 'focal', 'fo', 'fluently', 'flocked', 'fishery', 'fills', 'feygin', 'fervent', 'fend', 'femicides', 'federico', 'fearless', 'fbi', 'favours', 'fatma', 'faten', 'farfetched', 'familial', 'fallacy', 'falha', 'facilitators', 'facetoface', 'facade', 'fabrication', 'exploits', 'exploding', 'experimenting', 'exorbitant', 'exiting', 'exhibits', 'exhaustion', 'exert', 'evidenced', 'evans', 'eswn', 'est', 'eskinder', 'eroding', 'erasing', 'eradication', 'epiphany', 'envelopes', 'entourage', 'enriched', 'enhanced', 'enforcers', 'enact', 'empowers', 'emir', 'embattled', 'elysium', 'elaine', 'eighth', 'efficacy', 'edgar', \"ed's\", 'ecstatic', 'ebooks', 'earns', 'eagle', 'dynasty', 'dvds', 'durn', 'duran', 'dude', 'dtp', 'downstairs', 'doughnuts', 'donkeys', 'donbass', 'dom', 'doesnt', 'diving', 'diversify', 'divers', 'disturbances', 'distressing', 'distinguishes', 'distanced', 'dispersal', 'dismal', 'disinformation', 'disillusioned', 'dishonest', 'discrepancies', 'discredited', 'discouraging', 'disappoint', 'diplomas', 'dip', 'dios', 'dili', 'diaz', 'diaries', 'detriment', 'detentions', 'detached', 'desecration', 'deprivation', 'deportations', 'deplores', 'density', 'demonstrator', 'demonize', 'degrading', 'definitions', 'defies', 'defective', 'defection', 'defame', 'deer', 'deed', 'dedicating', 'decisionmakers', 'decentralized', 'deceive', 'deadlock', 'davao', 'dans', 'danilo', 'dangerously', 'danced', 'cynthia', 'cuttingedge', 'cursing', 'cult', 'crushing', 'crumbling', 'crowdfunded', 'crocodiles', 'crews', 'credentials', 'creature', 'cpj', 'coveted', 'corridors', 'correction', \"correa's\", 'copyrights', 'cooper', 'converting', 'conversational', 'conveniently', 'contractors', 'contestants', 'consumes', 'construyendo', 'conservatism', 'conservationists', 'conductor', 'condescending', 'concerted', 'comrade', 'compounds', 'compliments', 'complemented', 'compilation', 'comparative', 'compaor', 'commemorative', 'comforts', 'columns', 'colloquial', 'coercive', 'coelho', 'coding', 'coconut', 'coco', 'cocacola', 'co2', 'closeness', \"clinton's\", 'clearance', 'claire', 'civilised', 'circuit', 'chunk', 'chronicled', 'chinasmack', 'chess', 'cherished', 'chelsea', 'cheek', 'chauvinism', 'ch', 'certification', 'cenit', 'cautiously', 'cautioned', 'caucasian', 'cater', 'casino', 'carols', 'carl', 'caritas', 'camped', 'caller', 'calculations', 'calculation', 'cabral', 'cabinda', 'cabin', 'bye', 'bushes', 'burgos', 'bulls', \"bulgaria's\", 'buffalo', 'budgetary', 'buddies', 'buck', 'bruce', \"brotherhood's\", 'breached', 'brazen', 'boz', 'bowing', 'bowed', 'boubacar', 'booth', 'bolivarian', 'bodo', 'bobs', 'bluefin', 'blooming', 'bloodied', 'blink', 'blatantly', 'blake', 'blades', 'blackouts', 'bitterness', 'bigotry', 'bhopal', 'beslan', 'besigye', 'bengalis', 'belaid', 'bearded', 'bd', 'bassel', 'baseline', 'bartlett', 'barrio', 'baronova', 'barking', 'bargaining', 'barakat', 'bandwagon', 'bananas', 'balances', 'bajan', 'badges', 'backup', 'b92', 'azhar', 'auto', 'auchan', 'attorneys', 'attire', 'attach', 'att', 'assessments', 'asserting', 'assembling', 'aspiration', 'ashura', 'arvind', 'arte', 'armies', 'arises', 'archeological', 'aptly', 'approx', 'appropriating', 'apprehension', 'apologised', 'apolitical', 'apocalypse', 'antisemitic', 'antique', 'antiputin', 'antiimmigration', 'annexed', 'ankara', 'andahuaylas', 'anarchists', 'amorim', 'ambiguity', 'amazingly', 'amanda', 'alves', 'alvarado', 'alumni', 'alternatively', 'altar', 'alsharif', 'alright', 'alpaca', 'almeida', 'alludes', 'aligned', 'alibaba', 'alfarhan', 'aleksei', 'alarmist', 'alam', 'aje', 'airspace', 'aircrafts', 'ailing', 'aguirre', 'aggravate', 'advertised', 'advent', 'adriana', 'adoptive', 'adjustments', 'adjustment', 'acute', 'acpra', 'achuar', 'abt', 'abstain', 'abergil', 'abbottabad', 'abaya', 'aaron', '61', '57', '52', '51', '3500', '32', '26yearold', '24yearold', '1986', '1981', '1969']\n"
          ]
        }
      ],
      "source": [
        "print(en_vectorization.get_vocabulary())"
      ]
    },
    {
      "cell_type": "code",
      "execution_count": null,
      "metadata": {
        "id": "nky1mMpZM2cl"
      },
      "outputs": [],
      "source": [
        "# print(fr_vectorization.get_vocabulary())"
      ]
    },
    {
      "cell_type": "markdown",
      "metadata": {
        "id": "jlNm0z9WORb5"
      },
      "source": [
        "# Batch data"
      ]
    },
    {
      "cell_type": "code",
      "execution_count": null,
      "metadata": {
        "id": "4AwKBf8DOVdJ"
      },
      "outputs": [],
      "source": [
        "def format_dataset(eng, fr):\n",
        "    eng = en_vectorization(eng)\n",
        "    fr = fr_vectorization(fr)\n",
        "    return (\n",
        "        {\n",
        "            \"encoder_inputs\": fr,\n",
        "            \"decoder_inputs\": eng[:, :-1],\n",
        "        },\n",
        "        eng[:, 1:],\n",
        "    )\n",
        "# 7483 x 32 = 239442 batch stable colab ne crash pas\n",
        "# Permet d'utiliser un batch sur le dataset et evité de faire crash le collab\n",
        "def make_dataset(dataframe):\n",
        "    eng_texts = list(dataframe['en_clean'])\n",
        "    fr_texts = list(dataframe['fr_clean'])\n",
        "    # print(len(eng_texts))\n",
        "    dataset = tf.data.Dataset.from_tensor_slices((eng_texts, fr_texts))\n",
        "    # print(len(dataset))\n",
        "    dataset = dataset.batch(batch_size)\n",
        "    # print(len(dataset))\n",
        "    dataset = dataset.map(format_dataset)\n",
        "    return dataset.shuffle(2048).prefetch(16).cache()\n",
        "\n",
        "\n",
        "train_dataset = make_dataset(train_data)\n",
        "validation_dataset = make_dataset(validation_data)\n",
        "test_dataset = make_dataset(test_data)\n"
      ]
    },
    {
      "cell_type": "code",
      "execution_count": null,
      "metadata": {
        "colab": {
          "base_uri": "https://localhost:8080/"
        },
        "id": "cufoMz_6OaMv",
        "outputId": "ee568eca-808f-466d-9ba3-4bce14bc2469"
      },
      "outputs": [
        {
          "name": "stdout",
          "output_type": "stream",
          "text": [
            "inputs[\"encoder_inputs\"].shape: (64, 50)\n",
            "inputs[\"decoder_inputs\"].shape: (64, 50)\n",
            "targets.shape: (64, 50)\n"
          ]
        }
      ],
      "source": [
        "# On a des batches de 64 paires, et toutes les séquences ont une longueur de 20 pas)\n",
        "for inputs, targets in test_dataset.take(1):\n",
        "    print(f'inputs[\"encoder_inputs\"].shape: {inputs[\"encoder_inputs\"].shape}')\n",
        "    print(f'inputs[\"decoder_inputs\"].shape: {inputs[\"decoder_inputs\"].shape}')\n",
        "    print(f\"targets.shape: {targets.shape}\")"
      ]
    },
    {
      "cell_type": "markdown",
      "metadata": {
        "id": "2qz5f0oPQLh8"
      },
      "source": [
        "# Construction du model sequence to sequence"
      ]
    },
    {
      "cell_type": "code",
      "execution_count": null,
      "metadata": {
        "id": "5TVsKPJp6VmZ"
      },
      "outputs": [],
      "source": [
        "# class MultiHeadSelfAttention(Layer):\n",
        "#     def __init__(self, embed_size, num_heads):\n",
        "#         super(MultiHeadSelfAttention, self).__init__()\n",
        "#         self.embed_size = embed_size\n",
        "#         self.num_heads = num_heads\n",
        "#         assert embed_size % num_heads == 0\n",
        "#         self.projection_dim = embed_size // num_heads\n",
        "#         self.query_dense = Dense(embed_size)\n",
        "#         self.key_dense = Dense(embed_size)\n",
        "#         self.value_dense = Dense(embed_size)\n",
        "#         self.combine_heads = Dense(embed_size)\n",
        "\n",
        "#     def attention(self, query, key, value):\n",
        "#         score = tf.matmul(query, key, transpose_b=True)\n",
        "#         dim_key = tf.cast(tf.shape(key)[-1], tf.float32)\n",
        "#         scaled_score = score / tf.math.sqrt(dim_key)\n",
        "#         weights = tf.nn.softmax(scaled_score, axis=-1)\n",
        "#         output = tf.matmul(weights, value)\n",
        "#         return output, weights\n",
        "\n",
        "#     def separate_heads(self, x, batch_size):\n",
        "#         x = tf.reshape(x, (batch_size, -1, self.num_heads, self.projection_dim))\n",
        "#         return tf.transpose(x, perm=[0, 2, 1, 3])\n",
        "\n",
        "#     def call(self, inputs):\n",
        "#         batch_size = tf.shape(inputs)[0]\n",
        "#         query = self.query_dense(inputs)  # (batch_size, seq_len, embed_size)\n",
        "#         key = self.key_dense(inputs)      # (batch_size, seq_len, embed_size)\n",
        "#         value = self.value_dense(inputs)  # (batch_size, seq_len, embed_size)\n",
        "\n",
        "#         query = self.separate_heads(query, batch_size)  # (batch_size, num_heads, seq_len, projection_dim)\n",
        "#         key = self.separate_heads(key, batch_size)      # (batch_size, num_heads, seq_len, projection_dim)\n",
        "#         value = self.separate_heads(value, batch_size)  # (batch_size, num_heads, seq_len, projection_dim)\n",
        "\n",
        "#         attention, _ = self.attention(query, key, value)\n",
        "#         attention = tf.transpose(attention, perm=[0, 2, 1, 3])  # (batch_size, seq_len, num_heads, projection_dim)\n",
        "#         concat_attention = tf.reshape(attention, (batch_size, -1, self.embed_size))  # (batch_size, seq_len, embed_size)\n",
        "#         output = self.combine_heads(concat_attention)  # (batch_size, seq_len, embed_size)\n",
        "#         return output"
      ]
    },
    {
      "cell_type": "markdown",
      "metadata": {
        "id": "d3xmm60TREDl"
      },
      "source": [
        "## Les Transformers"
      ]
    },
    {
      "cell_type": "markdown",
      "metadata": {
        "id": "QYyFVWU5cS3G"
      },
      "source": [
        "### Encoder"
      ]
    },
    {
      "cell_type": "code",
      "execution_count": null,
      "metadata": {
        "id": "BhIOsJ_6cUVQ"
      },
      "outputs": [],
      "source": [
        "class TransformerEncoder(layers.Layer):\n",
        "    def __init__(self, embed_dim, dense_dim, num_heads, **kwargs):\n",
        "        super().__init__(**kwargs)\n",
        "        self.embed_dim = embed_dim\n",
        "        self.dense_dim = dense_dim\n",
        "        self.num_heads = num_heads\n",
        "        self.attention = layers.MultiHeadAttention(\n",
        "            num_heads=num_heads, key_dim=embed_dim\n",
        "        )\n",
        "        self.dense_proj = keras.Sequential(\n",
        "            [\n",
        "                layers.Dense(dense_dim, activation=\"relu\"),\n",
        "                layers.Dense(embed_dim),\n",
        "            ]\n",
        "        )\n",
        "        self.layernorm_1 = layers.LayerNormalization()\n",
        "        self.layernorm_2 = layers.LayerNormalization()\n",
        "        self.supports_masking = True\n",
        "\n",
        "    def call(self, inputs, mask=None):\n",
        "        if mask is not None:\n",
        "            padding_mask = np.cast(mask[:, None, :], dtype=\"int32\")\n",
        "        else:\n",
        "            padding_mask = None\n",
        "\n",
        "        attention_output = self.attention(\n",
        "            query=inputs, value=inputs, key=inputs, attention_mask=padding_mask\n",
        "        )\n",
        "        proj_input = self.layernorm_1(inputs + attention_output)\n",
        "        proj_output = self.dense_proj(proj_input)\n",
        "        return self.layernorm_2(proj_input + proj_output)\n",
        "\n",
        "    def get_config(self):\n",
        "        config = super().get_config()\n",
        "        config.update(\n",
        "            {\n",
        "                \"embed_dim\": self.embed_dim,\n",
        "                \"dense_dim\": self.dense_dim,\n",
        "                \"num_heads\": self.num_heads,\n",
        "            }\n",
        "        )\n",
        "        return config\n"
      ]
    },
    {
      "cell_type": "markdown",
      "metadata": {
        "id": "6y04qdRLdh0b"
      },
      "source": [
        "### PositionalEmbedding"
      ]
    },
    {
      "cell_type": "code",
      "execution_count": null,
      "metadata": {
        "id": "zM_9ejbXdmOS"
      },
      "outputs": [],
      "source": [
        "class PositionalEmbedding(layers.Layer):\n",
        "    def __init__(self, sequence_length, vocab_size, embed_dim, **kwargs):\n",
        "        super().__init__(**kwargs)\n",
        "        self.token_embeddings = layers.Embedding(\n",
        "            input_dim=vocab_size, output_dim=embed_dim\n",
        "        )\n",
        "        self.position_embeddings = layers.Embedding(\n",
        "            input_dim=sequence_length, output_dim=embed_dim\n",
        "        )\n",
        "        self.sequence_length = sequence_length\n",
        "        self.vocab_size = vocab_size\n",
        "        self.embed_dim = embed_dim\n",
        "\n",
        "    def call(self, inputs):\n",
        "        length = np.shape(inputs)[-1]\n",
        "        positions = np.arange(0, length)\n",
        "        embedded_tokens = self.token_embeddings(inputs)\n",
        "        embedded_positions = self.position_embeddings(positions)\n",
        "        return embedded_tokens + embedded_positions\n",
        "\n",
        "    def compute_mask(self, inputs, mask=None):\n",
        "        if mask is None:\n",
        "            return None\n",
        "        else:\n",
        "            return np.not_equal(inputs, 0)\n",
        "\n",
        "    def get_config(self):\n",
        "        config = super().get_config()\n",
        "        config.update(\n",
        "            {\n",
        "                \"sequence_length\": self.sequence_length,\n",
        "                \"vocab_size\": self.vocab_size,\n",
        "                \"embed_dim\": self.embed_dim,\n",
        "            }\n",
        "        )\n",
        "        return config"
      ]
    },
    {
      "cell_type": "markdown",
      "metadata": {
        "id": "NZ5pinaPcg3E"
      },
      "source": [
        "### Decoder"
      ]
    },
    {
      "cell_type": "code",
      "execution_count": null,
      "metadata": {
        "id": "EKCM9SanNTVS"
      },
      "outputs": [],
      "source": [
        "class TransformerDecoder(layers.Layer):\n",
        "    def __init__(self, embed_dim, latent_dim, num_heads, **kwargs):\n",
        "        super().__init__(**kwargs)\n",
        "        self.embed_dim = embed_dim\n",
        "        self.latent_dim = latent_dim\n",
        "        self.num_heads = num_heads\n",
        "        self.attention_1 = layers.MultiHeadAttention(\n",
        "            num_heads=num_heads, key_dim=embed_dim\n",
        "        )\n",
        "        self.attention_2 = layers.MultiHeadAttention(\n",
        "            num_heads=num_heads, key_dim=embed_dim\n",
        "        )\n",
        "        self.dense_proj = keras.Sequential(\n",
        "            [\n",
        "                layers.Dense(latent_dim, activation=\"relu\"),\n",
        "                layers.Dense(embed_dim),\n",
        "            ]\n",
        "        )\n",
        "        self.layernorm_1 = layers.LayerNormalization()\n",
        "        self.layernorm_2 = layers.LayerNormalization()\n",
        "        self.layernorm_3 = layers.LayerNormalization()\n",
        "        self.supports_masking = True\n",
        "\n",
        "    def call(self, inputs, encoder_outputs, mask=None, sequence_length=None):\n",
        "        causal_mask = self.get_causal_attention_mask(sequence_length)\n",
        "\n",
        "        if mask is not None:\n",
        "            padding_mask = np.cast(mask[:, None, :], dtype=\"int32\")\n",
        "            padding_mask = np.minimum(padding_mask, causal_mask)\n",
        "        else:\n",
        "            padding_mask = None\n",
        "        attention_output_1 = self.attention_1(\n",
        "            query=inputs, value=inputs, key=inputs, attention_mask=causal_mask\n",
        "        )\n",
        "        out_1 = self.layernorm_1(inputs + attention_output_1)\n",
        "\n",
        "        attention_output_2 = self.attention_2(\n",
        "            query=out_1,\n",
        "            value=encoder_outputs,\n",
        "            key=encoder_outputs,\n",
        "            attention_mask=padding_mask,\n",
        "        )\n",
        "        out_2 = self.layernorm_2(out_1 + attention_output_2)\n",
        "\n",
        "        proj_output = self.dense_proj(out_2)\n",
        "        return self.layernorm_3(out_2 + proj_output)\n",
        "\n",
        "    def get_causal_attention_mask(self, sequence_length):\n",
        "      i = np.arange(sequence_length)\n",
        "      i = np.expand_dims(i, -1)\n",
        "\n",
        "      j = np.arange(sequence_length)\n",
        "\n",
        "      mask = np.greater_equal(i, j).astype(np.int32)\n",
        "      mask = np.reshape(mask, (1, sequence_length, sequence_length))\n",
        "\n",
        "      mult = np.concatenate([\n",
        "          np.array([1]),\n",
        "          np.array([1, 1])\n",
        "      ], axis=0)\n",
        "\n",
        "      mask = np.tile(mask, mult)\n",
        "      return mask\n",
        "    def get_config(self):\n",
        "        config = super().get_config()\n",
        "        config.update(\n",
        "            {\n",
        "                \"embed_dim\": self.embed_dim,\n",
        "                \"latent_dim\": self.latent_dim,\n",
        "                \"num_heads\": self.num_heads,\n",
        "            }\n",
        "        )\n",
        "        return config"
      ]
    },
    {
      "cell_type": "markdown",
      "metadata": {
        "id": "En5dD7rg6X7B"
      },
      "source": [
        "## Build T5"
      ]
    },
    {
      "cell_type": "code",
      "execution_count": null,
      "metadata": {
        "id": "djq3GfhuRX6C"
      },
      "outputs": [],
      "source": [
        "\n",
        "encoder_inputs = keras.Input(shape=(None,), dtype=\"int64\", name=\"encoder_inputs\")\n",
        "x = PositionalEmbedding(sequence_length, vocab_size, embed_dim)(encoder_inputs)\n",
        "encoder_outputs = TransformerEncoder(embed_dim, ff_dim, num_heads)(x)\n",
        "encoder = keras.Model(encoder_inputs, encoder_outputs)\n",
        "\n",
        "decoder_inputs = keras.Input(shape=(None,), dtype=\"int64\", name=\"decoder_inputs\")\n",
        "encoded_seq_inputs = keras.Input(shape=(None, embed_dim), name=\"decoder_state_inputs\")\n",
        "x = PositionalEmbedding(sequence_length, vocab_size, embed_dim)(decoder_inputs)\n",
        "max_seq_len = 50\n",
        "\n",
        "x = TransformerDecoder(\n",
        "    embed_dim,\n",
        "    latent_dim,\n",
        "    num_heads\n",
        ")(\n",
        "    x,\n",
        "    encoded_seq_inputs,\n",
        "    sequence_length=max_seq_len\n",
        ")\n",
        "x = layers.Dropout(0.5)(x)\n",
        "decoder_outputs = layers.Dense(vocab_size, activation=\"softmax\")(x)\n",
        "decoder = keras.Model([decoder_inputs, encoded_seq_inputs], decoder_outputs)\n",
        "\n",
        "decoder_outputs = decoder([decoder_inputs, encoder_outputs])\n",
        "transformer_adam = keras.Model(\n",
        "    [encoder_inputs, decoder_inputs], decoder_outputs, name=\"transformer\"\n",
        ")\n",
        "transformer_rmsprop = keras.Model(\n",
        "    [encoder_inputs, decoder_inputs], decoder_outputs, name=\"transformer\"\n",
        ")"
      ]
    },
    {
      "cell_type": "markdown",
      "metadata": {
        "id": "mXBUXo1QWdsl"
      },
      "source": [
        "## LSTM"
      ]
    },
    {
      "cell_type": "code",
      "execution_count": null,
      "metadata": {
        "id": "UB7Vr0xQjVlc"
      },
      "outputs": [],
      "source": [
        "# Define input layers\n",
        "encoder_inputs = Input(shape=(None,), dtype='int32', name='encoder_inputs')\n",
        "decoder_inputs = Input(shape=(None,), dtype='int32', name='decoder_inputs')\n",
        "\n",
        "# Define embedding layers\n",
        "encoder_embedding = Embedding(input_dim=vocab_size, output_dim=embed_dim, name='encoder_embedding')(encoder_inputs)\n",
        "decoder_embedding = Embedding(input_dim=vocab_size, output_dim=embed_dim, name='decoder_embedding')(decoder_inputs)\n",
        "\n",
        "# Define the encoder LSTM\n",
        "encoder_lstm = LSTM(rnn_units, return_sequences=True, return_state=True, name='encoder_lstm')\n",
        "encoder_outputs, state_h, state_c = encoder_lstm(encoder_embedding)\n",
        "encoder_states = [state_h, state_c]\n",
        "\n",
        "# Define MultiHeadAttention layer\n",
        "multi_head_attention = MultiHeadAttention(num_heads, key_dim=embed_dim, name='multi_head_attention')\n",
        "attention_output = multi_head_attention(query=decoder_embedding, value=encoder_outputs, key=encoder_outputs)\n",
        "\n",
        "# Combine attention output with decoder inputs\n",
        "decoder_combined_inputs = keras.layers.Concatenate(axis=-1)([attention_output, decoder_embedding])\n",
        "\n",
        "# Define the decoder LSTM\n",
        "decoder_lstm = LSTM(rnn_units, return_sequences=True, return_state=True, name='decoder_lstm')\n",
        "decoder_lstm_outputs, _, _ = decoder_lstm(decoder_combined_inputs, initial_state=encoder_states)\n",
        "\n",
        "# Define output layer\n",
        "decoder_dense = Dense(vocab_size, activation='softmax', name='decoder_dense')\n",
        "decoder_outputs = decoder_dense(decoder_lstm_outputs)\n",
        "\n",
        "# Define the Seq2Seq model LSTM\n",
        "lstm_model_adam = Model([encoder_inputs, decoder_inputs], decoder_outputs)\n",
        "lstm_model_rmsprop = Model([encoder_inputs, decoder_inputs], decoder_outputs)\n",
        "\n"
      ]
    },
    {
      "cell_type": "markdown",
      "metadata": {
        "id": "Xn1fvCjHXGD9"
      },
      "source": [
        "## GRU"
      ]
    },
    {
      "cell_type": "code",
      "execution_count": null,
      "metadata": {
        "id": "b28UaUbKk9B5"
      },
      "outputs": [],
      "source": [
        "# Define input layers\n",
        "encoder_inputs = Input(shape=(None,), dtype='int32', name='encoder_inputs')\n",
        "decoder_inputs = Input(shape=(None,), dtype='int32', name='decoder_inputs')\n",
        "\n",
        "# Define embedding layers\n",
        "encoder_embedding = Embedding(input_dim=vocab_size, output_dim=embed_dim, name='encoder_embedding')(encoder_inputs)\n",
        "decoder_embedding = Embedding(input_dim=vocab_size, output_dim=embed_dim, name='decoder_embedding')(decoder_inputs)\n",
        "\n",
        "# Define the encoder GRU\n",
        "encoder_gru = GRU(rnn_units, return_sequences=True, return_state=True, name='encoder_gru')\n",
        "encoder_outputs, encoder_states = encoder_gru(encoder_embedding)\n",
        "\n",
        "# Define MultiHeadAttention layer\n",
        "multi_head_attention = MultiHeadAttention(num_heads, key_dim=embed_dim, name='multi_head_attention')\n",
        "attention_output = multi_head_attention(query=decoder_embedding, value=encoder_outputs, key=encoder_outputs)\n",
        "\n",
        "# Combine attention output with decoder inputs\n",
        "decoder_combined_inputs = keras.layers.Concatenate(axis=-1)([attention_output, decoder_embedding])\n",
        "\n",
        "# Define the decoder GRU\n",
        "decoder_gru = GRU(rnn_units, return_sequences=True, return_state=True, name='decoder_gru')\n",
        "decoder_gru_outputs, _ = decoder_gru(decoder_combined_inputs, initial_state=encoder_states)\n",
        "\n",
        "# Define output layer\n",
        "decoder_dense = Dense(vocab_size, activation='softmax', name='decoder_dense')\n",
        "decoder_outputs = decoder_dense(decoder_gru_outputs)\n",
        "\n",
        "# Define the Seq2Seq model GRU\n",
        "gru_model_adam = Model([encoder_inputs, decoder_inputs], decoder_outputs)\n",
        "gru_model_rmsprop = Model([encoder_inputs, decoder_inputs], decoder_outputs)"
      ]
    },
    {
      "cell_type": "markdown",
      "metadata": {
        "id": "Bxj2w8_gRfg5"
      },
      "source": [
        "# Compilation"
      ]
    },
    {
      "cell_type": "code",
      "execution_count": null,
      "metadata": {
        "id": "hOQ1IAJzJQD7"
      },
      "outputs": [],
      "source": [
        "# Adam optimizer\n",
        "optimizer_adam = Adam(learning_rate=0.001)\n",
        "\n",
        "# RMSprop optimizer\n",
        "optimizer_rmsprop = RMSprop(learning_rate=0.001)\n",
        "\n",
        "# Sparse Categorical Crossentropy\n",
        "loss_fn = SparseCategoricalCrossentropy(from_logits=False)"
      ]
    },
    {
      "cell_type": "markdown",
      "metadata": {
        "id": "HrHOuOai73tj"
      },
      "source": [
        "## Rmsprop"
      ]
    },
    {
      "cell_type": "markdown",
      "metadata": {
        "id": "tNBFGUcEEGd-"
      },
      "source": [
        "### LSTM"
      ]
    },
    {
      "cell_type": "code",
      "execution_count": null,
      "metadata": {
        "colab": {
          "base_uri": "https://localhost:8080/"
        },
        "id": "9f5W8v5URiOD",
        "outputId": "23498f35-6e67-4253-daeb-486f977ca376"
      },
      "outputs": [
        {
          "name": "stdout",
          "output_type": "stream",
          "text": [
            "Epoch 1/15\n",
            "2029/2029 [==============================] - 362s 176ms/step - loss: 2.9977 - accuracy: 0.5903 - val_loss: 2.7687 - val_accuracy: 0.6094\n",
            "Epoch 2/15\n",
            "2029/2029 [==============================] - 354s 175ms/step - loss: 2.7031 - accuracy: 0.6161 - val_loss: 2.6214 - val_accuracy: 0.6238\n",
            "Epoch 3/15\n",
            "2029/2029 [==============================] - 354s 175ms/step - loss: 2.5888 - accuracy: 0.6258 - val_loss: 2.5420 - val_accuracy: 0.6297\n",
            "Epoch 4/15\n",
            "2029/2029 [==============================] - 354s 175ms/step - loss: 2.5118 - accuracy: 0.6320 - val_loss: 2.4730 - val_accuracy: 0.6366\n",
            "Epoch 5/15\n",
            "2029/2029 [==============================] - 355s 175ms/step - loss: 2.4435 - accuracy: 0.6382 - val_loss: 2.4182 - val_accuracy: 0.6413\n",
            "Epoch 6/15\n",
            "2029/2029 [==============================] - 355s 175ms/step - loss: 2.3825 - accuracy: 0.6436 - val_loss: 2.3654 - val_accuracy: 0.6460\n",
            "Epoch 7/15\n",
            "2029/2029 [==============================] - 365s 180ms/step - loss: 2.3247 - accuracy: 0.6484 - val_loss: 2.3161 - val_accuracy: 0.6502\n",
            "Epoch 8/15\n",
            "2029/2029 [==============================] - 356s 175ms/step - loss: 2.2695 - accuracy: 0.6526 - val_loss: 2.2721 - val_accuracy: 0.6535\n",
            "Epoch 9/15\n",
            " 910/2029 [============>.................] - ETA: 2:58 - loss: 2.2310 - accuracy: 0.6552"
          ]
        }
      ],
      "source": [
        "# Early stopping callback to stop training after 2 epochs of no improvement in validation accuracy\n",
        "early_stopping = EarlyStopping(monitor='val_accuracy', patience=2, verbose=1, mode='max', restore_best_weights=True)\n",
        "# Reduce learning rate callback to reduce the learning rate when the validation accuracy plateaus\n",
        "reduce_lr = ReduceLROnPlateau(monitor='val_accuracy', factor=0.2, patience=1, verbose=1, mode='max', min_lr=0.00001)\n",
        "# Add these callbacks to your training\n",
        "callbacks = [early_stopping, reduce_lr]\n",
        "\n",
        "\n",
        "# Compile the model\n",
        "lstm_model_rmsprop.compile(optimizer='rmsprop', loss='sparse_categorical_crossentropy', metrics=['accuracy'])\n",
        "\n",
        "# # Compile the model\n",
        "# plot_model(lstm_model_rmsprop, to_file='/content/drive/MyDrive/models/Rmsprop/LSTM/model_lstm_plot_2.png', show_shapes=True, show_layer_names=True)\n",
        "\n",
        "# lstm_model_rmsprop.summary()\n",
        "lstm_history = lstm_model_rmsprop.fit(\n",
        "    train_dataset,\n",
        "    batch_size=batch_size,\n",
        "    epochs=epochs,\n",
        "    validation_data=validation_dataset\n",
        "    # callbacks=callbacks\n",
        ")\n",
        "lstm_model_rmsprop.save('/content/drive/MyDrive/models/Rmsprop/LSTM/model_2_filtred.h5')\n",
        "\n",
        "with open('/content/drive/MyDrive/models/Rmsprop/LSTM/lstm_history_2_filtred.pkl', 'wb') as history_file:\n",
        "    pickle.dump(lstm_history.history, history_file)\n",
        "# Sauvegarder l'optimizer séparément\n",
        "with open('/content/drive/MyDrive/models/Rmsprop/LSTM/lstm_optimizer_2_filtred.pkl', 'wb') as optimizer_file:\n",
        "    pickle.dump(optimizer_rmsprop.get_config(), optimizer_file)"
      ]
    },
    {
      "cell_type": "markdown",
      "metadata": {
        "id": "BcMoBfipEIyf"
      },
      "source": [
        "### GRU"
      ]
    },
    {
      "cell_type": "code",
      "execution_count": null,
      "metadata": {
        "id": "CmeM1dDiLLPI"
      },
      "outputs": [],
      "source": [
        "# Early stopping callback to stop training after 2 epochs of no improvement in validation accuracy\n",
        "early_stopping = EarlyStopping(monitor='val_accuracy', patience=2, verbose=1, mode='max', restore_best_weights=True)\n",
        "# Reduce learning rate callback to reduce the learning rate when the validation accuracy plateaus\n",
        "reduce_lr = ReduceLROnPlateau(monitor='val_accuracy', factor=0.2, patience=1, verbose=1, mode='max', min_lr=0.00001)\n",
        "# Add these callbacks to your training\n",
        "callbacks = [early_stopping, reduce_lr]\n",
        "# Compile the model\n",
        "gru_model_rmsprop.compile(optimizer='rmsprop', loss='sparse_categorical_crossentropy', metrics=['accuracy'])\n",
        "\n",
        "# # Compile the model\n",
        "# plot_model(gru_model_rmsprop, to_file='/content/drive/MyDrive/models/Rmsprop/GRU/model_gru_plot_2.png', show_shapes=True, show_layer_names=True)\n",
        "\n",
        "gru_model_rmsprop.summary()\n",
        "gru_history = gru_model_rmsprop.fit(\n",
        "    train_dataset,\n",
        "    batch_size=batch_size,\n",
        "    epochs=epochs,\n",
        "    validation_data=validation_dataset,\n",
        "    callbacks=callbacks\n",
        ")\n",
        "gru_model_rmsprop.save('/content/drive/MyDrive/models/Rmsprop/GRU/model_2_filtred.h5')\n",
        "\n",
        "with open('/content/drive/MyDrive/models/Rmsprop/GRU/gru_history_2_filtred.pkl', 'wb') as history_file:\n",
        "    pickle.dump(gru_history.history, history_file)\n",
        "# Sauvegarder l'optimizer séparément\n",
        "with open('/content/drive/MyDrive/models/Rmsprop/GRU/gru_optimizer_2_filtred.pkl', 'wb') as optimizer_file:\n",
        "    pickle.dump(optimizer_rmsprop.get_config(), optimizer_file)"
      ]
    },
    {
      "cell_type": "markdown",
      "metadata": {
        "id": "c5CgPY0RELNZ"
      },
      "source": [
        "### T5"
      ]
    },
    {
      "cell_type": "code",
      "execution_count": null,
      "metadata": {
        "id": "Qva8St5PLI9N"
      },
      "outputs": [],
      "source": [
        "# Early stopping callback to stop training after 2 epochs of no improvement in validation accuracy\n",
        "early_stopping = EarlyStopping(monitor='val_accuracy', patience=2, verbose=1, mode='max', restore_best_weights=True)\n",
        "# Reduce learning rate callback to reduce the learning rate when the validation accuracy plateaus\n",
        "reduce_lr = ReduceLROnPlateau(monitor='val_accuracy', factor=0.2, patience=3, verbose=1, mode='max', min_lr=0.00001)\n",
        "# Add these callbacks to your training\n",
        "callbacks = [early_stopping, reduce_lr]\n",
        "\n",
        "# Construire le modèle Transformer\n",
        "transformer_rmsprop.compile(optimizer='rmsprop', loss='sparse_categorical_crossentropy', metrics=['accuracy'])\n",
        "\n",
        "# transformer.summary()\n",
        "transformer_history = transformer_rmsprop.fit(\n",
        "    train_dataset,\n",
        "    batch_size=batch_size,\n",
        "    epochs=epochs,\n",
        "    validation_data=validation_dataset,\n",
        "    callbacks=callbacks\n",
        ")\n",
        "transformer_rmsprop.save('/content/drive/MyDrive/models/Rmsprop/T5/model_2_filtred.h5')\n",
        "\n",
        "with open('/content/drive/MyDrive/models/Rmsprop/T5/transformer_history_2_filtred.pkl', 'wb') as history_file:\n",
        "    pickle.dump(transformer_history.history, history_file)\n",
        "# Sauvegarder l'optimizer séparément\n",
        "with open('/content/drive/MyDrive/models/Rmsprop/T5/transformer_optimizer_2_filtred.pkl', 'wb') as optimizer_file:\n",
        "    pickle.dump(optimizer_rmsprop.get_config(), optimizer_file)"
      ]
    },
    {
      "cell_type": "markdown",
      "metadata": {
        "id": "54DuwbYG66UL"
      },
      "source": [
        "## Adam"
      ]
    },
    {
      "cell_type": "markdown",
      "metadata": {
        "id": "eqbFGt7Q8ekF"
      },
      "source": [
        "### LSTM"
      ]
    },
    {
      "cell_type": "code",
      "execution_count": null,
      "metadata": {
        "id": "JO-w5ixO8gra"
      },
      "outputs": [],
      "source": [
        "# Early stopping callback to stop training after 2 epochs of no improvement in validation accuracy\n",
        "early_stopping = EarlyStopping(monitor='val_accuracy', patience=2, verbose=1, mode='max', restore_best_weights=True)\n",
        "# Reduce learning rate callback to reduce the learning rate when the validation accuracy plateaus\n",
        "reduce_lr = ReduceLROnPlateau(monitor='val_accuracy', factor=0.2, patience=3, verbose=1, mode='max', min_lr=0.00001)\n",
        "# Add these callbacks to your training\n",
        "callbacks = [early_stopping, reduce_lr]\n",
        "\n",
        "# Construire le modèle Transformer\n",
        "lstm_model_adam.compile(\n",
        "    \"adam\", loss=\"sparse_categorical_crossentropy\", metrics=[\"accuracy\"]\n",
        ")\n",
        "\n",
        "# transformer.summary()\n",
        "lstm_history = lstm_model_adam.fit(\n",
        "    train_dataset,\n",
        "    batch_size=batch_size,\n",
        "    epochs=epochs,\n",
        "    validation_data=validation_dataset,\n",
        "    callbacks=callbacks\n",
        ")\n",
        "lstm_model_adam.save('/content/drive/MyDrive/models/Adam/LSTM/model_2_filtred.h5')\n",
        "\n",
        "with open('/content/drive/MyDrive/models/Adam/LSTM/lstm_history_2_filtred.pkl', 'wb') as history_file:\n",
        "    pickle.dump(lstm_history.history, history_file)\n",
        "# Sauvegarder l'optimizer séparément\n",
        "with open('/content/drive/MyDrive/models/Adam/LSTM/lstm_optimizer_2_filtred.pkl', 'wb') as optimizer_file:\n",
        "    pickle.dump(optimizer_adam.get_config(), optimizer_file)"
      ]
    },
    {
      "cell_type": "markdown",
      "metadata": {
        "id": "yfRAwMgn8h6g"
      },
      "source": [
        "### GRU"
      ]
    },
    {
      "cell_type": "code",
      "execution_count": null,
      "metadata": {
        "colab": {
          "base_uri": "https://localhost:8080/"
        },
        "id": "ALLSQTh08kiZ",
        "outputId": "d9974f81-674b-4470-bd10-d9b94720b6a4"
      },
      "outputs": [
        {
          "name": "stdout",
          "output_type": "stream",
          "text": [
            "Epoch 1/15\n",
            "2029/2029 [==============================] - 355s 171ms/step - loss: 3.5210 - accuracy: 0.5569 - val_loss: 3.0120 - val_accuracy: 0.5823\n",
            "Epoch 2/15\n",
            "2029/2029 [==============================] - 338s 167ms/step - loss: 2.9864 - accuracy: 0.5849 - val_loss: 2.9574 - val_accuracy: 0.5876\n",
            "Epoch 3/15\n",
            "2029/2029 [==============================] - 336s 166ms/step - loss: 2.9968 - accuracy: 0.5851 - val_loss: 2.9787 - val_accuracy: 0.5856\n",
            "Epoch 4/15\n",
            "2029/2029 [==============================] - 334s 165ms/step - loss: 3.0031 - accuracy: 0.5853 - val_loss: 3.0323 - val_accuracy: 0.5819\n",
            "Epoch 5/15\n",
            "2029/2029 [==============================] - 333s 164ms/step - loss: 3.1301 - accuracy: 0.5761 - val_loss: 3.0967 - val_accuracy: 0.5782\n",
            "Epoch 6/15\n",
            "2029/2029 [==============================] - 332s 164ms/step - loss: 3.1200 - accuracy: 0.5763 - val_loss: 3.0861 - val_accuracy: 0.5801\n",
            "Epoch 7/15\n",
            "2029/2029 [==============================] - 331s 163ms/step - loss: 3.0802 - accuracy: 0.5794 - val_loss: 3.0349 - val_accuracy: 0.5829\n",
            "Epoch 8/15\n",
            "2029/2029 [==============================] - 330s 163ms/step - loss: 3.0601 - accuracy: 0.5805 - val_loss: 3.0419 - val_accuracy: 0.5814\n",
            "Epoch 9/15\n",
            "2029/2029 [==============================] - 330s 163ms/step - loss: 3.0644 - accuracy: 0.5797 - val_loss: 3.0393 - val_accuracy: 0.5812\n",
            "Epoch 10/15\n",
            "2029/2029 [==============================] - 330s 163ms/step - loss: 3.0873 - accuracy: 0.5796 - val_loss: 3.0827 - val_accuracy: 0.5799\n",
            "Epoch 11/15\n",
            "2029/2029 [==============================] - 341s 168ms/step - loss: 3.0668 - accuracy: 0.5809 - val_loss: 3.0359 - val_accuracy: 0.5825\n",
            "Epoch 12/15\n",
            "2029/2029 [==============================] - 330s 163ms/step - loss: 3.0188 - accuracy: 0.5840 - val_loss: 3.0053 - val_accuracy: 0.5859\n",
            "Epoch 13/15\n",
            "2029/2029 [==============================] - 329s 162ms/step - loss: 3.0454 - accuracy: 0.5815 - val_loss: 3.1879 - val_accuracy: 0.5670\n",
            "Epoch 14/15\n",
            "2029/2029 [==============================] - 329s 162ms/step - loss: 3.2630 - accuracy: 0.5639 - val_loss: 3.3040 - val_accuracy: 0.5646\n",
            "Epoch 15/15\n",
            "2029/2029 [==============================] - 329s 162ms/step - loss: 3.3006 - accuracy: 0.5649 - val_loss: 3.1796 - val_accuracy: 0.5730\n"
          ]
        },
        {
          "name": "stderr",
          "output_type": "stream",
          "text": [
            "/usr/local/lib/python3.10/dist-packages/keras/src/engine/training.py:3103: UserWarning: You are saving your model as an HDF5 file via `model.save()`. This file format is considered legacy. We recommend using instead the native Keras format, e.g. `model.save('my_model.keras')`.\n",
            "  saving_api.save_model(\n"
          ]
        }
      ],
      "source": [
        "# Early stopping callback to stop training after 2 epochs of no improvement in validation accuracy\n",
        "early_stopping = EarlyStopping(monitor='val_accuracy', patience=2, verbose=1, mode='max', restore_best_weights=True)\n",
        "# Reduce learning rate callback to reduce the learning rate when the validation accuracy plateaus\n",
        "reduce_lr = ReduceLROnPlateau(monitor='val_accuracy', factor=0.2, patience=3, verbose=1, mode='max', min_lr=0.00001)\n",
        "# Add these callbacks to your training\n",
        "callbacks = [early_stopping, reduce_lr]\n",
        "\n",
        "# Construire le modèle Transformer\n",
        "gru_model_adam.compile(\n",
        "    \"adam\", loss=\"sparse_categorical_crossentropy\", metrics=[\"accuracy\"]\n",
        ")\n",
        "\n",
        "# transformer.summary()\n",
        "gru_history = gru_model_adam.fit(\n",
        "    train_dataset,\n",
        "    batch_size=batch_size,\n",
        "    epochs=epochs,\n",
        "    validation_data=validation_dataset\n",
        "    # callbacks=callbacks\n",
        ")\n",
        "gru_model_adam.save('/content/drive/MyDrive/models/Adam/GRU/model_2_filtred.h5')\n",
        "\n",
        "with open('/content/drive/MyDrive/models/Adam/GRU/gru_history_2_filtred.pkl', 'wb') as history_file:\n",
        "    pickle.dump(gru_history.history, history_file)\n",
        "# Sauvegarder l'optimizer séparément\n",
        "with open('/content/drive/MyDrive/models/Adam/GRU/gru_optimizer_2_filtred.pkl', 'wb') as optimizer_file:\n",
        "    pickle.dump(optimizer_adam.get_config(), optimizer_file)"
      ]
    },
    {
      "cell_type": "markdown",
      "metadata": {
        "id": "BGI3O7KO6-UR"
      },
      "source": [
        "### T5"
      ]
    },
    {
      "cell_type": "code",
      "execution_count": null,
      "metadata": {
        "colab": {
          "background_save": true
        },
        "id": "TuQKJ3gs7HCR",
        "outputId": "593b4a8e-103f-4f42-c516-9c50fad6354b"
      },
      "outputs": [
        {
          "name": "stdout",
          "output_type": "stream",
          "text": [
            "Epoch 1/15\n",
            "2029/2029 [==============================] - 658s 318ms/step - loss: 2.6397 - accuracy: 0.6211 - val_loss: 2.4574 - val_accuracy: 0.6336\n",
            "Epoch 2/15\n",
            "2029/2029 [==============================] - 644s 317ms/step - loss: 2.4081 - accuracy: 0.6396 - val_loss: 2.2937 - val_accuracy: 0.6475\n",
            "Epoch 3/15\n",
            "2029/2029 [==============================] - 676s 333ms/step - loss: 2.2584 - accuracy: 0.6520 - val_loss: 2.1694 - val_accuracy: 0.6591\n",
            "Epoch 4/15\n",
            "2029/2029 [==============================] - 644s 318ms/step - loss: 2.1182 - accuracy: 0.6644 - val_loss: 2.0552 - val_accuracy: 0.6706\n",
            "Epoch 5/15\n",
            "2029/2029 [==============================] - 645s 318ms/step - loss: 2.0001 - accuracy: 0.6758 - val_loss: 1.9733 - val_accuracy: 0.6795\n",
            "Epoch 6/15\n",
            "2029/2029 [==============================] - 645s 318ms/step - loss: 1.8947 - accuracy: 0.6871 - val_loss: 1.8996 - val_accuracy: 0.6893\n",
            "Epoch 7/15\n",
            "2029/2029 [==============================] - 645s 318ms/step - loss: 1.7980 - accuracy: 0.6986 - val_loss: 1.8533 - val_accuracy: 0.6960\n",
            "Epoch 8/15\n",
            "2029/2029 [==============================] - 677s 334ms/step - loss: 1.7098 - accuracy: 0.7094 - val_loss: 1.8073 - val_accuracy: 0.7028\n",
            "Epoch 9/15\n",
            "2029/2029 [==============================] - 648s 319ms/step - loss: 1.6330 - accuracy: 0.7189 - val_loss: 1.7807 - val_accuracy: 0.7059\n",
            "Epoch 10/15\n",
            "2029/2029 [==============================] - 645s 318ms/step - loss: 1.5667 - accuracy: 0.7272 - val_loss: 1.7557 - val_accuracy: 0.7097\n",
            "Epoch 11/15\n",
            "2029/2029 [==============================] - 645s 318ms/step - loss: 1.5043 - accuracy: 0.7353 - val_loss: 1.7426 - val_accuracy: 0.7133\n",
            "Epoch 12/15\n",
            "2029/2029 [==============================] - 645s 318ms/step - loss: 1.4501 - accuracy: 0.7423 - val_loss: 1.7367 - val_accuracy: 0.7158\n",
            "Epoch 13/15\n",
            "2029/2029 [==============================] - 645s 318ms/step - loss: 1.4017 - accuracy: 0.7486 - val_loss: 1.7354 - val_accuracy: 0.7166\n",
            "Epoch 14/15\n",
            "1705/2029 [========================>.....] - ETA: 1:35 - loss: 1.3618 - accuracy: 0.7539"
          ]
        }
      ],
      "source": [
        "# Early stopping callback to stop training after 2 epochs of no improvement in validation accuracy\n",
        "early_stopping = EarlyStopping(monitor='val_accuracy', patience=2, verbose=1, mode='max', restore_best_weights=True)\n",
        "# Reduce learning rate callback to reduce the learning rate when the validation accuracy plateaus\n",
        "reduce_lr = ReduceLROnPlateau(monitor='val_accuracy', factor=0.2, patience=3, verbose=1, mode='max', min_lr=0.00001)\n",
        "# Add these callbacks to your training\n",
        "callbacks = [early_stopping, reduce_lr]\n",
        "\n",
        "# Construire le modèle Transformer\n",
        "transformer_adam.compile(\n",
        "    \"adam\", loss=\"sparse_categorical_crossentropy\", metrics=[\"accuracy\"]\n",
        ")\n",
        "\n",
        "# transformer.summary()\n",
        "transformer_history = transformer_adam.fit(\n",
        "    train_dataset,\n",
        "    batch_size=batch_size,\n",
        "    epochs=epochs,\n",
        "    validation_data=validation_dataset,\n",
        "    callbacks=callbacks\n",
        ")\n",
        "transformer_adam.save('/content/drive/MyDrive/models/Adam/T5/model_2_filtred.h5')\n",
        "\n",
        "with open('/content/drive/MyDrive/models/Adam/T5/transformer_history_2_filtred.pkl', 'wb') as history_file:\n",
        "    pickle.dump(transformer_history.history, history_file)\n",
        "# Sauvegarder l'optimizer séparément\n",
        "with open('/content/drive/MyDrive/models/Adam/T5/transformer_optimizer_2_filtred.pkl', 'wb') as optimizer_file:\n",
        "    pickle.dump(optimizer_adam.get_config(), optimizer_file)"
      ]
    },
    {
      "cell_type": "markdown",
      "metadata": {
        "id": "WmvDwF4lTk-0"
      },
      "source": [
        "# Traduction"
      ]
    },
    {
      "cell_type": "code",
      "execution_count": null,
      "metadata": {
        "id": "ilqqEs3PmjcQ"
      },
      "outputs": [],
      "source": [
        "# Register the custom layer\n",
        "get_custom_objects().update({\"PositionalEmbedding\": PositionalEmbedding})\n",
        "get_custom_objects().update({\"TransformerEncoder\": TransformerEncoder})\n",
        "get_custom_objects().update({\"TransformerDecoder\": TransformerDecoder})"
      ]
    },
    {
      "cell_type": "markdown",
      "metadata": {
        "id": "RLvPP-mDcZj-"
      },
      "source": [
        "## LSTM"
      ]
    },
    {
      "cell_type": "code",
      "execution_count": null,
      "metadata": {
        "id": "jEutXY53cj0A"
      },
      "outputs": [],
      "source": [
        "# model avec attention\n",
        "# lstm_model_path = '/content/drive/MyDrive/models/Rmsprop/LSTM/model_2.h5'\n",
        "# model avec attention + dataset filtrer\n",
        "# lstm_model_path = '/content/drive/MyDrive/models/Rmsprop/LSTM/model_2_filtred.h5'\n",
        "\n",
        "# lstm_model = load_model(lstm_model_path)\n"
      ]
    },
    {
      "cell_type": "code",
      "execution_count": null,
      "metadata": {
        "id": "Fzkgx6pScv8x"
      },
      "outputs": [],
      "source": [
        "\n",
        "en_vocab = en_vectorization.get_vocabulary()\n",
        "en_index_lookup = dict(zip(range(len(en_vocab)), en_vocab))\n",
        "\n",
        "def translate_sentence(input_sentence, seq2seq_model):\n",
        "    tokenized_input_sentence = fr_vectorization([input_sentence])\n",
        "    decoded_sentence = \"[start]\"\n",
        "\n",
        "    for i in range(sequence_length):\n",
        "        tokenized_target_sentence = en_vectorization([decoded_sentence])[:, :-1]\n",
        "        predictions = seq2seq_model([tokenized_input_sentence, tokenized_target_sentence])\n",
        "\n",
        "        # Use NumPy to find the argmax and convert to a concrete value\n",
        "        sampled_token_index = np.argmax(predictions[0, i, :])\n",
        "        sampled_token_index = int(sampled_token_index)\n",
        "        sampled_token = en_index_lookup.get(sampled_token_index, \"[end]\")  # Handle unknown tokens\n",
        "\n",
        "        if sampled_token == \"[end]\":\n",
        "            break\n",
        "        decoded_sentence += \" \" + sampled_token\n",
        "\n",
        "    # Remove padding and trim the result\n",
        "    decoded_sentence = decoded_sentence.replace(\"[start]\", \"\").replace(\"[end]\", \"\").strip()\n",
        "\n",
        "    return decoded_sentence\n",
        "\n",
        "# Translate and store sentences\n",
        "# translated_sentences = []\n",
        "# test_fr_texts = test_data['fr_clean'].tolist()[:1000]\n",
        "# # for _ in range(30):\n",
        "# #     input_sentence = random.choice(test_fr_texts)\n",
        "# #     translated_sentence = translate_sentence(input_sentence,lstm_model)\n",
        "# #     print(\"Input Sentence:\", input_sentence)\n",
        "# #     print(\"Translated Sentence:\", translated_sentence)\n",
        "# for input_sentence in tqdm(test_fr_texts, desc=\"Translating sentences\"):\n",
        "#     translated_sentence = translate_sentence(input_sentence, lstm_model)\n",
        "#     translated_sentences.append(translated_sentence)\n",
        "    # print(\"Input Sentence:\", input_sentence)\n",
        "    # print(\"Translated Sentence:\", translated_sentence)\n"
      ]
    },
    {
      "cell_type": "markdown",
      "metadata": {
        "id": "2lEyO9EHsfb1"
      },
      "source": [
        "## Transformer"
      ]
    },
    {
      "cell_type": "code",
      "execution_count": null,
      "metadata": {
        "id": "vWnbIpSZ64rr"
      },
      "outputs": [],
      "source": [
        "# # model avec attention\n",
        "# transformer_model_path = '/content/drive/MyDrive/models/Rmsprop/T5/model_2.h5'\n",
        "# # # model avec attention + dataset filtrer\n",
        "# # # transformer_model_path = '/content/drive/MyDrive/models/Rmsprop/T5/model_2_filtred.h5'\n",
        "# transformer = load_model(transformer_model_path)"
      ]
    },
    {
      "cell_type": "code",
      "execution_count": null,
      "metadata": {
        "id": "tytHb92mTrQf"
      },
      "outputs": [],
      "source": [
        "\n",
        "en_vocab = en_vectorization.get_vocabulary()\n",
        "en_index_lookup = dict(zip(range(len(en_vocab)), en_vocab))\n",
        "\n",
        "def decode_sequence(input_sentence,transformer):\n",
        "    tokenized_input_sentence = fr_vectorization([input_sentence])\n",
        "    decoded_sentence = \"[start]\"\n",
        "\n",
        "    for i in range(sequence_length):\n",
        "        tokenized_target_sentence = en_vectorization([decoded_sentence])[:, :-1]\n",
        "        predictions = transformer([tokenized_input_sentence, tokenized_target_sentence])\n",
        "\n",
        "        # Use NumPy to find the argmax and convert to a concrete value\n",
        "        sampled_token_index = np.argmax(predictions[0, i, :])\n",
        "        sampled_token_index = int(sampled_token_index)\n",
        "        sampled_token = en_index_lookup[sampled_token_index]\n",
        "\n",
        "        if sampled_token == \"[end]\":\n",
        "            break\n",
        "        decoded_sentence += \" \" + sampled_token\n",
        "\n",
        "\n",
        "    # Remove padding and trim the result\n",
        "    decoded_sentence = decoded_sentence.replace(\"[start]\", \"\").replace(\"[end]\", \"\").strip()\n",
        "\n",
        "    return decoded_sentence\n",
        "# Translate and store sentences\n",
        "# translated_sentences = []\n",
        "# test_fr_texts = test_data['fr_clean'].tolist()\n",
        "# for _ in range(20):\n",
        "#     input_sentence = random.choice(test_fr_texts)\n",
        "#     translated = decode_sequence(input_sentence,transformer)\n",
        "#     print(f\"Input: {input_sentence}\")\n",
        "#     print(f\"Translated: {translated}\\n\")\n",
        "# for input_sentence in tqdm(test_fr_texts, desc=\"Translating sentences\"):\n",
        "#     translated_sentence = decode_sequence(input_sentence)\n",
        "#     translated_sentences.append(translated_sentence)"
      ]
    },
    {
      "cell_type": "markdown",
      "metadata": {
        "id": "cAzjVdPQsjW0"
      },
      "source": [
        "## GRU"
      ]
    },
    {
      "cell_type": "code",
      "execution_count": null,
      "metadata": {
        "id": "yHOub8FT7wkz"
      },
      "outputs": [],
      "source": [
        "# model avec attention\n",
        "# gru_model_path = '/content/drive/MyDrive/models/Rmsprop/GRU/model_2.h5'\n",
        "# model avec attention + dataset filtrer\n",
        "# gru_model_path = '/content/drive/MyDrive/models/Rmsprop/GRU/model_2_filtred.h5'\n",
        "# model avec attention\n",
        "# gru_model_path = '/content/drive/MyDrive/models/Adam/GRU/model_2.h5'\n",
        "# # model avec attention + dataset filtrer\n",
        "gru_model_path = '/content/drive/MyDrive/models/Adam/GRU/model_2_filtred.h5'\n",
        "gru_model = load_model(gru_model_path)\n"
      ]
    },
    {
      "cell_type": "code",
      "execution_count": null,
      "metadata": {
        "colab": {
          "base_uri": "https://localhost:8080/",
          "height": 872
        },
        "id": "tuo7HgEZSg6G",
        "outputId": "b3a8ca1d-0e63-433c-ce48-9eb77316916e"
      },
      "outputs": [
        {
          "name": "stdout",
          "output_type": "stream",
          "text": [
            "Input Sentence: certains pensent qu'il n'a eu que ce qu'il meritait pour avoir continue de s'exprimer ouvertement contre l'article 112\n",
            "Translated Sentence: \n",
            "Input Sentence: lee kil joon a fait un choix difficile dans sa vie\n",
            "Translated Sentence: \n",
            "Input Sentence: cet atelier est une tentative d'impulser un sang neuf dans l'art egyptien de la bande dessinee en attirant les gens interesses et doues pour les aider a acquerir les outils pour caracteriser les personnages qu'ils mettent en scene\n",
            "Translated Sentence: \n",
            "Input Sentence: sound of dissent a suggere que la voie la plus prudente pour le gouvernement serait de rencontrer la direction maoiste a la table de negociation et d'ouvrir le dialogue\n",
            "Translated Sentence: \n",
            "Input Sentence: 6 dites que vous jouez au golf meme si ce n'est pas le cas\n",
            "Translated Sentence: \n",
            "Input Sentence: le magazine britannique a fait une tres bonne evaluation de la situation au tadjikistan\n",
            "Translated Sentence: \n",
            "Input Sentence: aliahkhaled les agents du niss se felicitent mutuellement des arrestations  de l'arrivee de nouvelles detenues a leur qg\n",
            "Translated Sentence: \n",
            "Input Sentence: meme quand il y a une opportunite nous ne pouvons rien faire parce que notre capital est bloque dans l'investissement\n",
            "Translated Sentence: \n",
            "Input Sentence: si les parents veulent preserver la  chastete  de leur fille en utilisant cette methode c'est leur facon de les proteger et c'est a eux de decider de ce qui est bon pour elles \n",
            "Translated Sentence: \n",
            "Input Sentence: bien sur il existe une amere ironie dans les articles qui decrivent la complicite des civils et des moines avec les forces de securite durant les attaques de la semaine derniere\n",
            "Translated Sentence: \n",
            "Input Sentence: la video suivante contient l'opinion de watamerigonzu sur les penalites actuelles pour les actes de delinquance \n",
            "Translated Sentence: \n",
            "Input Sentence: igor setchine est un allie discret de vladimir poutine qui occupe actuellement le fauteuil de vicepremier ministre de russie et c'est l'une des figures les moins mediatisees de la politique russe\n",
            "Translated Sentence: \n"
          ]
        },
        {
          "ename": "KeyboardInterrupt",
          "evalue": "",
          "output_type": "error",
          "traceback": [
            "\u001b[0;31m---------------------------------------------------------------------------\u001b[0m",
            "\u001b[0;31mKeyboardInterrupt\u001b[0m                         Traceback (most recent call last)",
            "\u001b[0;32m<ipython-input-49-95db67d1aed9>\u001b[0m in \u001b[0;36m<cell line: 29>\u001b[0;34m()\u001b[0m\n\u001b[1;32m     29\u001b[0m \u001b[0;32mfor\u001b[0m \u001b[0m_\u001b[0m \u001b[0;32min\u001b[0m \u001b[0mrange\u001b[0m\u001b[0;34m(\u001b[0m\u001b[0;36m30\u001b[0m\u001b[0;34m)\u001b[0m\u001b[0;34m:\u001b[0m\u001b[0;34m\u001b[0m\u001b[0;34m\u001b[0m\u001b[0m\n\u001b[1;32m     30\u001b[0m     \u001b[0minput_sentence\u001b[0m \u001b[0;34m=\u001b[0m \u001b[0mrandom\u001b[0m\u001b[0;34m.\u001b[0m\u001b[0mchoice\u001b[0m\u001b[0;34m(\u001b[0m\u001b[0mtest_fr_texts\u001b[0m\u001b[0;34m)\u001b[0m\u001b[0;34m\u001b[0m\u001b[0;34m\u001b[0m\u001b[0m\n\u001b[0;32m---> 31\u001b[0;31m     \u001b[0mtranslated_sentence\u001b[0m \u001b[0;34m=\u001b[0m \u001b[0mtranslate_sentence\u001b[0m\u001b[0;34m(\u001b[0m\u001b[0minput_sentence\u001b[0m\u001b[0;34m,\u001b[0m \u001b[0mgru_model\u001b[0m\u001b[0;34m)\u001b[0m\u001b[0;34m\u001b[0m\u001b[0;34m\u001b[0m\u001b[0m\n\u001b[0m\u001b[1;32m     32\u001b[0m     \u001b[0mprint\u001b[0m\u001b[0;34m(\u001b[0m\u001b[0;34m\"Input Sentence:\"\u001b[0m\u001b[0;34m,\u001b[0m \u001b[0minput_sentence\u001b[0m\u001b[0;34m)\u001b[0m\u001b[0;34m\u001b[0m\u001b[0;34m\u001b[0m\u001b[0m\n\u001b[1;32m     33\u001b[0m     \u001b[0mprint\u001b[0m\u001b[0;34m(\u001b[0m\u001b[0;34m\"Translated Sentence:\"\u001b[0m\u001b[0;34m,\u001b[0m \u001b[0mtranslated_sentence\u001b[0m\u001b[0;34m)\u001b[0m\u001b[0;34m\u001b[0m\u001b[0;34m\u001b[0m\u001b[0m\n",
            "\u001b[0;32m<ipython-input-49-95db67d1aed9>\u001b[0m in \u001b[0;36mtranslate_sentence\u001b[0;34m(input_sentence, seq2seq_model)\u001b[0m\n\u001b[1;32m      8\u001b[0m     \u001b[0;32mfor\u001b[0m \u001b[0mi\u001b[0m \u001b[0;32min\u001b[0m \u001b[0mrange\u001b[0m\u001b[0;34m(\u001b[0m\u001b[0msequence_length\u001b[0m\u001b[0;34m)\u001b[0m\u001b[0;34m:\u001b[0m\u001b[0;34m\u001b[0m\u001b[0;34m\u001b[0m\u001b[0m\n\u001b[1;32m      9\u001b[0m         \u001b[0mtokenized_target_sentence\u001b[0m \u001b[0;34m=\u001b[0m \u001b[0men_vectorization\u001b[0m\u001b[0;34m(\u001b[0m\u001b[0;34m[\u001b[0m\u001b[0mdecoded_sentence\u001b[0m\u001b[0;34m]\u001b[0m\u001b[0;34m)\u001b[0m\u001b[0;34m[\u001b[0m\u001b[0;34m:\u001b[0m\u001b[0;34m,\u001b[0m \u001b[0;34m:\u001b[0m\u001b[0;34m-\u001b[0m\u001b[0;36m1\u001b[0m\u001b[0;34m]\u001b[0m\u001b[0;34m\u001b[0m\u001b[0;34m\u001b[0m\u001b[0m\n\u001b[0;32m---> 10\u001b[0;31m         \u001b[0mpredictions\u001b[0m \u001b[0;34m=\u001b[0m \u001b[0mseq2seq_model\u001b[0m\u001b[0;34m(\u001b[0m\u001b[0;34m[\u001b[0m\u001b[0mtokenized_input_sentence\u001b[0m\u001b[0;34m,\u001b[0m \u001b[0mtokenized_target_sentence\u001b[0m\u001b[0;34m]\u001b[0m\u001b[0;34m)\u001b[0m\u001b[0;34m\u001b[0m\u001b[0;34m\u001b[0m\u001b[0m\n\u001b[0m\u001b[1;32m     11\u001b[0m \u001b[0;34m\u001b[0m\u001b[0m\n\u001b[1;32m     12\u001b[0m         \u001b[0;31m# Use NumPy to find the argmax and convert to a concrete value\u001b[0m\u001b[0;34m\u001b[0m\u001b[0;34m\u001b[0m\u001b[0m\n",
            "\u001b[0;32m/usr/local/lib/python3.10/dist-packages/keras/src/utils/traceback_utils.py\u001b[0m in \u001b[0;36merror_handler\u001b[0;34m(*args, **kwargs)\u001b[0m\n\u001b[1;32m     63\u001b[0m         \u001b[0mfiltered_tb\u001b[0m \u001b[0;34m=\u001b[0m \u001b[0;32mNone\u001b[0m\u001b[0;34m\u001b[0m\u001b[0;34m\u001b[0m\u001b[0m\n\u001b[1;32m     64\u001b[0m         \u001b[0;32mtry\u001b[0m\u001b[0;34m:\u001b[0m\u001b[0;34m\u001b[0m\u001b[0;34m\u001b[0m\u001b[0m\n\u001b[0;32m---> 65\u001b[0;31m             \u001b[0;32mreturn\u001b[0m \u001b[0mfn\u001b[0m\u001b[0;34m(\u001b[0m\u001b[0;34m*\u001b[0m\u001b[0margs\u001b[0m\u001b[0;34m,\u001b[0m \u001b[0;34m**\u001b[0m\u001b[0mkwargs\u001b[0m\u001b[0;34m)\u001b[0m\u001b[0;34m\u001b[0m\u001b[0;34m\u001b[0m\u001b[0m\n\u001b[0m\u001b[1;32m     66\u001b[0m         \u001b[0;32mexcept\u001b[0m \u001b[0mException\u001b[0m \u001b[0;32mas\u001b[0m \u001b[0me\u001b[0m\u001b[0;34m:\u001b[0m\u001b[0;34m\u001b[0m\u001b[0;34m\u001b[0m\u001b[0m\n\u001b[1;32m     67\u001b[0m             \u001b[0mfiltered_tb\u001b[0m \u001b[0;34m=\u001b[0m \u001b[0m_process_traceback_frames\u001b[0m\u001b[0;34m(\u001b[0m\u001b[0me\u001b[0m\u001b[0;34m.\u001b[0m\u001b[0m__traceback__\u001b[0m\u001b[0;34m)\u001b[0m\u001b[0;34m\u001b[0m\u001b[0;34m\u001b[0m\u001b[0m\n",
            "\u001b[0;32m/usr/local/lib/python3.10/dist-packages/keras/src/engine/training.py\u001b[0m in \u001b[0;36m__call__\u001b[0;34m(self, *args, **kwargs)\u001b[0m\n\u001b[1;32m    588\u001b[0m             \u001b[0mlayout_map_lib\u001b[0m\u001b[0;34m.\u001b[0m\u001b[0m_map_subclass_model_variable\u001b[0m\u001b[0;34m(\u001b[0m\u001b[0mself\u001b[0m\u001b[0;34m,\u001b[0m \u001b[0mself\u001b[0m\u001b[0;34m.\u001b[0m\u001b[0m_layout_map\u001b[0m\u001b[0;34m)\u001b[0m\u001b[0;34m\u001b[0m\u001b[0;34m\u001b[0m\u001b[0m\n\u001b[1;32m    589\u001b[0m \u001b[0;34m\u001b[0m\u001b[0m\n\u001b[0;32m--> 590\u001b[0;31m         \u001b[0;32mreturn\u001b[0m \u001b[0msuper\u001b[0m\u001b[0;34m(\u001b[0m\u001b[0;34m)\u001b[0m\u001b[0;34m.\u001b[0m\u001b[0m__call__\u001b[0m\u001b[0;34m(\u001b[0m\u001b[0;34m*\u001b[0m\u001b[0margs\u001b[0m\u001b[0;34m,\u001b[0m \u001b[0;34m**\u001b[0m\u001b[0mkwargs\u001b[0m\u001b[0;34m)\u001b[0m\u001b[0;34m\u001b[0m\u001b[0;34m\u001b[0m\u001b[0m\n\u001b[0m\u001b[1;32m    591\u001b[0m \u001b[0;34m\u001b[0m\u001b[0m\n\u001b[1;32m    592\u001b[0m     \u001b[0;34m@\u001b[0m\u001b[0mdoc_controls\u001b[0m\u001b[0;34m.\u001b[0m\u001b[0mdoc_in_current_and_subclasses\u001b[0m\u001b[0;34m\u001b[0m\u001b[0;34m\u001b[0m\u001b[0m\n",
            "\u001b[0;32m/usr/local/lib/python3.10/dist-packages/keras/src/utils/traceback_utils.py\u001b[0m in \u001b[0;36merror_handler\u001b[0;34m(*args, **kwargs)\u001b[0m\n\u001b[1;32m     63\u001b[0m         \u001b[0mfiltered_tb\u001b[0m \u001b[0;34m=\u001b[0m \u001b[0;32mNone\u001b[0m\u001b[0;34m\u001b[0m\u001b[0;34m\u001b[0m\u001b[0m\n\u001b[1;32m     64\u001b[0m         \u001b[0;32mtry\u001b[0m\u001b[0;34m:\u001b[0m\u001b[0;34m\u001b[0m\u001b[0;34m\u001b[0m\u001b[0m\n\u001b[0;32m---> 65\u001b[0;31m             \u001b[0;32mreturn\u001b[0m \u001b[0mfn\u001b[0m\u001b[0;34m(\u001b[0m\u001b[0;34m*\u001b[0m\u001b[0margs\u001b[0m\u001b[0;34m,\u001b[0m \u001b[0;34m**\u001b[0m\u001b[0mkwargs\u001b[0m\u001b[0;34m)\u001b[0m\u001b[0;34m\u001b[0m\u001b[0;34m\u001b[0m\u001b[0m\n\u001b[0m\u001b[1;32m     66\u001b[0m         \u001b[0;32mexcept\u001b[0m \u001b[0mException\u001b[0m \u001b[0;32mas\u001b[0m \u001b[0me\u001b[0m\u001b[0;34m:\u001b[0m\u001b[0;34m\u001b[0m\u001b[0;34m\u001b[0m\u001b[0m\n\u001b[1;32m     67\u001b[0m             \u001b[0mfiltered_tb\u001b[0m \u001b[0;34m=\u001b[0m \u001b[0m_process_traceback_frames\u001b[0m\u001b[0;34m(\u001b[0m\u001b[0me\u001b[0m\u001b[0;34m.\u001b[0m\u001b[0m__traceback__\u001b[0m\u001b[0;34m)\u001b[0m\u001b[0;34m\u001b[0m\u001b[0;34m\u001b[0m\u001b[0m\n",
            "\u001b[0;32m/usr/local/lib/python3.10/dist-packages/keras/src/engine/base_layer.py\u001b[0m in \u001b[0;36m__call__\u001b[0;34m(self, *args, **kwargs)\u001b[0m\n\u001b[1;32m   1147\u001b[0m                     \u001b[0mself\u001b[0m\u001b[0;34m.\u001b[0m\u001b[0m_compute_dtype_object\u001b[0m\u001b[0;34m\u001b[0m\u001b[0;34m\u001b[0m\u001b[0m\n\u001b[1;32m   1148\u001b[0m                 ):\n\u001b[0;32m-> 1149\u001b[0;31m                     \u001b[0moutputs\u001b[0m \u001b[0;34m=\u001b[0m \u001b[0mcall_fn\u001b[0m\u001b[0;34m(\u001b[0m\u001b[0minputs\u001b[0m\u001b[0;34m,\u001b[0m \u001b[0;34m*\u001b[0m\u001b[0margs\u001b[0m\u001b[0;34m,\u001b[0m \u001b[0;34m**\u001b[0m\u001b[0mkwargs\u001b[0m\u001b[0;34m)\u001b[0m\u001b[0;34m\u001b[0m\u001b[0;34m\u001b[0m\u001b[0m\n\u001b[0m\u001b[1;32m   1150\u001b[0m \u001b[0;34m\u001b[0m\u001b[0m\n\u001b[1;32m   1151\u001b[0m                 \u001b[0;32mif\u001b[0m \u001b[0mself\u001b[0m\u001b[0;34m.\u001b[0m\u001b[0m_activity_regularizer\u001b[0m\u001b[0;34m:\u001b[0m\u001b[0;34m\u001b[0m\u001b[0;34m\u001b[0m\u001b[0m\n",
            "\u001b[0;32m/usr/local/lib/python3.10/dist-packages/keras/src/utils/traceback_utils.py\u001b[0m in \u001b[0;36merror_handler\u001b[0;34m(*args, **kwargs)\u001b[0m\n\u001b[1;32m     94\u001b[0m         \u001b[0mbound_signature\u001b[0m \u001b[0;34m=\u001b[0m \u001b[0;32mNone\u001b[0m\u001b[0;34m\u001b[0m\u001b[0;34m\u001b[0m\u001b[0m\n\u001b[1;32m     95\u001b[0m         \u001b[0;32mtry\u001b[0m\u001b[0;34m:\u001b[0m\u001b[0;34m\u001b[0m\u001b[0;34m\u001b[0m\u001b[0m\n\u001b[0;32m---> 96\u001b[0;31m             \u001b[0;32mreturn\u001b[0m \u001b[0mfn\u001b[0m\u001b[0;34m(\u001b[0m\u001b[0;34m*\u001b[0m\u001b[0margs\u001b[0m\u001b[0;34m,\u001b[0m \u001b[0;34m**\u001b[0m\u001b[0mkwargs\u001b[0m\u001b[0;34m)\u001b[0m\u001b[0;34m\u001b[0m\u001b[0;34m\u001b[0m\u001b[0m\n\u001b[0m\u001b[1;32m     97\u001b[0m         \u001b[0;32mexcept\u001b[0m \u001b[0mException\u001b[0m \u001b[0;32mas\u001b[0m \u001b[0me\u001b[0m\u001b[0;34m:\u001b[0m\u001b[0;34m\u001b[0m\u001b[0;34m\u001b[0m\u001b[0m\n\u001b[1;32m     98\u001b[0m             \u001b[0;32mif\u001b[0m \u001b[0mhasattr\u001b[0m\u001b[0;34m(\u001b[0m\u001b[0me\u001b[0m\u001b[0;34m,\u001b[0m \u001b[0;34m\"_keras_call_info_injected\"\u001b[0m\u001b[0;34m)\u001b[0m\u001b[0;34m:\u001b[0m\u001b[0;34m\u001b[0m\u001b[0;34m\u001b[0m\u001b[0m\n",
            "\u001b[0;32m/usr/local/lib/python3.10/dist-packages/keras/src/engine/functional.py\u001b[0m in \u001b[0;36mcall\u001b[0;34m(self, inputs, training, mask)\u001b[0m\n\u001b[1;32m    513\u001b[0m             \u001b[0ma\u001b[0m \u001b[0mlist\u001b[0m \u001b[0mof\u001b[0m \u001b[0mtensors\u001b[0m \u001b[0;32mif\u001b[0m \u001b[0mthere\u001b[0m \u001b[0mare\u001b[0m \u001b[0mmore\u001b[0m \u001b[0mthan\u001b[0m \u001b[0mone\u001b[0m \u001b[0moutputs\u001b[0m\u001b[0;34m.\u001b[0m\u001b[0;34m\u001b[0m\u001b[0;34m\u001b[0m\u001b[0m\n\u001b[1;32m    514\u001b[0m         \"\"\"\n\u001b[0;32m--> 515\u001b[0;31m         \u001b[0;32mreturn\u001b[0m \u001b[0mself\u001b[0m\u001b[0;34m.\u001b[0m\u001b[0m_run_internal_graph\u001b[0m\u001b[0;34m(\u001b[0m\u001b[0minputs\u001b[0m\u001b[0;34m,\u001b[0m \u001b[0mtraining\u001b[0m\u001b[0;34m=\u001b[0m\u001b[0mtraining\u001b[0m\u001b[0;34m,\u001b[0m \u001b[0mmask\u001b[0m\u001b[0;34m=\u001b[0m\u001b[0mmask\u001b[0m\u001b[0;34m)\u001b[0m\u001b[0;34m\u001b[0m\u001b[0;34m\u001b[0m\u001b[0m\n\u001b[0m\u001b[1;32m    516\u001b[0m \u001b[0;34m\u001b[0m\u001b[0m\n\u001b[1;32m    517\u001b[0m     \u001b[0;32mdef\u001b[0m \u001b[0mcompute_output_shape\u001b[0m\u001b[0;34m(\u001b[0m\u001b[0mself\u001b[0m\u001b[0;34m,\u001b[0m \u001b[0minput_shape\u001b[0m\u001b[0;34m)\u001b[0m\u001b[0;34m:\u001b[0m\u001b[0;34m\u001b[0m\u001b[0;34m\u001b[0m\u001b[0m\n",
            "\u001b[0;32m/usr/local/lib/python3.10/dist-packages/keras/src/engine/functional.py\u001b[0m in \u001b[0;36m_run_internal_graph\u001b[0;34m(self, inputs, training, mask)\u001b[0m\n\u001b[1;32m    669\u001b[0m                     \u001b[0;32mcontinue\u001b[0m  \u001b[0;31m# Node is not computable, try skipping.\u001b[0m\u001b[0;34m\u001b[0m\u001b[0;34m\u001b[0m\u001b[0m\n\u001b[1;32m    670\u001b[0m \u001b[0;34m\u001b[0m\u001b[0m\n\u001b[0;32m--> 671\u001b[0;31m                 \u001b[0margs\u001b[0m\u001b[0;34m,\u001b[0m \u001b[0mkwargs\u001b[0m \u001b[0;34m=\u001b[0m \u001b[0mnode\u001b[0m\u001b[0;34m.\u001b[0m\u001b[0mmap_arguments\u001b[0m\u001b[0;34m(\u001b[0m\u001b[0mtensor_dict\u001b[0m\u001b[0;34m)\u001b[0m\u001b[0;34m\u001b[0m\u001b[0;34m\u001b[0m\u001b[0m\n\u001b[0m\u001b[1;32m    672\u001b[0m                 \u001b[0moutputs\u001b[0m \u001b[0;34m=\u001b[0m \u001b[0mnode\u001b[0m\u001b[0;34m.\u001b[0m\u001b[0mlayer\u001b[0m\u001b[0;34m(\u001b[0m\u001b[0;34m*\u001b[0m\u001b[0margs\u001b[0m\u001b[0;34m,\u001b[0m \u001b[0;34m**\u001b[0m\u001b[0mkwargs\u001b[0m\u001b[0;34m)\u001b[0m\u001b[0;34m\u001b[0m\u001b[0;34m\u001b[0m\u001b[0m\n\u001b[1;32m    673\u001b[0m \u001b[0;34m\u001b[0m\u001b[0m\n",
            "\u001b[0;32m/usr/local/lib/python3.10/dist-packages/keras/src/engine/node.py\u001b[0m in \u001b[0;36mmap_arguments\u001b[0;34m(self, tensor_dict)\u001b[0m\n\u001b[1;32m    171\u001b[0m             \u001b[0;31m# Performance optimization for most common case.\u001b[0m\u001b[0;34m\u001b[0m\u001b[0;34m\u001b[0m\u001b[0m\n\u001b[1;32m    172\u001b[0m             \u001b[0mkt_id\u001b[0m\u001b[0;34m,\u001b[0m \u001b[0m_\u001b[0m \u001b[0;34m=\u001b[0m \u001b[0mself\u001b[0m\u001b[0;34m.\u001b[0m\u001b[0m_keras_inputs_ids_and_indices\u001b[0m\u001b[0;34m[\u001b[0m\u001b[0;36m0\u001b[0m\u001b[0;34m]\u001b[0m\u001b[0;34m\u001b[0m\u001b[0;34m\u001b[0m\u001b[0m\n\u001b[0;32m--> 173\u001b[0;31m             \u001b[0;32mreturn\u001b[0m \u001b[0;34m(\u001b[0m\u001b[0mtensor_dict\u001b[0m\u001b[0;34m[\u001b[0m\u001b[0mkt_id\u001b[0m\u001b[0;34m]\u001b[0m\u001b[0;34m.\u001b[0m\u001b[0mpop\u001b[0m\u001b[0;34m(\u001b[0m\u001b[0;34m)\u001b[0m\u001b[0;34m,\u001b[0m\u001b[0;34m)\u001b[0m\u001b[0;34m,\u001b[0m \u001b[0;34m{\u001b[0m\u001b[0;34m}\u001b[0m\u001b[0;34m\u001b[0m\u001b[0;34m\u001b[0m\u001b[0m\n\u001b[0m\u001b[1;32m    174\u001b[0m         \u001b[0;32melse\u001b[0m\u001b[0;34m:\u001b[0m\u001b[0;34m\u001b[0m\u001b[0;34m\u001b[0m\u001b[0m\n\u001b[1;32m    175\u001b[0m             \u001b[0mflat_arguments\u001b[0m \u001b[0;34m=\u001b[0m \u001b[0mcopy\u001b[0m\u001b[0;34m.\u001b[0m\u001b[0mcopy\u001b[0m\u001b[0;34m(\u001b[0m\u001b[0mself\u001b[0m\u001b[0;34m.\u001b[0m\u001b[0m_flat_arguments\u001b[0m\u001b[0;34m)\u001b[0m\u001b[0;34m\u001b[0m\u001b[0;34m\u001b[0m\u001b[0m\n",
            "\u001b[0;31mKeyboardInterrupt\u001b[0m: "
          ]
        }
      ],
      "source": [
        "en_vocab = en_vectorization.get_vocabulary()\n",
        "en_index_lookup = dict(zip(range(len(en_vocab)), en_vocab))\n",
        "\n",
        "def translate_sentence(input_sentence, seq2seq_model):\n",
        "    tokenized_input_sentence = fr_vectorization([input_sentence])\n",
        "    decoded_sentence = \"[start]\"\n",
        "\n",
        "    for i in range(sequence_length):\n",
        "        tokenized_target_sentence = en_vectorization([decoded_sentence])[:, :-1]\n",
        "        predictions = seq2seq_model([tokenized_input_sentence, tokenized_target_sentence])\n",
        "\n",
        "        # Use NumPy to find the argmax and convert to a concrete value\n",
        "        sampled_token_index = np.argmax(predictions[0, i, :])\n",
        "        sampled_token_index = int(sampled_token_index)\n",
        "        sampled_token = en_index_lookup.get(sampled_token_index, \"[end]\")  # Handle unknown tokens\n",
        "\n",
        "        if sampled_token == \"[end]\":\n",
        "            break\n",
        "        decoded_sentence += \" \" + sampled_token\n",
        "\n",
        "    # Remove padding and trim the result\n",
        "    decoded_sentence = decoded_sentence.replace(\"[start]\", \"\").replace(\"[end]\", \"\").strip()\n",
        "\n",
        "    return decoded_sentence\n",
        "\n",
        "# Translate and store sentences\n",
        "# translated_sentences = []\n",
        "test_fr_texts = test_data['fr_clean'].tolist()[:1000]\n",
        "for _ in range(30):\n",
        "    input_sentence = random.choice(test_fr_texts)\n",
        "    translated_sentence = translate_sentence(input_sentence, gru_model)\n",
        "    print(\"Input Sentence:\", input_sentence)\n",
        "    print(\"Translated Sentence:\", translated_sentence)\n",
        "# for input_sentence in tqdm(test_fr_texts, desc=\"Translating sentences\"):\n",
        "#     translated_sentence = translate_sentence(input_sentence, gru_model)\n",
        "#     translated_sentences.append(translated_sentence)"
      ]
    },
    {
      "cell_type": "markdown",
      "metadata": {
        "id": "dqkndzLPT3gu"
      },
      "source": [
        "# Png Model\n"
      ]
    },
    {
      "cell_type": "code",
      "execution_count": null,
      "metadata": {
        "colab": {
          "base_uri": "https://localhost:8080/",
          "height": 754
        },
        "id": "6W4HBcxHTKXX",
        "outputId": "521cb0c3-f9ce-4087-c4e1-ad06cc5f2a69"
      },
      "outputs": [
        {
          "data": {
            "image/png": "[encoded data removed]",
            "text/plain": [
              "<IPython.core.display.Image object>"
            ]
          },
          "execution_count": 114,
          "metadata": {},
          "output_type": "execute_result"
        }
      ],
      "source": [
        "plot_model(transformer_rmsprop, to_file='/content/drive/MyDrive/models/Rmsprop/T5/model_transformer_plot_vocab.png', show_shapes=True, show_layer_names=True)\n",
        "plot_model(gru_model_rmsprop, to_file='/content/drive/MyDrive/models/Rmsprop/GRU/model_gru_plot_vocab.png', show_shapes=True, show_layer_names=True)\n",
        "plot_model(lstm_model_rmsprop, to_file='/content/drive/MyDrive/models/Rmsprop/LSTM/model_lstm_plot_vocab.png', show_shapes=True, show_layer_names=True)\n",
        "plot_model(transformer_adam, to_file='/content/drive/MyDrive/models/Adam/T5/model_transformer_plot_vocab.png', show_shapes=True, show_layer_names=True)\n",
        "plot_model(gru_model_adam, to_file='/content/drive/MyDrive/models/Adam/GRU/model_gru_plot_vocab.png', show_shapes=True, show_layer_names=True)\n",
        "plot_model(lstm_model_adam, to_file='/content/drive/MyDrive/models/Adam/LSTM/model_lstm_plot_vocab.png', show_shapes=True, show_layer_names=True)"
      ]
    },
    {
      "cell_type": "markdown",
      "metadata": {
        "id": "i3IFOeO6Cyzr"
      },
      "source": [
        "# Evaluation"
      ]
    },
    {
      "cell_type": "code",
      "execution_count": null,
      "metadata": {
        "id": "vrU8zahDepW6"
      },
      "outputs": [],
      "source": [
        "def count_unk_tokens(sentences):\n",
        "    return sum(sentence.count(\"[UNK]\") for sentence in sentences)"
      ]
    },
    {
      "cell_type": "code",
      "execution_count": null,
      "metadata": {
        "id": "gULRfbJFC2De"
      },
      "outputs": [],
      "source": [
        "# Charger l'optimizer à partir du fichier pickle\n",
        "with open('/content/drive/MyDrive/models/Adam/GRU/gru_optimizer.pkl', 'rb') as optimizer_file:\n",
        "    optimizer_config = pickle.load(optimizer_file)\n",
        "# Supprimer les clés obsolètes de la configuration\n",
        "optimizer_config.pop('decay', None)\n",
        "\n",
        "# Créer un nouvel optimiseur à partir de la configuration mise à jour\n",
        "loaded_optimizer = tf.keras.optimizers.Adam.from_config(optimizer_config)\n",
        "\n",
        "# Function to evaluate a model\n",
        "def evaluate_model(model_path, test_dataset):\n",
        "    # Load the model\n",
        "    model = load_model(model_path)\n",
        "    # Compile optimizer\n",
        "    model.compile(optimizer=loaded_optimizer, loss=loss_fn, metrics=['accuracy'])\n",
        "    # Evaluate the model on the test dataset\n",
        "    loss, accuracy = model.evaluate(test_dataset)\n",
        "\n",
        "    return loss, accuracy\n",
        "\n",
        "# Define the model paths\n",
        "lstm_model_path = '/content/drive/MyDrive/models/Adam/LSTM/model.h5'\n",
        "gru_model_path = '/content/drive/MyDrive/models/Adam/GRU/model.h5'\n",
        "transformer_model_path = '/content/drive/MyDrive/models/Adam/T5/model.h5'\n",
        "# history the model paths\n",
        "lstm_history_path = '/content/drive/MyDrive/models/Adam/LSTM/lstm_history.pkl'\n",
        "gru_history_path = '/content/drive/MyDrive/models/Adam/GRU/gru_history.pkl'\n",
        "transformer_history_path = '/content/drive/MyDrive/models/Adam/T5/transformer_history.pkl'\n",
        "\n",
        "# Charger l'historique d'entraînement pour chaque modèle\n",
        "with open(lstm_history_path, 'rb') as file:\n",
        "    lstm_history = pickle.load(file)\n",
        "\n",
        "with open(gru_history_path, 'rb') as file:\n",
        "    gru_history = pickle.load(file)\n",
        "\n",
        "with open(transformer_history_path, 'rb') as file:\n",
        "    transformer_history = pickle.load(file)\n",
        "\n",
        "# Test dataset\n",
        "test_dataset = make_dataset(test_data)\n",
        "\n",
        "# Evaluate each model on the test dataset and get test losses\n",
        "lstm_loss, lstm_accuracy = evaluate_model(lstm_model_path, test_dataset)\n",
        "gru_loss, gru_accuracy = evaluate_model(gru_model_path, test_dataset)\n",
        "transformer_loss, transformer_accuracy = evaluate_model(transformer_model_path, test_dataset)\n",
        "\n"
      ]
    },
    {
      "cell_type": "code",
      "execution_count": null,
      "metadata": {
        "id": "kDdcleapWy6y"
      },
      "outputs": [],
      "source": [
        "# Prepare data for plotting\n",
        "train_accuracies = [lstm_history['accuracy'][-1], gru_history['accuracy'][-1], transformer_history['accuracy'][-1]]\n",
        "val_accuracies = [lstm_history['val_accuracy'][-1], gru_history['val_accuracy'][-1], transformer_history['val_accuracy'][-1]]\n",
        "test_accuracies = [lstm_accuracy, gru_accuracy, transformer_accuracy]\n",
        "\n",
        "bar_width = 0.25  # width of the bars\n",
        "index = np.arange(3)  # three models\n",
        "\n",
        "# Plotting\n",
        "plt.figure(figsize=(12, 6))\n",
        "\n",
        "# Training accuracy bars\n",
        "train_bars = plt.bar(index, train_accuracies, bar_width, label='Training Accuracy')\n",
        "\n",
        "# Move the index for the next set of bars\n",
        "index = index + bar_width\n",
        "\n",
        "# Validation accuracy bars\n",
        "val_bars = plt.bar(index, val_accuracies, bar_width, label='Validation Accuracy')\n",
        "\n",
        "# Move the index for the next set of bars\n",
        "index = index + bar_width\n",
        "\n",
        "# Test accuracy bars\n",
        "test_bars = plt.bar(index, test_accuracies, bar_width, label='Test Accuracy')\n",
        "\n",
        "plt.xlabel('Model')\n",
        "plt.ylabel('Accuracy')\n",
        "plt.title('Training, Validation, and Test Accuracy by Model')\n",
        "plt.xticks(index - bar_width, ['LSTM', 'GRU', 'Transformer'])\n",
        "plt.legend()\n",
        "\n",
        "# Adding the scores on top of each bar\n",
        "for bars in [train_bars, val_bars, test_bars]:\n",
        "    for bar in bars:\n",
        "        yval = bar.get_height()\n",
        "        plt.text(bar.get_x() + bar.get_width()/2, yval, round(yval, 2), ha='center', va='bottom')\n",
        "\n",
        "plt.tight_layout()\n",
        "plt.show()\n",
        "\n",
        "\n",
        "# Display test losses and accuracies for each model\n",
        "print(f\"LSTM Test Loss: {lstm_loss}, Accuracy: {lstm_accuracy}\")\n",
        "print(f\"GRU Test Loss: {gru_loss}, Accuracy: {gru_accuracy}\")\n",
        "print(f\"Transformer Test Loss: {transformer_loss}, Accuracy: {transformer_accuracy}\")"
      ]
    },
    {
      "cell_type": "code",
      "execution_count": null,
      "metadata": {
        "id": "-Bg3MFTdWa_f"
      },
      "outputs": [],
      "source": [
        "# Plotting\n",
        "fig, axes = plt.subplots(nrows=3, ncols=4, figsize=(20, 15))  # 3 models, 4 metrics each\n",
        "fig.suptitle('Detailed Model Performance Comparison')\n",
        "\n",
        "# Function to plot each metric\n",
        "def plot_metric(axis, history, metric, title, line_style, color):\n",
        "    axis.plot(history[metric], line_style, color=color, label=metric)\n",
        "    axis.set_title(title)\n",
        "    axis.set_xlabel('Epoch')\n",
        "    axis.set_ylabel(metric)\n",
        "    axis.legend()\n",
        "\n",
        "# LSTM plots\n",
        "plot_metric(axes[0, 0], lstm_history, 'accuracy', 'LSTM Training Accuracy', 'b--', 'blue')\n",
        "plot_metric(axes[0, 1], lstm_history, 'val_accuracy', 'LSTM Validation Accuracy', '--', 'orange')\n",
        "plot_metric(axes[0, 2], lstm_history, 'loss', 'LSTM Training Loss', 'g--', 'green')\n",
        "plot_metric(axes[0, 3], lstm_history, 'val_loss', 'LSTM Validation Loss', '--', 'red')\n",
        "\n",
        "# GRU plots\n",
        "plot_metric(axes[1, 0], gru_history, 'accuracy', 'GRU Training Accuracy', 'b--', 'blue')\n",
        "plot_metric(axes[1, 1], gru_history, 'val_accuracy', 'GRU Validation Accuracy', '--', 'orange')\n",
        "plot_metric(axes[1, 2], gru_history, 'loss', 'GRU Training Loss', 'g--', 'green')\n",
        "plot_metric(axes[1, 3], gru_history, 'val_loss', 'GRU Validation Loss', '--', 'red')\n",
        "\n",
        "# Transformer plots\n",
        "plot_metric(axes[2, 0], transformer_history, 'accuracy', 'Transformer Training Accuracy', 'b--', 'blue')\n",
        "plot_metric(axes[2, 1], transformer_history, 'val_accuracy', 'Transformer Validation Accuracy', '--', 'orange')\n",
        "plot_metric(axes[2, 2], transformer_history, 'loss', 'Transformer Training Loss', 'g--', 'green')\n",
        "plot_metric(axes[2, 3], transformer_history, 'val_loss', 'Transformer Validation Loss', '--', 'red')\n",
        "\n",
        "plt.tight_layout(rect=[0, 0.03, 1, 0.95])\n",
        "plt.show()"
      ]
    },
    {
      "cell_type": "code",
      "execution_count": null,
      "metadata": {
        "id": "WFUunonOX3W9"
      },
      "outputs": [],
      "source": [
        "# Plotting\n",
        "fig, axes = plt.subplots(nrows=3, ncols=2, figsize=(15, 15))  # 3 models, 2 metrics groups each\n",
        "fig.suptitle('Model Performance Comparison: Accuracy and Loss')\n",
        "\n",
        "# Function to plot accuracy and loss metrics\n",
        "def plot_metrics(axis, history, title, accuracy=True):\n",
        "    if accuracy:\n",
        "        # Plot accuracy and validation accuracy\n",
        "        axis.plot(history['accuracy'], 'b--', label='Training Accuracy')\n",
        "        axis.plot(history['val_accuracy'], 'orange', linestyle='--', label='Validation Accuracy')\n",
        "        # Annotate the last point\n",
        "        axis.annotate(f\"{history['accuracy'][-1]:.2f}\", (len(history['accuracy']) - 1, history['accuracy'][-1]), textcoords=\"offset points\", xytext=(0,10), ha='center')\n",
        "        axis.annotate(f\"{history['val_accuracy'][-1]:.2f}\", (len(history['val_accuracy']) - 1, history['val_accuracy'][-1]), textcoords=\"offset points\", xytext=(0,10), ha='center')\n",
        "    else:\n",
        "        # Plot loss and validation loss\n",
        "        axis.plot(history['loss'], 'g--', label='Training Loss')\n",
        "        axis.plot(history['val_loss'], 'r--', label='Validation Loss')\n",
        "        # Annotate the last point\n",
        "        axis.annotate(f\"{history['loss'][-1]:.2f}\", (len(history['loss']) - 1, history['loss'][-1]), textcoords=\"offset points\", xytext=(0,10), ha='center')\n",
        "        axis.annotate(f\"{history['val_loss'][-1]:.2f}\", (len(history['val_loss']) - 1, history['val_loss'][-1]), textcoords=\"offset points\", xytext=(0,10), ha='center')\n",
        "\n",
        "    axis.set_title(title)\n",
        "    axis.set_xlabel('Epoch')\n",
        "    axis.set_ylabel('Value')\n",
        "    axis.legend()\n",
        "\n",
        "# LSTM plots\n",
        "plot_metrics(axes[0, 0], lstm_history, 'LSTM Accuracy (Training vs Validation)', accuracy=True)\n",
        "plot_metrics(axes[0, 1], lstm_history, 'LSTM Loss (Training vs Validation)', accuracy=False)\n",
        "\n",
        "# GRU plots\n",
        "plot_metrics(axes[1, 0], gru_history, 'GRU Accuracy (Training vs Validation)', accuracy=True)\n",
        "plot_metrics(axes[1, 1], gru_history, 'GRU Loss (Training vs Validation)', accuracy=False)\n",
        "\n",
        "# Transformer plots\n",
        "plot_metrics(axes[2, 0], transformer_history, 'Transformer Accuracy (Training vs Validation)', accuracy=True)\n",
        "plot_metrics(axes[2, 1], transformer_history, 'Transformer Loss (Training vs Validation)', accuracy=False)\n",
        "\n",
        "plt.tight_layout(rect=[0, 0.03, 1, 0.95])\n",
        "plt.show()"
      ]
    },
    {
      "cell_type": "code",
      "execution_count": null,
      "metadata": {
        "id": "yC4mhMZ4aa07"
      },
      "outputs": [],
      "source": [
        "# Plotting\n",
        "fig, axes = plt.subplots(nrows=1, ncols=2, figsize=(20, 8))  # 1 row, 2 metrics groups\n",
        "fig.suptitle('Combined Model Performance Comparison')\n",
        "\n",
        "# Function to plot accuracy for all models\n",
        "def plot_accuracy(axis, lstm_history, gru_history, transformer_history):\n",
        "    # LSTM accuracy\n",
        "    axis.plot(lstm_history['accuracy'], 'b--', label='LSTM Training Accuracy')\n",
        "    axis.plot(lstm_history['val_accuracy'], 'b:', label='LSTM Validation Accuracy')\n",
        "    # GRU accuracy\n",
        "    axis.plot(gru_history['accuracy'], 'g--', label='GRU Training Accuracy')\n",
        "    axis.plot(gru_history['val_accuracy'], 'g:', label='GRU Validation Accuracy')\n",
        "    # Transformer accuracy\n",
        "    axis.plot(transformer_history['accuracy'], 'r--', label='Transformer Training Accuracy')\n",
        "    axis.plot(transformer_history['val_accuracy'], 'r:', label='Transformer Validation Accuracy')\n",
        "\n",
        "    axis.set_title('Accuracy (Training and Validation)')\n",
        "    axis.set_xlabel('Epoch')\n",
        "    axis.set_ylabel('Accuracy')\n",
        "    axis.legend()\n",
        "\n",
        "# Function to plot loss for all models\n",
        "def plot_loss(axis, lstm_history, gru_history, transformer_history):\n",
        "    # LSTM loss\n",
        "    axis.plot(lstm_history['loss'], 'b--', label='LSTM Training Loss')\n",
        "    axis.plot(lstm_history['val_loss'], 'b:', label='LSTM Validation Loss')\n",
        "    # GRU loss\n",
        "    axis.plot(gru_history['loss'], 'g--', label='GRU Training Loss')\n",
        "    axis.plot(gru_history['val_loss'], 'g:', label='GRU Validation Loss')\n",
        "    # Transformer loss\n",
        "    axis.plot(transformer_history['loss'], 'r--', label='Transformer Training Loss')\n",
        "    axis.plot(transformer_history['val_loss'], 'r:', label='Transformer Validation Loss')\n",
        "\n",
        "    axis.set_title('Loss (Training and Validation)')\n",
        "    axis.set_xlabel('Epoch')\n",
        "    axis.set_ylabel('Loss')\n",
        "    axis.legend()\n",
        "\n",
        "# Plotting accuracy and loss for all models\n",
        "plot_accuracy(axes[0], lstm_history, gru_history, transformer_history)\n",
        "plot_loss(axes[1], lstm_history, gru_history, transformer_history)\n",
        "\n",
        "plt.tight_layout(rect=[0, 0.03, 1, 0.95])\n",
        "plt.show()"
      ]
    },
    {
      "cell_type": "markdown",
      "metadata": {
        "id": "FQN899F3F13T"
      },
      "source": [
        "# Score"
      ]
    },
    {
      "cell_type": "code",
      "execution_count": null,
      "metadata": {
        "id": "FP7GA_qZi1sd"
      },
      "outputs": [],
      "source": [
        "def count_unk_tokens(translated_sentences):\n",
        "    unk_counts = [sentence.count('[UNK]') for sentence in translated_sentences]\n",
        "    total_unk_count = sum(unk_counts)\n",
        "    return total_unk_count\n"
      ]
    },
    {
      "cell_type": "code",
      "execution_count": null,
      "metadata": {
        "id": "9-5TkK5ng6ym"
      },
      "outputs": [],
      "source": [
        "# Sélectionner aléatoirement 50 échantillons de l'ensemble de test\n",
        "reduced_test_data = test_data.sample(n=50, random_state=42)  # 'n' est le nombre d'échantillons à sélectionner"
      ]
    },
    {
      "cell_type": "markdown",
      "metadata": {
        "id": "Mv4aKW59lAn3"
      },
      "source": [
        "### LSTM"
      ]
    },
    {
      "cell_type": "code",
      "execution_count": null,
      "metadata": {
        "colab": {
          "base_uri": "https://localhost:8080/"
        },
        "id": "khTzyqgVMMN3",
        "outputId": "e38dc304-35b3-49fa-9466-67e0243e6b15"
      },
      "outputs": [
        {
          "name": "stderr",
          "output_type": "stream",
          "text": [
            "\n",
            "Translating LSTM for F1 Score:   0%|          | 0/50 [00:00<?, ?it/s]\u001b[A\n",
            "Translating LSTM for F1 Score:   2%|▏         | 1/50 [00:00<00:31,  1.56it/s]\u001b[A\n",
            "Translating LSTM for F1 Score:   4%|▍         | 2/50 [00:01<00:50,  1.05s/it]\u001b[A\n",
            "Translating LSTM for F1 Score:   6%|▌         | 3/50 [00:03<01:04,  1.36s/it]\u001b[A\n",
            "Translating LSTM for F1 Score:   8%|▊         | 4/50 [00:05<01:06,  1.45s/it]\u001b[A\n",
            "Translating LSTM for F1 Score:  10%|█         | 5/50 [00:06<01:03,  1.40s/it]\u001b[A\n",
            "Translating LSTM for F1 Score:  12%|█▏        | 6/50 [00:07<01:00,  1.38s/it]\u001b[A\n",
            "Translating LSTM for F1 Score:  14%|█▍        | 7/50 [00:08<00:45,  1.05s/it]\u001b[A\n",
            "Translating LSTM for F1 Score:  16%|█▌        | 8/50 [00:09<00:47,  1.13s/it]\u001b[A\n",
            "Translating LSTM for F1 Score:  18%|█▊        | 9/50 [00:11<00:52,  1.28s/it]\u001b[A\n",
            "Translating LSTM for F1 Score:  20%|██        | 10/50 [00:11<00:40,  1.02s/it]\u001b[A\n",
            "Translating LSTM for F1 Score:  22%|██▏       | 11/50 [00:13<00:47,  1.22s/it]\u001b[A\n",
            "Translating LSTM for F1 Score:  24%|██▍       | 12/50 [00:14<00:48,  1.26s/it]\u001b[A\n",
            "Translating LSTM for F1 Score:  26%|██▌       | 13/50 [00:16<00:52,  1.41s/it]\u001b[A\n",
            "Translating LSTM for F1 Score:  28%|██▊       | 14/50 [00:18<00:52,  1.47s/it]\u001b[A\n",
            "Translating LSTM for F1 Score:  30%|███       | 15/50 [00:19<00:50,  1.45s/it]\u001b[A\n",
            "Translating LSTM for F1 Score:  32%|███▏      | 16/50 [00:19<00:36,  1.07s/it]\u001b[A\n",
            "Translating LSTM for F1 Score:  34%|███▍      | 17/50 [00:20<00:37,  1.14s/it]\u001b[A\n",
            "Translating LSTM for F1 Score:  36%|███▌      | 18/50 [00:22<00:38,  1.21s/it]\u001b[A\n",
            "Translating LSTM for F1 Score:  38%|███▊      | 19/50 [00:22<00:29,  1.03it/s]\u001b[A\n",
            "Translating LSTM for F1 Score:  40%|████      | 20/50 [00:24<00:32,  1.08s/it]\u001b[A\n",
            "Translating LSTM for F1 Score:  42%|████▏     | 21/50 [00:25<00:33,  1.16s/it]\u001b[A\n",
            "Translating LSTM for F1 Score:  44%|████▍     | 22/50 [00:25<00:26,  1.04it/s]\u001b[A\n",
            "Translating LSTM for F1 Score:  46%|████▌     | 23/50 [00:27<00:28,  1.06s/it]\u001b[A\n",
            "Translating LSTM for F1 Score:  48%|████▊     | 24/50 [00:27<00:20,  1.27it/s]\u001b[A\n",
            "Translating LSTM for F1 Score:  50%|█████     | 25/50 [00:27<00:18,  1.35it/s]\u001b[A\n",
            "Translating LSTM for F1 Score:  52%|█████▏    | 26/50 [00:29<00:25,  1.05s/it]\u001b[A\n",
            "Translating LSTM for F1 Score:  54%|█████▍    | 27/50 [00:30<00:20,  1.12it/s]\u001b[A\n",
            "Translating LSTM for F1 Score:  56%|█████▌    | 28/50 [00:30<00:16,  1.35it/s]\u001b[A\n",
            "Translating LSTM for F1 Score:  58%|█████▊    | 29/50 [00:32<00:19,  1.09it/s]\u001b[A\n",
            "Translating LSTM for F1 Score:  60%|██████    | 30/50 [00:33<00:21,  1.05s/it]\u001b[A\n",
            "Translating LSTM for F1 Score:  62%|██████▏   | 31/50 [00:33<00:14,  1.28it/s]\u001b[A\n",
            "Translating LSTM for F1 Score:  64%|██████▍   | 32/50 [00:34<00:17,  1.06it/s]\u001b[A\n",
            "Translating LSTM for F1 Score:  66%|██████▌   | 33/50 [00:35<00:13,  1.26it/s]\u001b[A\n",
            "Translating LSTM for F1 Score:  68%|██████▊   | 34/50 [00:36<00:15,  1.01it/s]\u001b[A\n",
            "Translating LSTM for F1 Score:  70%|███████   | 35/50 [00:37<00:11,  1.27it/s]\u001b[A\n",
            "Translating LSTM for F1 Score:  72%|███████▏  | 36/50 [00:37<00:08,  1.62it/s]\u001b[A\n",
            "Translating LSTM for F1 Score:  74%|███████▍  | 37/50 [00:38<00:10,  1.20it/s]\u001b[A\n",
            "Translating LSTM for F1 Score:  76%|███████▌  | 38/50 [00:38<00:07,  1.56it/s]\u001b[A\n",
            "Translating LSTM for F1 Score:  78%|███████▊  | 39/50 [00:40<00:09,  1.18it/s]\u001b[A\n",
            "Translating LSTM for F1 Score:  80%|████████  | 40/50 [00:40<00:07,  1.35it/s]\u001b[A\n",
            "Translating LSTM for F1 Score:  82%|████████▏ | 41/50 [00:42<00:09,  1.04s/it]\u001b[A\n",
            "Translating LSTM for F1 Score:  84%|████████▍ | 42/50 [00:42<00:06,  1.16it/s]\u001b[A\n",
            "Translating LSTM for F1 Score:  86%|████████▌ | 43/50 [00:44<00:07,  1.02s/it]\u001b[A\n",
            "Translating LSTM for F1 Score:  88%|████████▊ | 44/50 [00:45<00:06,  1.10s/it]\u001b[A\n",
            "Translating LSTM for F1 Score:  90%|█████████ | 45/50 [00:45<00:04,  1.16it/s]\u001b[A\n",
            "Translating LSTM for F1 Score:  92%|█████████▏| 46/50 [00:47<00:03,  1.01it/s]\u001b[A\n",
            "Translating LSTM for F1 Score:  94%|█████████▍| 47/50 [00:48<00:03,  1.09s/it]\u001b[A\n",
            "Translating LSTM for F1 Score:  96%|█████████▌| 48/50 [00:48<00:01,  1.19it/s]\u001b[A\n",
            "Translating LSTM for F1 Score:  98%|█████████▊| 49/50 [00:49<00:00,  1.02it/s]\u001b[A\n",
            "Translating LSTM for F1 Score: 100%|██████████| 50/50 [00:50<00:00,  1.01s/it]\n"
          ]
        }
      ],
      "source": [
        "lstm_model = load_model('/content/drive/MyDrive/models/Adam/LSTM/model_2_filtred.h5')\n",
        "test_translations_lstm = [translate_sentence(txt,lstm_model) for txt in tqdm(reduced_test_data['fr_clean'].tolist(), \"Translating LSTM for F1 Score\")]\n",
        "# Save the data using pickle\n",
        "with open('/content/drive/MyDrive/models/Adam/LSTM/test_translations_lstm_filtre.pkl', 'wb') as file:\n",
        "    pickle.dump(test_translations_lstm, file)"
      ]
    },
    {
      "cell_type": "code",
      "execution_count": null,
      "metadata": {
        "colab": {
          "base_uri": "https://localhost:8080/"
        },
        "id": "M6h7XspTjRVu",
        "outputId": "dc014de4-9792-4816-c33a-8ea906bbbacd"
      },
      "outputs": [
        {
          "name": "stderr",
          "output_type": "stream",
          "text": [
            "\n",
            "Translating LSTM for F1 Score:   0%|          | 0/50 [00:00<?, ?it/s]\u001b[A\n",
            "Translating LSTM for F1 Score:   2%|▏         | 1/50 [00:00<00:18,  2.61it/s]\u001b[A\n",
            "Translating LSTM for F1 Score:   4%|▍         | 2/50 [00:01<00:37,  1.28it/s]\u001b[A\n",
            "Translating LSTM for F1 Score:   6%|▌         | 3/50 [00:02<00:48,  1.04s/it]\u001b[A\n",
            "Translating LSTM for F1 Score:   8%|▊         | 4/50 [00:03<00:41,  1.12it/s]\u001b[A\n",
            "Translating LSTM for F1 Score:  10%|█         | 5/50 [00:04<00:39,  1.15it/s]\u001b[A\n",
            "Translating LSTM for F1 Score:  12%|█▏        | 6/50 [00:05<00:35,  1.22it/s]\u001b[A\n",
            "Translating LSTM for F1 Score:  14%|█▍        | 7/50 [00:05<00:28,  1.53it/s]\u001b[A\n",
            "Translating LSTM for F1 Score:  16%|█▌        | 8/50 [00:05<00:25,  1.66it/s]\u001b[A\n",
            "Translating LSTM for F1 Score:  18%|█▊        | 9/50 [00:06<00:27,  1.50it/s]\u001b[A\n",
            "Translating LSTM for F1 Score:  20%|██        | 10/50 [00:06<00:21,  1.87it/s]\u001b[A\n",
            "Translating LSTM for F1 Score:  22%|██▏       | 11/50 [00:07<00:22,  1.76it/s]\u001b[A\n",
            "Translating LSTM for F1 Score:  24%|██▍       | 12/50 [00:08<00:26,  1.44it/s]\u001b[A\n",
            "Translating LSTM for F1 Score:  26%|██▌       | 13/50 [00:09<00:27,  1.32it/s]\u001b[A\n",
            "Translating LSTM for F1 Score:  28%|██▊       | 14/50 [00:10<00:30,  1.19it/s]\u001b[A\n",
            "Translating LSTM for F1 Score:  30%|███       | 15/50 [00:11<00:35,  1.00s/it]\u001b[A\n",
            "Translating LSTM for F1 Score:  32%|███▏      | 16/50 [00:11<00:25,  1.32it/s]\u001b[A\n",
            "Translating LSTM for F1 Score:  34%|███▍      | 17/50 [00:12<00:25,  1.29it/s]\u001b[A\n",
            "Translating LSTM for F1 Score:  36%|███▌      | 18/50 [00:14<00:29,  1.07it/s]\u001b[A\n",
            "Translating LSTM for F1 Score:  38%|███▊      | 19/50 [00:14<00:25,  1.23it/s]\u001b[A\n",
            "Translating LSTM for F1 Score:  40%|████      | 20/50 [00:16<00:31,  1.05s/it]\u001b[A\n",
            "Translating LSTM for F1 Score:  42%|████▏     | 21/50 [00:19<00:45,  1.59s/it]\u001b[A\n",
            "Translating LSTM for F1 Score:  44%|████▍     | 22/50 [00:19<00:36,  1.29s/it]\u001b[A\n",
            "Translating LSTM for F1 Score:  46%|████▌     | 23/50 [00:21<00:35,  1.30s/it]\u001b[A\n",
            "Translating LSTM for F1 Score:  48%|████▊     | 24/50 [00:21<00:25,  1.04it/s]\u001b[A\n",
            "Translating LSTM for F1 Score:  50%|█████     | 25/50 [00:22<00:30,  1.22s/it]\u001b[A\n",
            "Translating LSTM for F1 Score:  52%|█████▏    | 26/50 [00:24<00:31,  1.32s/it]\u001b[A\n",
            "Translating LSTM for F1 Score:  54%|█████▍    | 27/50 [00:24<00:24,  1.05s/it]\u001b[A\n",
            "Translating LSTM for F1 Score:  56%|█████▌    | 28/50 [00:25<00:18,  1.19it/s]\u001b[A\n",
            "Translating LSTM for F1 Score:  58%|█████▊    | 29/50 [00:25<00:14,  1.40it/s]\u001b[A\n",
            "Translating LSTM for F1 Score:  60%|██████    | 30/50 [00:27<00:18,  1.10it/s]\u001b[A\n",
            "Translating LSTM for F1 Score:  62%|██████▏   | 31/50 [00:27<00:13,  1.41it/s]\u001b[A\n",
            "Translating LSTM for F1 Score:  64%|██████▍   | 32/50 [00:27<00:11,  1.51it/s]\u001b[A\n",
            "Translating LSTM for F1 Score:  66%|██████▌   | 33/50 [00:28<00:09,  1.79it/s]\u001b[A\n",
            "Translating LSTM for F1 Score:  68%|██████▊   | 34/50 [00:28<00:09,  1.65it/s]\u001b[A\n",
            "Translating LSTM for F1 Score:  70%|███████   | 35/50 [00:29<00:08,  1.75it/s]\u001b[A\n",
            "Translating LSTM for F1 Score:  72%|███████▏  | 36/50 [00:29<00:06,  2.11it/s]\u001b[A\n",
            "Translating LSTM for F1 Score:  74%|███████▍  | 37/50 [00:30<00:06,  2.08it/s]\u001b[A\n",
            "Translating LSTM for F1 Score:  76%|███████▌  | 38/50 [00:30<00:04,  2.52it/s]\u001b[A\n",
            "Translating LSTM for F1 Score:  78%|███████▊  | 39/50 [00:31<00:05,  2.08it/s]\u001b[A\n",
            "Translating LSTM for F1 Score:  80%|████████  | 40/50 [00:31<00:04,  2.12it/s]\u001b[A\n",
            "Translating LSTM for F1 Score:  82%|████████▏ | 41/50 [00:32<00:05,  1.76it/s]\u001b[A\n",
            "Translating LSTM for F1 Score:  84%|████████▍ | 42/50 [00:32<00:03,  2.01it/s]\u001b[A\n",
            "Translating LSTM for F1 Score:  86%|████████▌ | 43/50 [00:33<00:03,  1.78it/s]\u001b[A\n",
            "Translating LSTM for F1 Score:  88%|████████▊ | 44/50 [00:34<00:04,  1.48it/s]\u001b[A\n",
            "Translating LSTM for F1 Score:  90%|█████████ | 45/50 [00:34<00:03,  1.49it/s]\u001b[A\n",
            "Translating LSTM for F1 Score:  92%|█████████▏| 46/50 [00:36<00:03,  1.10it/s]\u001b[A\n",
            "Translating LSTM for F1 Score:  94%|█████████▍| 47/50 [00:36<00:02,  1.27it/s]\u001b[A\n",
            "Translating LSTM for F1 Score:  96%|█████████▌| 48/50 [00:37<00:01,  1.43it/s]\u001b[A\n",
            "Translating LSTM for F1 Score:  98%|█████████▊| 49/50 [00:37<00:00,  1.65it/s]\u001b[A\n",
            "Translating LSTM for F1 Score: 100%|██████████| 50/50 [00:38<00:00,  1.31it/s]\n"
          ]
        }
      ],
      "source": [
        "lstm_model = load_model('/content/drive/MyDrive/models/Rmsprop/LSTM/model_2_filtred.h5')\n",
        "test_translations_lstm = [translate_sentence(txt,lstm_model) for txt in tqdm(reduced_test_data['fr_clean'].tolist(), \"Translating LSTM for F1 Score\")]\n",
        "# Save the data using pickle\n",
        "with open('/content/drive/MyDrive/models/Rmsprop/LSTM/test_translations_lstm_filtre.pkl', 'wb') as file:\n",
        "    pickle.dump(test_translations_lstm, file)"
      ]
    },
    {
      "cell_type": "markdown",
      "metadata": {
        "id": "6txLgVK8lDV4"
      },
      "source": [
        "### GRU"
      ]
    },
    {
      "cell_type": "code",
      "execution_count": null,
      "metadata": {
        "colab": {
          "base_uri": "https://localhost:8080/"
        },
        "id": "tFMBBLJiTQwt",
        "outputId": "08f88ba4-856e-4244-b300-c0829cff612b"
      },
      "outputs": [
        {
          "name": "stderr",
          "output_type": "stream",
          "text": [
            "\n",
            "Translating GRU for F1 Score:   0%|          | 0/50 [00:00<?, ?it/s]\u001b[A\n",
            "Translating GRU for F1 Score:   2%|▏         | 1/50 [00:01<01:02,  1.28s/it]\u001b[A\n",
            "Translating GRU for F1 Score:   4%|▍         | 2/50 [00:02<01:00,  1.26s/it]\u001b[A\n",
            "Translating GRU for F1 Score:   6%|▌         | 3/50 [00:03<00:58,  1.25s/it]\u001b[A\n",
            "Translating GRU for F1 Score:   8%|▊         | 4/50 [00:05<00:57,  1.25s/it]\u001b[A\n",
            "Translating GRU for F1 Score:  10%|█         | 5/50 [00:07<01:15,  1.67s/it]\u001b[A\n",
            "Translating GRU for F1 Score:  12%|█▏        | 6/50 [00:09<01:17,  1.76s/it]\u001b[A\n",
            "Translating GRU for F1 Score:  14%|█▍        | 7/50 [00:12<01:34,  2.20s/it]\u001b[A\n",
            "Translating GRU for F1 Score:  16%|█▌        | 8/50 [00:15<01:42,  2.44s/it]\u001b[A\n",
            "Translating GRU for F1 Score:  18%|█▊        | 9/50 [00:19<02:03,  3.01s/it]\u001b[A\n",
            "Translating GRU for F1 Score:  20%|██        | 10/50 [00:22<01:55,  2.90s/it]\u001b[A\n",
            "Translating GRU for F1 Score:  22%|██▏       | 11/50 [00:24<01:43,  2.66s/it]\u001b[A\n",
            "Translating GRU for F1 Score:  24%|██▍       | 12/50 [00:26<01:30,  2.38s/it]\u001b[A\n",
            "Translating GRU for F1 Score:  26%|██▌       | 13/50 [00:28<01:25,  2.30s/it]\u001b[A\n",
            "Translating GRU for F1 Score:  28%|██▊       | 14/50 [00:30<01:17,  2.15s/it]\u001b[A\n",
            "Translating GRU for F1 Score:  30%|███       | 15/50 [00:31<01:12,  2.06s/it]\u001b[A\n",
            "Translating GRU for F1 Score:  32%|███▏      | 16/50 [00:34<01:14,  2.19s/it]\u001b[A\n",
            "Translating GRU for F1 Score:  34%|███▍      | 17/50 [00:36<01:07,  2.06s/it]\u001b[A\n",
            "Translating GRU for F1 Score:  36%|███▌      | 18/50 [00:37<01:02,  1.94s/it]\u001b[A\n",
            "Translating GRU for F1 Score:  38%|███▊      | 19/50 [00:39<00:56,  1.82s/it]\u001b[A\n",
            "Translating GRU for F1 Score:  40%|████      | 20/50 [00:40<00:49,  1.66s/it]\u001b[A\n",
            "Translating GRU for F1 Score:  42%|████▏     | 21/50 [00:41<00:44,  1.54s/it]\u001b[A\n",
            "Translating GRU for F1 Score:  44%|████▍     | 22/50 [00:43<00:40,  1.45s/it]\u001b[A\n",
            "Translating GRU for F1 Score:  46%|████▌     | 23/50 [00:44<00:37,  1.38s/it]\u001b[A\n",
            "Translating GRU for F1 Score:  48%|████▊     | 24/50 [00:45<00:34,  1.34s/it]\u001b[A\n",
            "Translating GRU for F1 Score:  50%|█████     | 25/50 [00:46<00:33,  1.32s/it]\u001b[A\n",
            "Translating GRU for F1 Score:  52%|█████▏    | 26/50 [00:48<00:31,  1.30s/it]\u001b[A\n",
            "Translating GRU for F1 Score:  54%|█████▍    | 27/50 [00:49<00:30,  1.32s/it]\u001b[A\n",
            "Translating GRU for F1 Score:  56%|█████▌    | 28/50 [00:51<00:31,  1.41s/it]\u001b[A\n",
            "Translating GRU for F1 Score:  58%|█████▊    | 29/50 [00:52<00:29,  1.40s/it]\u001b[A\n",
            "Translating GRU for F1 Score:  60%|██████    | 30/50 [00:53<00:27,  1.36s/it]\u001b[A\n",
            "Translating GRU for F1 Score:  62%|██████▏   | 31/50 [00:55<00:25,  1.34s/it]\u001b[A\n",
            "Translating GRU for F1 Score:  64%|██████▍   | 32/50 [00:56<00:23,  1.32s/it]\u001b[A\n",
            "Translating GRU for F1 Score:  66%|██████▌   | 33/50 [00:57<00:22,  1.30s/it]\u001b[A\n",
            "Translating GRU for F1 Score:  68%|██████▊   | 34/50 [00:58<00:20,  1.29s/it]\u001b[A\n",
            "Translating GRU for F1 Score:  70%|███████   | 35/50 [01:00<00:19,  1.27s/it]\u001b[A\n",
            "Translating GRU for F1 Score:  72%|███████▏  | 36/50 [01:01<00:17,  1.26s/it]\u001b[A\n",
            "Translating GRU for F1 Score:  74%|███████▍  | 37/50 [01:02<00:17,  1.36s/it]\u001b[A\n",
            "Translating GRU for F1 Score:  76%|███████▌  | 38/50 [01:04<00:17,  1.44s/it]\u001b[A\n",
            "Translating GRU for F1 Score:  78%|███████▊  | 39/50 [01:05<00:15,  1.37s/it]\u001b[A\n",
            "Translating GRU for F1 Score:  80%|████████  | 40/50 [01:06<00:13,  1.32s/it]\u001b[A\n",
            "Translating GRU for F1 Score:  82%|████████▏ | 41/50 [01:08<00:11,  1.28s/it]\u001b[A\n",
            "Translating GRU for F1 Score:  84%|████████▍ | 42/50 [01:09<00:10,  1.26s/it]\u001b[A\n",
            "Translating GRU for F1 Score:  86%|████████▌ | 43/50 [01:10<00:08,  1.26s/it]\u001b[A\n",
            "Translating GRU for F1 Score:  88%|████████▊ | 44/50 [01:11<00:07,  1.26s/it]\u001b[A\n",
            "Translating GRU for F1 Score:  90%|█████████ | 45/50 [01:13<00:06,  1.26s/it]\u001b[A\n",
            "Translating GRU for F1 Score:  92%|█████████▏| 46/50 [01:14<00:05,  1.26s/it]\u001b[A\n",
            "Translating GRU for F1 Score:  94%|█████████▍| 47/50 [01:16<00:04,  1.38s/it]\u001b[A\n",
            "Translating GRU for F1 Score:  96%|█████████▌| 48/50 [01:17<00:02,  1.44s/it]\u001b[A\n",
            "Translating GRU for F1 Score:  98%|█████████▊| 49/50 [01:18<00:01,  1.38s/it]\u001b[A\n",
            "Translating GRU for F1 Score: 100%|██████████| 50/50 [01:20<00:00,  1.60s/it]\n"
          ]
        }
      ],
      "source": [
        "# # ############################### #\n",
        "gru_model = load_model('/content/drive/MyDrive/models/Adam/GRU/model_2_filtred.h5')\n",
        "test_translations_gru = [translate_sentence(txt,gru_model) for txt in tqdm(reduced_test_data['fr_clean'].tolist(), \"Translating GRU for F1 Score\")]\n",
        "# Save the data using pickle\n",
        "with open('/content/drive/MyDrive/models/Adam/GRU/test_translations_gru_filtre.pkl', 'wb') as file:\n",
        "    pickle.dump(test_translations_gru, file)"
      ]
    },
    {
      "cell_type": "code",
      "execution_count": null,
      "metadata": {
        "colab": {
          "base_uri": "https://localhost:8080/",
          "height": 427
        },
        "id": "0PbDctuwjz1K",
        "outputId": "196497e7-d5b2-468b-a33c-1a4a5589e9a5"
      },
      "outputs": [
        {
          "ename": "OSError",
          "evalue": "No file or directory found at /content/drive/MyDrive/models/Rmsprop/GRU/model_2_filtred.h5",
          "output_type": "error",
          "traceback": [
            "\u001b[0;31m---------------------------------------------------------------------------\u001b[0m",
            "\u001b[0;31mOSError\u001b[0m                                   Traceback (most recent call last)",
            "\u001b[0;32m<ipython-input-41-90030fad488e>\u001b[0m in \u001b[0;36m<cell line: 2>\u001b[0;34m()\u001b[0m\n\u001b[1;32m      1\u001b[0m \u001b[0;31m# # ############################### #\u001b[0m\u001b[0;34m\u001b[0m\u001b[0;34m\u001b[0m\u001b[0m\n\u001b[0;32m----> 2\u001b[0;31m \u001b[0mgru_model\u001b[0m \u001b[0;34m=\u001b[0m \u001b[0mload_model\u001b[0m\u001b[0;34m(\u001b[0m\u001b[0;34m'/content/drive/MyDrive/models/Rmsprop/GRU/model_2_filtred.h5'\u001b[0m\u001b[0;34m)\u001b[0m\u001b[0;34m\u001b[0m\u001b[0;34m\u001b[0m\u001b[0m\n\u001b[0m\u001b[1;32m      3\u001b[0m \u001b[0mtest_translations_gru\u001b[0m \u001b[0;34m=\u001b[0m \u001b[0;34m[\u001b[0m\u001b[0mtranslate_sentence\u001b[0m\u001b[0;34m(\u001b[0m\u001b[0mtxt\u001b[0m\u001b[0;34m,\u001b[0m\u001b[0mgru_model\u001b[0m\u001b[0;34m)\u001b[0m \u001b[0;32mfor\u001b[0m \u001b[0mtxt\u001b[0m \u001b[0;32min\u001b[0m \u001b[0mtqdm\u001b[0m\u001b[0;34m(\u001b[0m\u001b[0mreduced_test_data\u001b[0m\u001b[0;34m[\u001b[0m\u001b[0;34m'fr_clean'\u001b[0m\u001b[0;34m]\u001b[0m\u001b[0;34m.\u001b[0m\u001b[0mtolist\u001b[0m\u001b[0;34m(\u001b[0m\u001b[0;34m)\u001b[0m\u001b[0;34m,\u001b[0m \u001b[0;34m\"Translating GRU for F1 Score\"\u001b[0m\u001b[0;34m)\u001b[0m\u001b[0;34m]\u001b[0m\u001b[0;34m\u001b[0m\u001b[0;34m\u001b[0m\u001b[0m\n\u001b[1;32m      4\u001b[0m \u001b[0;31m# Save the data using pickle\u001b[0m\u001b[0;34m\u001b[0m\u001b[0;34m\u001b[0m\u001b[0m\n\u001b[1;32m      5\u001b[0m \u001b[0;32mwith\u001b[0m \u001b[0mopen\u001b[0m\u001b[0;34m(\u001b[0m\u001b[0;34m'/content/drive/MyDrive/models/Rmsprop/GRU/test_translations_gru_filtre.pkl'\u001b[0m\u001b[0;34m,\u001b[0m \u001b[0;34m'wb'\u001b[0m\u001b[0;34m)\u001b[0m \u001b[0;32mas\u001b[0m \u001b[0mfile\u001b[0m\u001b[0;34m:\u001b[0m\u001b[0;34m\u001b[0m\u001b[0;34m\u001b[0m\u001b[0m\n",
            "\u001b[0;32m/usr/local/lib/python3.10/dist-packages/keras/src/saving/saving_api.py\u001b[0m in \u001b[0;36mload_model\u001b[0;34m(filepath, custom_objects, compile, safe_mode, **kwargs)\u001b[0m\n\u001b[1;32m    260\u001b[0m \u001b[0;34m\u001b[0m\u001b[0m\n\u001b[1;32m    261\u001b[0m     \u001b[0;31m# Legacy case.\u001b[0m\u001b[0;34m\u001b[0m\u001b[0;34m\u001b[0m\u001b[0m\n\u001b[0;32m--> 262\u001b[0;31m     return legacy_sm_saving_lib.load_model(\n\u001b[0m\u001b[1;32m    263\u001b[0m         \u001b[0mfilepath\u001b[0m\u001b[0;34m,\u001b[0m \u001b[0mcustom_objects\u001b[0m\u001b[0;34m=\u001b[0m\u001b[0mcustom_objects\u001b[0m\u001b[0;34m,\u001b[0m \u001b[0mcompile\u001b[0m\u001b[0;34m=\u001b[0m\u001b[0mcompile\u001b[0m\u001b[0;34m,\u001b[0m \u001b[0;34m**\u001b[0m\u001b[0mkwargs\u001b[0m\u001b[0;34m\u001b[0m\u001b[0;34m\u001b[0m\u001b[0m\n\u001b[1;32m    264\u001b[0m     )\n",
            "\u001b[0;32m/usr/local/lib/python3.10/dist-packages/keras/src/utils/traceback_utils.py\u001b[0m in \u001b[0;36merror_handler\u001b[0;34m(*args, **kwargs)\u001b[0m\n\u001b[1;32m     68\u001b[0m             \u001b[0;31m# To get the full stack trace, call:\u001b[0m\u001b[0;34m\u001b[0m\u001b[0;34m\u001b[0m\u001b[0m\n\u001b[1;32m     69\u001b[0m             \u001b[0;31m# `tf.debugging.disable_traceback_filtering()`\u001b[0m\u001b[0;34m\u001b[0m\u001b[0;34m\u001b[0m\u001b[0m\n\u001b[0;32m---> 70\u001b[0;31m             \u001b[0;32mraise\u001b[0m \u001b[0me\u001b[0m\u001b[0;34m.\u001b[0m\u001b[0mwith_traceback\u001b[0m\u001b[0;34m(\u001b[0m\u001b[0mfiltered_tb\u001b[0m\u001b[0;34m)\u001b[0m \u001b[0;32mfrom\u001b[0m \u001b[0;32mNone\u001b[0m\u001b[0;34m\u001b[0m\u001b[0;34m\u001b[0m\u001b[0m\n\u001b[0m\u001b[1;32m     71\u001b[0m         \u001b[0;32mfinally\u001b[0m\u001b[0;34m:\u001b[0m\u001b[0;34m\u001b[0m\u001b[0;34m\u001b[0m\u001b[0m\n\u001b[1;32m     72\u001b[0m             \u001b[0;32mdel\u001b[0m \u001b[0mfiltered_tb\u001b[0m\u001b[0;34m\u001b[0m\u001b[0;34m\u001b[0m\u001b[0m\n",
            "\u001b[0;32m/usr/local/lib/python3.10/dist-packages/keras/src/saving/legacy/save.py\u001b[0m in \u001b[0;36mload_model\u001b[0;34m(filepath, custom_objects, compile, options)\u001b[0m\n\u001b[1;32m    232\u001b[0m                     \u001b[0;32mif\u001b[0m \u001b[0misinstance\u001b[0m\u001b[0;34m(\u001b[0m\u001b[0mfilepath_str\u001b[0m\u001b[0;34m,\u001b[0m \u001b[0mstr\u001b[0m\u001b[0;34m)\u001b[0m\u001b[0;34m:\u001b[0m\u001b[0;34m\u001b[0m\u001b[0;34m\u001b[0m\u001b[0m\n\u001b[1;32m    233\u001b[0m                         \u001b[0;32mif\u001b[0m \u001b[0;32mnot\u001b[0m \u001b[0mtf\u001b[0m\u001b[0;34m.\u001b[0m\u001b[0mio\u001b[0m\u001b[0;34m.\u001b[0m\u001b[0mgfile\u001b[0m\u001b[0;34m.\u001b[0m\u001b[0mexists\u001b[0m\u001b[0;34m(\u001b[0m\u001b[0mfilepath_str\u001b[0m\u001b[0;34m)\u001b[0m\u001b[0;34m:\u001b[0m\u001b[0;34m\u001b[0m\u001b[0;34m\u001b[0m\u001b[0m\n\u001b[0;32m--> 234\u001b[0;31m                             raise IOError(\n\u001b[0m\u001b[1;32m    235\u001b[0m                                 \u001b[0;34mf\"No file or directory found at {filepath_str}\"\u001b[0m\u001b[0;34m\u001b[0m\u001b[0;34m\u001b[0m\u001b[0m\n\u001b[1;32m    236\u001b[0m                             )\n",
            "\u001b[0;31mOSError\u001b[0m: No file or directory found at /content/drive/MyDrive/models/Rmsprop/GRU/model_2_filtred.h5"
          ]
        }
      ],
      "source": [
        "# # ############################### #\n",
        "gru_model = load_model('/content/drive/MyDrive/models/Rmsprop/GRU/model_2_filtred.h5')\n",
        "test_translations_gru = [translate_sentence(txt,gru_model) for txt in tqdm(reduced_test_data['fr_clean'].tolist(), \"Translating GRU for F1 Score\")]\n",
        "# Save the data using pickle\n",
        "with open('/content/drive/MyDrive/models/Rmsprop/GRU/test_translations_gru_filtre.pkl', 'wb') as file:\n",
        "    pickle.dump(test_translations_gru, file)"
      ]
    },
    {
      "cell_type": "markdown",
      "metadata": {
        "id": "h5r48n0GlFTX"
      },
      "source": [
        "### T5"
      ]
    },
    {
      "cell_type": "code",
      "execution_count": null,
      "metadata": {
        "colab": {
          "base_uri": "https://localhost:8080/"
        },
        "id": "n8DMIQhH8Tex",
        "outputId": "8d34b78d-2e2a-4a12-847f-5af02fa7dd67"
      },
      "outputs": [
        {
          "name": "stderr",
          "output_type": "stream",
          "text": [
            "\n",
            "Translating for F1 Score:   0%|          | 0/50 [00:00<?, ?it/s]\u001b[A\n",
            "Translating for F1 Score:   2%|▏         | 1/50 [00:00<00:46,  1.05it/s]\u001b[A\n",
            "Translating for F1 Score:   4%|▍         | 2/50 [00:02<01:14,  1.55s/it]\u001b[A\n",
            "Translating for F1 Score:   6%|▌         | 3/50 [00:05<01:31,  1.94s/it]\u001b[A\n",
            "Translating for F1 Score:   8%|▊         | 4/50 [00:06<01:18,  1.72s/it]\u001b[A\n",
            "Translating for F1 Score:  10%|█         | 5/50 [00:07<01:06,  1.47s/it]\u001b[A\n",
            "Translating for F1 Score:  12%|█▏        | 6/50 [00:08<00:55,  1.26s/it]\u001b[A\n",
            "Translating for F1 Score:  14%|█▍        | 7/50 [00:09<00:44,  1.04s/it]\u001b[A\n",
            "Translating for F1 Score:  16%|█▌        | 8/50 [00:10<00:46,  1.10s/it]\u001b[A\n",
            "Translating for F1 Score:  18%|█▊        | 9/50 [00:11<00:46,  1.14s/it]\u001b[A\n",
            "Translating for F1 Score:  20%|██        | 10/50 [00:12<00:36,  1.10it/s]\u001b[A\n",
            "Translating for F1 Score:  22%|██▏       | 11/50 [00:12<00:35,  1.10it/s]\u001b[A\n",
            "Translating for F1 Score:  24%|██▍       | 12/50 [00:14<00:41,  1.10s/it]\u001b[A\n",
            "Translating for F1 Score:  26%|██▌       | 13/50 [00:15<00:40,  1.10s/it]\u001b[A\n",
            "Translating for F1 Score:  28%|██▊       | 14/50 [00:16<00:40,  1.12s/it]\u001b[A\n",
            "Translating for F1 Score:  30%|███       | 15/50 [00:18<00:44,  1.28s/it]\u001b[A\n",
            "Translating for F1 Score:  32%|███▏      | 16/50 [00:18<00:33,  1.01it/s]\u001b[A\n",
            "Translating for F1 Score:  34%|███▍      | 17/50 [00:20<00:39,  1.18s/it]\u001b[A\n",
            "Translating for F1 Score:  36%|███▌      | 18/50 [00:21<00:35,  1.12s/it]\u001b[A\n",
            "Translating for F1 Score:  38%|███▊      | 19/50 [00:22<00:32,  1.06s/it]\u001b[A\n",
            "Translating for F1 Score:  40%|████      | 20/50 [00:24<00:40,  1.34s/it]\u001b[A\n",
            "Translating for F1 Score:  42%|████▏     | 21/50 [00:25<00:40,  1.41s/it]\u001b[A\n",
            "Translating for F1 Score:  44%|████▍     | 22/50 [00:26<00:34,  1.22s/it]\u001b[A\n",
            "Translating for F1 Score:  46%|████▌     | 23/50 [00:28<00:41,  1.54s/it]\u001b[A\n",
            "Translating for F1 Score:  48%|████▊     | 24/50 [00:29<00:30,  1.18s/it]\u001b[A\n",
            "Translating for F1 Score:  50%|█████     | 25/50 [00:30<00:26,  1.07s/it]\u001b[A\n",
            "Translating for F1 Score:  52%|█████▏    | 26/50 [00:31<00:30,  1.27s/it]\u001b[A\n",
            "Translating for F1 Score:  54%|█████▍    | 27/50 [00:32<00:24,  1.08s/it]\u001b[A\n",
            "Translating for F1 Score:  56%|█████▌    | 28/50 [00:33<00:21,  1.03it/s]\u001b[A\n",
            "Translating for F1 Score:  58%|█████▊    | 29/50 [00:34<00:21,  1.01s/it]\u001b[A\n",
            "Translating for F1 Score:  60%|██████    | 30/50 [00:36<00:28,  1.43s/it]\u001b[A\n",
            "Translating for F1 Score:  62%|██████▏   | 31/50 [00:36<00:20,  1.10s/it]\u001b[A\n",
            "Translating for F1 Score:  64%|██████▍   | 32/50 [00:37<00:18,  1.03s/it]\u001b[A\n",
            "Translating for F1 Score:  66%|██████▌   | 33/50 [00:38<00:14,  1.14it/s]\u001b[A\n",
            "Translating for F1 Score:  68%|██████▊   | 34/50 [00:39<00:13,  1.22it/s]\u001b[A\n",
            "Translating for F1 Score:  70%|███████   | 35/50 [00:39<00:11,  1.34it/s]\u001b[A\n",
            "Translating for F1 Score:  72%|███████▏  | 36/50 [00:40<00:09,  1.47it/s]\u001b[A\n",
            "Translating for F1 Score:  74%|███████▍  | 37/50 [00:41<00:13,  1.03s/it]\u001b[A\n",
            "Translating for F1 Score:  76%|███████▌  | 38/50 [00:43<00:12,  1.05s/it]\u001b[A\n",
            "Translating for F1 Score:  78%|███████▊  | 39/50 [00:45<00:15,  1.40s/it]\u001b[A\n",
            "Translating for F1 Score:  80%|████████  | 40/50 [00:45<00:11,  1.20s/it]\u001b[A\n",
            "Translating for F1 Score:  82%|████████▏ | 41/50 [00:46<00:09,  1.08s/it]\u001b[A\n",
            "Translating for F1 Score:  84%|████████▍ | 42/50 [00:47<00:07,  1.05it/s]\u001b[A\n",
            "Translating for F1 Score:  86%|████████▌ | 43/50 [00:49<00:08,  1.27s/it]\u001b[A\n",
            "Translating for F1 Score:  88%|████████▊ | 44/50 [00:50<00:07,  1.17s/it]\u001b[A\n",
            "Translating for F1 Score:  90%|█████████ | 45/50 [00:51<00:05,  1.03s/it]\u001b[A\n",
            "Translating for F1 Score:  92%|█████████▏| 46/50 [00:53<00:05,  1.42s/it]\u001b[A\n",
            "Translating for F1 Score:  94%|█████████▍| 47/50 [00:53<00:03,  1.15s/it]\u001b[A\n",
            "Translating for F1 Score:  96%|█████████▌| 48/50 [00:54<00:01,  1.03it/s]\u001b[A\n",
            "Translating for F1 Score:  98%|█████████▊| 49/50 [00:55<00:00,  1.16it/s]\u001b[A\n",
            "Translating for F1 Score: 100%|██████████| 50/50 [00:55<00:00,  1.11s/it]\n"
          ]
        }
      ],
      "source": [
        "# ############################### #\n",
        "transformer = load_model('/content/drive/MyDrive/models/Adam/T5/model_2_filtred.h5')\n",
        "test_translations_transformer = [decode_sequence(txt,transformer) for txt in tqdm(reduced_test_data['fr_clean'].tolist(), \"Translating for F1 Score\")]\n",
        "# Save the data using pickle\n",
        "with open('/content/drive/MyDrive/models/Adam/T5/test_translations_transformer_filtre.pkl', 'wb') as file:\n",
        "    pickle.dump(test_translations_transformer, file)"
      ]
    },
    {
      "cell_type": "code",
      "execution_count": null,
      "metadata": {
        "id": "6g86kHtY8Tex"
      },
      "outputs": [],
      "source": [
        "# ############################### #\n",
        "transformer = load_model('/content/drive/MyDrive/models/Rmsprop/T5/model_2_filtred.h5')\n",
        "test_translations_transformer = [decode_sequence(txt,transformer) for txt in tqdm(reduced_test_data['fr_clean'].tolist(), \"Translating for F1 Score\")]\n",
        "# Save the data using pickle\n",
        "with open('/content/drive/MyDrive/models/Rmsprop/T5/test_translations_transformer_filtre.pkl', 'wb') as file:\n",
        "    pickle.dump(test_translations_transformer, file)"
      ]
    },
    {
      "cell_type": "markdown",
      "metadata": {
        "id": "Om7ve1PZTsK5"
      },
      "source": [
        "## Unknow values"
      ]
    },
    {
      "cell_type": "markdown",
      "metadata": {
        "id": "ZlCyQ3j7MuEY"
      },
      "source": [
        "version 1 sans filtre tous premier models qu'ont a fait spec :\n",
        "- embed_dim 256\n",
        "- latent 512\n",
        "- epoch 10\n",
        "- vocab size 15000\n",
        "- sentence length 20"
      ]
    },
    {
      "cell_type": "code",
      "execution_count": null,
      "metadata": {
        "colab": {
          "base_uri": "https://localhost:8080/",
          "height": 586
        },
        "id": "wFq1Kdk3okBi",
        "outputId": "f34c5af0-eb5c-40b6-9e2c-106240cef026"
      },
      "outputs": [
        {
          "data": {
            "image/png": "[encoded data removed]",
            "text/plain": [
              "<Figure size 1000x600 with 1 Axes>"
            ]
          },
          "metadata": {},
          "output_type": "display_data"
        }
      ],
      "source": [
        "# Load translated sentences from pickle files\n",
        "with open('/content/drive/MyDrive/models/Adam/T5/test_translations_transformer.pkl', 'rb') as file:\n",
        "    test_translations_transformer = pickle.load(file)\n",
        "with open('/content/drive/MyDrive/models/Adam/LSTM/test_translations_lstm.pkl', 'rb') as file:\n",
        "    test_translations_lstm = pickle.load(file)\n",
        "with open('/content/drive/MyDrive/models/Adam/GRU/test_translations_gru.pkl', 'rb') as file:\n",
        "    test_translations_gru = pickle.load(file)\n",
        "# Comptage des tokens [UNK] pour chaque modèle\n",
        "counts_adam_old = [\n",
        "    count_unk_tokens(test_translations_gru),\n",
        "    count_unk_tokens(test_translations_lstm),\n",
        "    count_unk_tokens(test_translations_transformer)\n",
        "]\n",
        "\n",
        "labels_adam_old = ['GRU', 'LSTM', 'Transformer']\n",
        "\n",
        "# Création du graphique\n",
        "plt.figure(figsize=(10, 6))\n",
        "bars = plt.bar(labels_adam_old, counts_adam_old)\n",
        "plt.xlabel('Modèles de Traduction')\n",
        "plt.ylabel('Nombre total de tokens [UNK]')\n",
        "plt.title('Comptage des tokens [UNK] pour la version 1 des modeles (Adam)')\n",
        "# Adding data labels\n",
        "for bar in bars:\n",
        "    yval = bar.get_height()\n",
        "    plt.text(bar.get_x() + bar.get_width()/2.0, yval, int(yval), va='bottom')  # va: vertical alignment\n",
        "\n",
        "plt.xticks(rotation=15)\n",
        "plt.show()"
      ]
    },
    {
      "cell_type": "markdown",
      "metadata": {
        "id": "YsNcPwdJNDAh"
      },
      "source": [
        "version 2 avec l'attention appliquer au lstm et gru meme spec :\n",
        "- embed_dim 256\n",
        "- latent 512\n",
        "- epoch 20\n",
        "- vocab size 15000\n",
        "- sentence length 20"
      ]
    },
    {
      "cell_type": "code",
      "execution_count": null,
      "metadata": {
        "colab": {
          "base_uri": "https://localhost:8080/",
          "height": 586
        },
        "id": "OD5Bmxz5NCJ2",
        "outputId": "7901397d-6a4a-42ab-aec6-2ae20c514f2e"
      },
      "outputs": [
        {
          "data": {
            "image/png": "[encoded data removed]",
            "text/plain": [
              "<Figure size 1000x600 with 1 Axes>"
            ]
          },
          "metadata": {},
          "output_type": "display_data"
        }
      ],
      "source": [
        "# Load translated sentences from pickle files\n",
        "with open('/content/drive/MyDrive/models/Adam/T5/test_translations_transformer_adam.pkl', 'rb') as file:\n",
        "    test_translations_transformer_v2 = pickle.load(file)\n",
        "with open('/content/drive/MyDrive/models/Adam/LSTM/test_translations_lstm_adam.pkl', 'rb') as file:\n",
        "    test_translations_lstm_v2 = pickle.load(file)\n",
        "with open('/content/drive/MyDrive/models/Adam/GRU/test_translations_gru_adam.pkl', 'rb') as file:\n",
        "    test_translations_gru_v2 = pickle.load(file)\n",
        "# Comptage des tokens [UNK] pour chaque modèle\n",
        "counts_adam_old = [\n",
        "    count_unk_tokens(test_translations_gru_v2),\n",
        "    count_unk_tokens(test_translations_lstm_v2),\n",
        "    count_unk_tokens(test_translations_transformer_v2)\n",
        "]\n",
        "\n",
        "labels_adam_old = ['GRU', 'LSTM', 'Transformer']\n",
        "\n",
        "# Creating the plot\n",
        "plt.figure(figsize=(10, 6))\n",
        "bars = plt.bar(labels_adam_old, counts_adam_old)\n",
        "plt.xlabel('Modèles de Traduction')\n",
        "plt.ylabel('Nombre total de tokens [UNK]')\n",
        "plt.title('Comptage des tokens [UNK] pour la version 2 des modèles (Adam)')\n",
        "\n",
        "# Adding data labels\n",
        "for bar in bars:\n",
        "    yval = bar.get_height()\n",
        "    plt.text(bar.get_x() + bar.get_width()/2.0, yval, int(yval), va='bottom')  # va: vertical alignment\n",
        "\n",
        "plt.xticks(rotation=15)\n",
        "plt.show()\n"
      ]
    },
    {
      "cell_type": "markdown",
      "metadata": {
        "id": "EZQdK-gnNQCY"
      },
      "source": [
        "version 3 avec données filtrer spec:\n",
        "- embed dim 512\n",
        "- latent 1024\n",
        "- epoch 20\n",
        "- vocab size 15000\n",
        "- sentences length 50"
      ]
    },
    {
      "cell_type": "code",
      "execution_count": null,
      "metadata": {
        "colab": {
          "base_uri": "https://localhost:8080/",
          "height": 586
        },
        "id": "0_9JCW4TNqag",
        "outputId": "e035144f-9da9-4cec-fdd2-a1e928fa1a39"
      },
      "outputs": [
        {
          "data": {
            "image/png": "[encoded data removed]",
            "text/plain": [
              "<Figure size 1000x600 with 1 Axes>"
            ]
          },
          "metadata": {},
          "output_type": "display_data"
        }
      ],
      "source": [
        "# Load translated sentences from pickle files\n",
        "with open('/content/drive/MyDrive/models/Adam/T5/test_translations_transformer_filtre.pkl', 'rb') as file:\n",
        "    test_translations_transformer_v3 = pickle.load(file)\n",
        "with open('/content/drive/MyDrive/models/Rmsprop/LSTM/test_translations_lstm_filtre.pkl', 'rb') as file:\n",
        "    test_translations_lstm_v3 = pickle.load(file)\n",
        "with open('/content/drive/MyDrive/models/Adam/GRU/test_translations_gru_filtre.pkl', 'rb') as file:\n",
        "    test_translations_gru_v3 = pickle.load(file)\n",
        "# Comptage des tokens [UNK] pour chaque modèle\n",
        "counts = [\n",
        "    count_unk_tokens(test_translations_gru_v3),\n",
        "    count_unk_tokens(test_translations_lstm_v3),\n",
        "    count_unk_tokens(test_translations_transformer_v3)\n",
        "]\n",
        "\n",
        "labels = ['GRU', 'LSTM', 'Transformer']\n",
        "\n",
        "# Creating the plot\n",
        "plt.figure(figsize=(10, 6))\n",
        "bars = plt.bar(labels, counts)\n",
        "plt.xlabel('Modèles de Traduction')\n",
        "plt.ylabel('Nombre total de tokens [UNK]')\n",
        "plt.title('Comptage des tokens [UNK] pour la version 2 des modèles (Adam)')\n",
        "\n",
        "# Adding data labels\n",
        "for bar in bars:\n",
        "    yval = bar.get_height()\n",
        "    plt.text(bar.get_x() + bar.get_width()/2.0, yval, int(yval), va='bottom')  # va: vertical alignment\n",
        "\n",
        "plt.xticks(rotation=15)\n",
        "plt.show()\n"
      ]
    },
    {
      "cell_type": "markdown",
      "metadata": {
        "id": "AiTngy9TTw7p"
      },
      "source": [
        "## score"
      ]
    },
    {
      "cell_type": "code",
      "execution_count": null,
      "metadata": {
        "id": "1_KLNMqyo0yp"
      },
      "outputs": [],
      "source": [
        "# ############################### #\n",
        "# Convertir les textes anglais réels et les traductions en séquences de tokens\n",
        "true_sequences = [en_vectorization([txt])[0].numpy() for txt in tqdm(reduced_test_data['en_clean'].tolist(), \"EN vectorization\")]\n",
        "# Convert the translations to sequences of tokens\n",
        "predicted_sequences_lstm = [en_vectorization([txt])[0].numpy() for txt in tqdm(test_translations_lstm, \"Predicting LSTM\")]\n",
        "predicted_sequences_gru = [en_vectorization([txt])[0].numpy() for txt in tqdm(test_translations_gru, \"Predicting GRU\")]\n",
        "predicted_sequences_transformer = [en_vectorization([txt])[0].numpy() for txt in tqdm(test_translations_transformer, \"Predicting Transformer\")]\n",
        "\n",
        "predicted_sequences_lstm_v2 = [en_vectorization([txt])[0].numpy() for txt in tqdm(test_translations_lstm_v2, \"Predicting LSTM\")]\n",
        "predicted_sequences_gru_v2 = [en_vectorization([txt])[0].numpy() for txt in tqdm(test_translations_gru_v2, \"Predicting GRU\")]\n",
        "predicted_sequences_transformer_v2 = [en_vectorization([txt])[0].numpy() for txt in tqdm(test_translations_transformer_v2, \"Predicting Transformer\")]\n",
        "\n",
        "predicted_sequences_lstm_v3 = [en_vectorization([txt])[0].numpy() for txt in tqdm(test_translations_lstm_v3, \"Predicting LSTM\")]\n",
        "predicted_sequences_gru_v3 = [en_vectorization([txt])[0].numpy() for txt in tqdm(test_translations_gru_v3, \"Predicting GRU\")]\n",
        "predicted_sequences_transformer_v3 = [en_vectorization([txt])[0].numpy() for txt in tqdm(test_translations_transformer_v3, \"Predicting Transformer\")]"
      ]
    },
    {
      "cell_type": "code",
      "execution_count": null,
      "metadata": {
        "id": "20aFlmoYt2al"
      },
      "outputs": [],
      "source": [
        "def jaccard_similarity(set1, set2):\n",
        "    \"\"\"Calculate the Jaccard Similarity between two sets.\"\"\"\n",
        "    intersection = len(set(set1).intersection(set2))\n",
        "    union = len(set(set1).union(set2))\n",
        "    return intersection / union if union != 0 else 0\n",
        "\n",
        "# Calculate Jaccard Similarity for each model\n",
        "jaccard_lstm = [jaccard_similarity(true_seq, pred_seq) for true_seq, pred_seq in zip(true_sequences, predicted_sequences_lstm)]\n",
        "jaccard_gru = [jaccard_similarity(true_seq, pred_seq) for true_seq, pred_seq in zip(true_sequences, predicted_sequences_gru)]\n",
        "jaccard_transformer = [jaccard_similarity(true_seq, pred_seq) for true_seq, pred_seq in zip(true_sequences, predicted_sequences_transformer)]\n",
        "\n",
        "\n",
        "# Calculating the average Jaccard similarity for each model\n",
        "avg_jaccard_lstm = np.mean(jaccard_lstm)\n",
        "avg_jaccard_gru = np.mean(jaccard_gru)\n",
        "avg_jaccard_transformer = np.mean(jaccard_transformer)\n",
        "\n",
        "# Plotting\n",
        "plt.figure(figsize=(8, 6))\n",
        "models = ['LSTM', 'GRU', 'Transformer']\n",
        "avg_similarities = [avg_jaccard_lstm, avg_jaccard_gru, avg_jaccard_transformer]\n",
        "\n",
        "plt.bar(models, avg_similarities, color=['blue', 'green', 'red'])\n",
        "\n",
        "plt.xlabel('Model')\n",
        "plt.ylabel('Average Jaccard Similarity')\n",
        "plt.title('Average Jaccard Similarity Comparison Across Models')\n",
        "plt.ylim([0, 1])  # Jaccard similarity ranges from 0 to 1\n",
        "\n",
        "plt.show()"
      ]
    },
    {
      "cell_type": "code",
      "execution_count": null,
      "metadata": {
        "id": "ZQ_FVvrIr7rx"
      },
      "outputs": [],
      "source": [
        "from nltk.translate.bleu_score import corpus_bleu\n",
        "\n",
        "# Calculate BLEU scores for each model\n",
        "references = [[ref.split()] for ref in reduced_test_data['en_clean'].tolist()]\n",
        "\n",
        "candidates_lstm = [trans.split() for trans in test_translations_lstm]\n",
        "candidates_gru = [trans.split() for trans in test_translations_gru]\n",
        "candidates_transformer = [trans.split() for trans in test_translations_transformer]\n",
        "\n",
        "bleu_score_lstm = corpus_bleu(references, candidates_lstm)\n",
        "bleu_score_gru = corpus_bleu(references, candidates_gru)\n",
        "bleu_score_transformer = corpus_bleu(references, candidates_transformer)\n",
        "\n",
        "# Plot bar chart\n",
        "model_names = ['LSTM', 'GRU', 'Transformer']\n",
        "bleu_scores = [bleu_score_lstm, bleu_score_gru, bleu_score_transformer]\n",
        "\n",
        "plt.figure(figsize=(10, 6))\n",
        "plt.bar(model_names, bleu_scores, color='skyblue')\n",
        "plt.xlabel('Model')\n",
        "plt.ylabel('BLEU Score')\n",
        "plt.title('BLEU Score for Different Models')\n",
        "\n",
        "for i, score in enumerate(bleu_scores):\n",
        "    plt.text(i, score + 0.02, f'{score:.2f}', ha='center', va='bottom', fontsize=12, color='black')\n",
        "\n",
        "plt.ylim(0, 1.0)\n",
        "plt.grid(axis='y', linestyle='--', alpha=0.7)\n",
        "plt.tight_layout()\n",
        "plt.show()\n"
      ]
    },
    {
      "cell_type": "code",
      "execution_count": null,
      "metadata": {
        "id": "nihtOXwlkSeu"
      },
      "outputs": [],
      "source": []
    }
  ],
  "metadata": {
    "accelerator": "GPU",
    "colab": {
      "collapsed_sections": [
        "NH03a3ZZme7Q",
        "Z8mVsINuGnci",
        "RtLByJ90EB4R",
        "FTyRsK3kWt0f",
        "iwb29BGYPMfa",
        "81wqKAjhI5Cj",
        "5ITSsHAxLK9E",
        "jlNm0z9WORb5",
        "2qz5f0oPQLh8",
        "QYyFVWU5cS3G",
        "6y04qdRLdh0b",
        "En5dD7rg6X7B",
        "mXBUXo1QWdsl",
        "Xn1fvCjHXGD9",
        "Bxj2w8_gRfg5",
        "HrHOuOai73tj",
        "tNBFGUcEEGd-",
        "BcMoBfipEIyf",
        "c5CgPY0RELNZ",
        "54DuwbYG66UL",
        "yfRAwMgn8h6g",
        "BGI3O7KO6-UR",
        "WmvDwF4lTk-0",
        "RLvPP-mDcZj-",
        "2lEyO9EHsfb1",
        "cAzjVdPQsjW0",
        "i3IFOeO6Cyzr",
        "6txLgVK8lDV4",
        "h5r48n0GlFTX"
      ],
      "provenance": [],
      "include_colab_link": true
    },
    "kernelspec": {
      "display_name": "Python 3",
      "name": "python3"
    },
    "language_info": {
      "name": "python"
    }
  },
  "nbformat": 4,
  "nbformat_minor": 0
}